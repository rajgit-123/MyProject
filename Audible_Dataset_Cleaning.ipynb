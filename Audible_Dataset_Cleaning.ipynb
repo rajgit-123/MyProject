{
  "metadata": {
    "kernelspec": {
      "language": "python",
      "display_name": "Python 3",
      "name": "python3"
    },
    "language_info": {
      "name": "python",
      "version": "3.10.14",
      "mimetype": "text/x-python",
      "codemirror_mode": {
        "name": "ipython",
        "version": 3
      },
      "pygments_lexer": "ipython3",
      "nbconvert_exporter": "python",
      "file_extension": ".py"
    },
    "kaggle": {
      "accelerator": "none",
      "dataSources": [
        {
          "sourceId": 3444204,
          "sourceType": "datasetVersion",
          "datasetId": 2074744
        }
      ],
      "dockerImageVersionId": 30786,
      "isInternetEnabled": true,
      "language": "python",
      "sourceType": "notebook",
      "isGpuEnabled": false
    },
    "colab": {
      "provenance": [],
      "include_colab_link": true
    }
  },
  "nbformat_minor": 0,
  "nbformat": 4,
  "cells": [
    {
      "cell_type": "markdown",
      "metadata": {
        "id": "view-in-github",
        "colab_type": "text"
      },
      "source": [
        "<a href=\"https://colab.research.google.com/github/rajgit-123/MyProject/blob/master/Audible_Dataset_Cleaning.ipynb\" target=\"_parent\"><img src=\"https://colab.research.google.com/assets/colab-badge.svg\" alt=\"Open In Colab\"/></a>"
      ]
    },
    {
      "source": [
        "# IMPORTANT: RUN THIS CELL IN ORDER TO IMPORT YOUR KAGGLE DATA SOURCES,\n",
        "# THEN FEEL FREE TO DELETE THIS CELL.\n",
        "# NOTE: THIS NOTEBOOK ENVIRONMENT DIFFERS FROM KAGGLE'S PYTHON\n",
        "# ENVIRONMENT SO THERE MAY BE MISSING LIBRARIES USED BY YOUR\n",
        "# NOTEBOOK.\n",
        "import kagglehub\n",
        "snehangsude_audible_dataset_path = kagglehub.dataset_download('snehangsude/audible-dataset')\n",
        "\n",
        "print('Data source import complete.')\n"
      ],
      "metadata": {
        "id": "DopY3KrsRE4W"
      },
      "cell_type": "code",
      "outputs": [],
      "execution_count": null
    },
    {
      "cell_type": "code",
      "source": [
        "# This Python 3 environment comes with many helpful analytics libraries installed\n",
        "# It is defined by the kaggle/python Docker image: https://github.com/kaggle/docker-python\n",
        "# For example, here's several helpful packages to load\n",
        "\n",
        "import numpy as np # linear algebra\n",
        "import pandas as pd # data processing, CSV file I/O (e.g. pd.read_csv)\n",
        "\n",
        "# Input data files are available in the read-only \"../input/\" directory\n",
        "# For example, running this (by clicking run or pressing Shift+Enter) will list all files under the input directory\n",
        "\n",
        "import os\n",
        "for dirname, _, filenames in os.walk('/kaggle/input'):\n",
        "    for filename in filenames:\n",
        "        print(os.path.join(dirname, filename))\n",
        "\n",
        "# You can write up to 20GB to the current directory (/kaggle/working/) that gets preserved as output when you create a version using \"Save & Run All\"\n",
        "# You can also write temporary files to /kaggle/temp/, but they won't be saved outside of the current session"
      ],
      "metadata": {
        "_uuid": "8f2839f25d086af736a60e9eeb907d3b93b6e0e5",
        "_cell_guid": "b1076dfc-b9ad-4769-8c92-a6c4dae69d19",
        "trusted": true,
        "id": "FCHlh0y7RE4Y"
      },
      "outputs": [],
      "execution_count": null
    },
    {
      "cell_type": "code",
      "source": [
        "import pandas as pd\n",
        "import numpy as np\n",
        "\n",
        "path =\"/kaggle/input/audible-dataset/\"\n",
        "df=pd.read_csv(path+ \"audible_uncleaned.csv\")\n",
        "df.head()"
      ],
      "metadata": {
        "trusted": true,
        "execution": {
          "iopub.status.busy": "2024-11-21T05:25:26.161576Z",
          "iopub.execute_input": "2024-11-21T05:25:26.161993Z",
          "iopub.status.idle": "2024-11-21T05:25:26.491104Z",
          "shell.execute_reply.started": "2024-11-21T05:25:26.16196Z",
          "shell.execute_reply": "2024-11-21T05:25:26.489981Z"
        },
        "id": "4f7bizA-RE4Z"
      },
      "outputs": [],
      "execution_count": null
    },
    {
      "cell_type": "code",
      "source": [
        "df.isnull().sum() # to check  null vaules"
      ],
      "metadata": {
        "trusted": true,
        "execution": {
          "iopub.status.busy": "2024-11-21T05:25:29.685396Z",
          "iopub.execute_input": "2024-11-21T05:25:29.685878Z",
          "iopub.status.idle": "2024-11-21T05:25:29.730683Z",
          "shell.execute_reply.started": "2024-11-21T05:25:29.685837Z",
          "shell.execute_reply": "2024-11-21T05:25:29.72948Z"
        },
        "id": "3pf69o7mRE4a"
      },
      "outputs": [],
      "execution_count": null
    },
    {
      "cell_type": "code",
      "source": [
        "def clean_authorNnarrator(x):\n",
        "    x=x.replace(\"Writtenby:\",\"\")\n",
        "    x=x.replace(\"Narratedby:\",\"\")\n",
        "    return x\n",
        "\n",
        "df['author']=df['author'].apply(clean_authorNnarrator)\n",
        "df['narrator']=df['narrator'].apply(clean_authorNnarrator)"
      ],
      "metadata": {
        "trusted": true,
        "execution": {
          "iopub.status.busy": "2024-11-21T05:25:33.651684Z",
          "iopub.execute_input": "2024-11-21T05:25:33.652494Z",
          "iopub.status.idle": "2024-11-21T05:25:33.745474Z",
          "shell.execute_reply.started": "2024-11-21T05:25:33.65245Z",
          "shell.execute_reply": "2024-11-21T05:25:33.744309Z"
        },
        "id": "eYIwUxIMRE4a"
      },
      "outputs": [],
      "execution_count": null
    },
    {
      "cell_type": "code",
      "source": [
        "df.head()\n",
        "df['name'].head(20)\n",
        "import re\n",
        "\n",
        "def convert_to_minutes(text):\n",
        "    # Extract hours and minutes\n",
        "    hours = re.findall(r'(\\d+)\\s*hrs?', text)\n",
        "    minutes = re.findall(r'(\\d+)\\s*mins?', text)\n",
        "\n",
        "    # Convert to integers\n",
        "    hours = int(hours[0]) if hours else 0\n",
        "    minutes = int(minutes[0]) if minutes else 0\n",
        "\n",
        "    # Calculate total minutes\n",
        "    total_minutes = hours * 60 + minutes\n",
        "    return total_minutes\n",
        "\n",
        "df['time']=df['time'].apply(convert_to_minutes)"
      ],
      "metadata": {
        "trusted": true,
        "execution": {
          "iopub.status.busy": "2024-11-21T05:25:37.549596Z",
          "iopub.execute_input": "2024-11-21T05:25:37.550029Z",
          "iopub.status.idle": "2024-11-21T05:25:37.882572Z",
          "shell.execute_reply.started": "2024-11-21T05:25:37.549988Z",
          "shell.execute_reply": "2024-11-21T05:25:37.881706Z"
        },
        "id": "XFJr-0SiRE4b"
      },
      "outputs": [],
      "execution_count": null
    },
    {
      "cell_type": "code",
      "source": [
        "df[\"stars1\"]=df[\"stars\"].str.split().str.get(0).str.replace(\"Not\",\"0\")\n",
        "df['stars1'] = pd.to_numeric(df['stars1'], errors='coerce').round().astype('Int64')\n",
        "df[\"rating\"]=df[\"stars\"].str.split(\"stars\").str.get(1).str.split().str.get(0)\n",
        "df['rating'] = pd.to_numeric(df['rating'], errors='coerce')\n",
        "df=df.drop(columns=[\"stars\"])\n",
        "df.head()"
      ],
      "metadata": {
        "trusted": true,
        "execution": {
          "iopub.status.busy": "2024-11-21T05:25:42.091714Z",
          "iopub.execute_input": "2024-11-21T05:25:42.09305Z",
          "iopub.status.idle": "2024-11-21T05:25:42.687948Z",
          "shell.execute_reply.started": "2024-11-21T05:25:42.093005Z",
          "shell.execute_reply": "2024-11-21T05:25:42.686822Z"
        },
        "id": "tsJE13WTRE4b"
      },
      "outputs": [],
      "execution_count": null
    },
    {
      "cell_type": "code",
      "source": [
        "df[\"name\"]=df[\"name\"].str.split(\"#\").str.get(0)\n",
        "df[\"name\"]=df[\"name\"].str.split(\":\").str.get(0)\n",
        "df[\"releasedate\"]=pd.to_datetime(df[\"releasedate\"])\n",
        "df = df.rename(columns={'stars1': 'stars', 'time': 'duration in mints'})\n",
        "df.head()"
      ],
      "metadata": {
        "trusted": true,
        "execution": {
          "iopub.status.busy": "2024-11-21T05:33:38.728494Z",
          "iopub.execute_input": "2024-11-21T05:33:38.728993Z",
          "iopub.status.idle": "2024-11-21T05:33:39.14268Z",
          "shell.execute_reply.started": "2024-11-21T05:33:38.728951Z",
          "shell.execute_reply": "2024-11-21T05:33:39.141535Z"
        },
        "id": "zVTNunN2RE4b"
      },
      "outputs": [],
      "execution_count": null
    },
    {
      "cell_type": "code",
      "source": [
        "## Getting Stars and ratings\n",
        "#df[stars_and_ratings] = df.stars.str.split(expand=True)\n",
        "#stars_and_ratings= df[stars_and_ratings].str.split(' ',expand = True)\n",
        "\n",
        "# create the columns of Stars and ratings\n",
        "df['stars'] = stars_and_ratings[0]\n",
        "df['ratings'] = stars_and_ratings[4]\n",
        "\n",
        "# Removing the alphabets from the ratings and stars columns and changing data type\n",
        "df['ratings'] = df['ratings'].str.extract('(\\d+)').astype(float)\n",
        "df['stars'] = df['stars'].replace('Not',0).astype(float)\n",
        "\n",
        "df['ratings'].fillna(0 , inplace=True)\n",
        "df.head()\n",
        "\n",
        "def stars_clean(text):\n",
        "    # Extract hours and minutes\n",
        "    text= re.findall(r'(\\d+)\\s*out?', text)\n",
        "    return text"
      ],
      "metadata": {
        "trusted": true,
        "execution": {
          "iopub.status.busy": "2024-11-21T05:02:52.535174Z",
          "iopub.execute_input": "2024-11-21T05:02:52.535955Z",
          "iopub.status.idle": "2024-11-21T05:02:52.629654Z",
          "shell.execute_reply.started": "2024-11-21T05:02:52.535916Z",
          "shell.execute_reply": "2024-11-21T05:02:52.62855Z"
        },
        "id": "srWV516ORE4c"
      },
      "outputs": [],
      "execution_count": null
    },
    {
      "cell_type": "code",
      "source": [
        "import re\n",
        "\n",
        "def convert_to_minutes(time_str):\n",
        "    # Use regex to extract hours and minutes from the string\n",
        "    match = re.match(r\"(\\d+)\\s*hrs?\\s*and\\s*(\\d+)\\s*mins?\", time_str)\n",
        "\n",
        "    if match:\n",
        "        # Extract hours and minutes as integers\n",
        "        hours = int(match.group(1))\n",
        "        minutes = int(match.group(2))\n",
        "\n",
        "        # Convert hours to minutes and add the minutes\n",
        "        total_minutes = (hours * 60) + minutes\n",
        "        return total_minutes\n",
        "    else:\n",
        "        raise ValueError(\"The input string is not in the expected format 'X hrs and Y mins'\")\n",
        "\n",
        "# Example usage\n",
        "df['time']=df['time'].apply(convert_to_minutes)\n",
        "\n",
        "df.head()\n",
        "\n",
        "print(df['time'].dtype)\n",
        "df['time'] = df['time'].astype('string')\n",
        "print(df['time'].dtype)\n",
        "\n",
        "def clean_time(x):\n",
        "    for time in x:\n",
        "\n",
        "        if(len(x)>1):\n",
        "            hrs=x.split(\" \")[0]\n",
        "            mints=x.split(\" \")[3]\n",
        "            x=(int(hrs)* 60 )+(int(mints) *1)\n",
        "        else:\n",
        "            x=(int(hrs)* 60 )\n",
        "\n",
        "    return str(x)\n",
        "\n",
        "print(df['time'])\n",
        "\n",
        "df.dtypes\n",
        "df['time'] = df['time'].apply(clean_time)\n"
      ],
      "metadata": {
        "trusted": true,
        "id": "5qDyKJ8vRE4c"
      },
      "outputs": [],
      "execution_count": null
    },
    {
      "cell_type": "code",
      "source": [
        "def clean_time(x):\n",
        "    hrs=x.split()[0]\n",
        "    if(len(x)>1):\n",
        "        mints=x.split()[3]\n",
        "        x=(int(hrs)* 60 )+(int(mints) *1)\n",
        "    else:\n",
        "         x=(int(hrs)* 60 )\n",
        "    return x\n",
        "\n",
        "#time=clean_time(\"2 hrs and 3 mins\")\n",
        "#print(time)\n",
        "\n",
        "\n",
        "\n",
        "#df['time']=df['time'].astype('string').apply(clean_time)\n",
        "\n"
      ],
      "metadata": {
        "trusted": true,
        "id": "qjPlV8owRE4c"
      },
      "outputs": [],
      "execution_count": null
    },
    {
      "cell_type": "code",
      "source": [],
      "metadata": {
        "trusted": true,
        "id": "xJE-nsbyRE4c"
      },
      "outputs": [],
      "execution_count": null
    }
  ]
}