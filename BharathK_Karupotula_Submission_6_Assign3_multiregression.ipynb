{
  "nbformat": 4,
  "nbformat_minor": 0,
  "metadata": {
    "colab": {
      "provenance": [],
      "include_colab_link": true
    },
    "kernelspec": {
      "name": "python3",
      "display_name": "Python 3"
    },
    "language_info": {
      "name": "python"
    }
  },
  "cells": [
    {
      "cell_type": "markdown",
      "metadata": {
        "id": "view-in-github",
        "colab_type": "text"
      },
      "source": [
        "<a href=\"https://colab.research.google.com/github/rajgit-123/MyProject/blob/master/BharathK_Karupotula_Submission_6_Assign3_multiregression.ipynb\" target=\"_parent\"><img src=\"https://colab.research.google.com/assets/colab-badge.svg\" alt=\"Open In Colab\"/></a>"
      ]
    },
    {
      "cell_type": "markdown",
      "source": [
        " # Multi Regression Problem\n",
        "\n",
        "\n",
        "\n",
        "The \"Auto MPG\" dataset from the UCI Machine Learning Repository. This dataset is used to predict the miles per gallon (mpg) of a car based on its other attributes. It contains both continuous and categorical variables.\n",
        "\n",
        "You can download the dataset from here.\n",
        "\n",
        "The dataset contains the following attributes:\n",
        "\n",
        "\n",
        "**cylinders:** multi-valued discrete\n",
        "**displacement:** continuous\n",
        "**horsepower:** continuous\n",
        "**weight:** continuous\n",
        "**acceleration:** continuous\n",
        "**model year:** multi-valued discrete\n",
        "**origin:** multi-valued discrete\n",
        "**car name:** string (unique for each instance)\n",
        "\n",
        "The **target variable (y)**  is **mpg** (miles per gallon)."
      ],
      "metadata": {
        "id": "Wu44iyfqbv5L"
      }
    },
    {
      "cell_type": "code",
      "source": [],
      "metadata": {
        "id": "JHZp7f46GMxy"
      },
      "execution_count": null,
      "outputs": []
    },
    {
      "cell_type": "code",
      "execution_count": null,
      "metadata": {
        "id": "BIU2XqisbroE"
      },
      "outputs": [],
      "source": [
        "from sklearn.datasets import fetch_california_housing\n",
        "from sklearn.linear_model import LinearRegression\n",
        "from sklearn.model_selection import train_test_split\n",
        "from sklearn.metrics import mean_squared_error, r2_score\n",
        "from sklearn.preprocessing import StandardScaler\n",
        "from sklearn.preprocessing import LabelEncoder, OneHotEncoder\n",
        "from sklearn.compose import ColumnTransformer\n",
        "import pandas as pd\n",
        "import numpy as np\n",
        "import matplotlib.pyplot as plt\n",
        "%matplotlib inline"
      ]
    },
    {
      "cell_type": "markdown",
      "source": [
        "### Loading csv file and creating a dataframe\n",
        "- The loading_dataset function is designed to load a dataset from a CSV file into a pandas DataFrame. This function has the ability to handle datasets where values are separated by spaces rather than commas, as indicated by the delim_whitespace=True argument.\n",
        "- This DataFrame, df, is then returned as the output of the function."
      ],
      "metadata": {
        "id": "I3UE8aLQTadv"
      }
    },
    {
      "cell_type": "code",
      "source": [
        "def loading_dataset(file, names):\n",
        "  '''\n",
        "  This function loads a dataset from a CSV file into a pandas DataFrame.\n",
        "\n",
        "  Parameters:\n",
        "  file (str): The URL or local path of the CSV file to load. The CSV file should be in a format that can be read by pandas.read_csv().\n",
        "  names (list of str): A list of strings that will be used as column names for the DataFrame. The length of this list should match the number of columns in the CSV file.\n",
        "\n",
        "  Returns:\n",
        "  pandas.DataFrame: A DataFrame containing the data from the CSV file, with columns named according to the 'names' list.\n",
        "\n",
        "  '''\n"
      ],
      "metadata": {
        "id": "En2YRNb06QH5"
      },
      "execution_count": null,
      "outputs": []
    },
    {
      "cell_type": "code",
      "source": [
        "### Url to load data\n",
        "url = \"https://archive.ics.uci.edu/ml/machine-learning-databases/auto-mpg/auto-mpg.data\"\n",
        "### column names\n",
        "names = ['mpg', 'cylinders', 'displacement', 'horsepower', 'weight', 'acceleration', 'model year', 'origin', 'car name']\n",
        "\n",
        "###df = loading_dataset(____, names=____)"
      ],
      "metadata": {
        "id": "tosI4FkMCc2c"
      },
      "execution_count": null,
      "outputs": []
    },
    {
      "cell_type": "code",
      "source": [
        "from google.colab import drive\n",
        "import pandas as pd\n",
        "drive.mount('/content/drive', force_remount=True)\n",
        "file_path='/content/drive/MyDrive/auto-mpg.csv'\n",
        "names = ['mpg', 'cylinders', 'displacement', 'horsepower', 'weight', 'acceleration', 'model year', 'origin', 'car name']\n",
        "\n",
        "df =pd.read_csv(file_path)"
      ],
      "metadata": {
        "colab": {
          "base_uri": "https://localhost:8080/"
        },
        "id": "VWwMoTbNGPwd",
        "outputId": "92e946bc-e426-4adb-e928-9045df19e0af"
      },
      "execution_count": null,
      "outputs": [
        {
          "output_type": "stream",
          "name": "stdout",
          "text": [
            "Mounted at /content/drive\n"
          ]
        }
      ]
    },
    {
      "cell_type": "code",
      "source": [
        "### check the head of dataframe"
      ],
      "metadata": {
        "id": "rrA1WdxFIrTL"
      },
      "execution_count": null,
      "outputs": []
    },
    {
      "cell_type": "code",
      "source": [
        "df.head()"
      ],
      "metadata": {
        "id": "6maHMukOnJLc",
        "colab": {
          "base_uri": "https://localhost:8080/",
          "height": 206
        },
        "outputId": "16e16b99-613a-493c-b9f1-b85e3d7584d0"
      },
      "execution_count": null,
      "outputs": [
        {
          "output_type": "execute_result",
          "data": {
            "text/plain": [
              "    mpg  cylinders  displacement horsepower  weight  acceleration  model year  \\\n",
              "0  18.0          8         307.0        130    3504          12.0          70   \n",
              "1  15.0          8         350.0        165    3693          11.5          70   \n",
              "2  18.0          8         318.0        150    3436          11.0          70   \n",
              "3  16.0          8         304.0        150    3433          12.0          70   \n",
              "4  17.0          8         302.0        140    3449          10.5          70   \n",
              "\n",
              "   origin                   car name  \n",
              "0       1  chevrolet chevelle malibu  \n",
              "1       1          buick skylark 320  \n",
              "2       1         plymouth satellite  \n",
              "3       1              amc rebel sst  \n",
              "4       1                ford torino  "
            ],
            "text/html": [
              "\n",
              "\n",
              "  <div id=\"df-12a1ac78-0e6e-41ba-baf9-b52b778a242e\">\n",
              "    <div class=\"colab-df-container\">\n",
              "      <div>\n",
              "<style scoped>\n",
              "    .dataframe tbody tr th:only-of-type {\n",
              "        vertical-align: middle;\n",
              "    }\n",
              "\n",
              "    .dataframe tbody tr th {\n",
              "        vertical-align: top;\n",
              "    }\n",
              "\n",
              "    .dataframe thead th {\n",
              "        text-align: right;\n",
              "    }\n",
              "</style>\n",
              "<table border=\"1\" class=\"dataframe\">\n",
              "  <thead>\n",
              "    <tr style=\"text-align: right;\">\n",
              "      <th></th>\n",
              "      <th>mpg</th>\n",
              "      <th>cylinders</th>\n",
              "      <th>displacement</th>\n",
              "      <th>horsepower</th>\n",
              "      <th>weight</th>\n",
              "      <th>acceleration</th>\n",
              "      <th>model year</th>\n",
              "      <th>origin</th>\n",
              "      <th>car name</th>\n",
              "    </tr>\n",
              "  </thead>\n",
              "  <tbody>\n",
              "    <tr>\n",
              "      <th>0</th>\n",
              "      <td>18.0</td>\n",
              "      <td>8</td>\n",
              "      <td>307.0</td>\n",
              "      <td>130</td>\n",
              "      <td>3504</td>\n",
              "      <td>12.0</td>\n",
              "      <td>70</td>\n",
              "      <td>1</td>\n",
              "      <td>chevrolet chevelle malibu</td>\n",
              "    </tr>\n",
              "    <tr>\n",
              "      <th>1</th>\n",
              "      <td>15.0</td>\n",
              "      <td>8</td>\n",
              "      <td>350.0</td>\n",
              "      <td>165</td>\n",
              "      <td>3693</td>\n",
              "      <td>11.5</td>\n",
              "      <td>70</td>\n",
              "      <td>1</td>\n",
              "      <td>buick skylark 320</td>\n",
              "    </tr>\n",
              "    <tr>\n",
              "      <th>2</th>\n",
              "      <td>18.0</td>\n",
              "      <td>8</td>\n",
              "      <td>318.0</td>\n",
              "      <td>150</td>\n",
              "      <td>3436</td>\n",
              "      <td>11.0</td>\n",
              "      <td>70</td>\n",
              "      <td>1</td>\n",
              "      <td>plymouth satellite</td>\n",
              "    </tr>\n",
              "    <tr>\n",
              "      <th>3</th>\n",
              "      <td>16.0</td>\n",
              "      <td>8</td>\n",
              "      <td>304.0</td>\n",
              "      <td>150</td>\n",
              "      <td>3433</td>\n",
              "      <td>12.0</td>\n",
              "      <td>70</td>\n",
              "      <td>1</td>\n",
              "      <td>amc rebel sst</td>\n",
              "    </tr>\n",
              "    <tr>\n",
              "      <th>4</th>\n",
              "      <td>17.0</td>\n",
              "      <td>8</td>\n",
              "      <td>302.0</td>\n",
              "      <td>140</td>\n",
              "      <td>3449</td>\n",
              "      <td>10.5</td>\n",
              "      <td>70</td>\n",
              "      <td>1</td>\n",
              "      <td>ford torino</td>\n",
              "    </tr>\n",
              "  </tbody>\n",
              "</table>\n",
              "</div>\n",
              "      <button class=\"colab-df-convert\" onclick=\"convertToInteractive('df-12a1ac78-0e6e-41ba-baf9-b52b778a242e')\"\n",
              "              title=\"Convert this dataframe to an interactive table.\"\n",
              "              style=\"display:none;\">\n",
              "\n",
              "  <svg xmlns=\"http://www.w3.org/2000/svg\" height=\"24px\"viewBox=\"0 0 24 24\"\n",
              "       width=\"24px\">\n",
              "    <path d=\"M0 0h24v24H0V0z\" fill=\"none\"/>\n",
              "    <path d=\"M18.56 5.44l.94 2.06.94-2.06 2.06-.94-2.06-.94-.94-2.06-.94 2.06-2.06.94zm-11 1L8.5 8.5l.94-2.06 2.06-.94-2.06-.94L8.5 2.5l-.94 2.06-2.06.94zm10 10l.94 2.06.94-2.06 2.06-.94-2.06-.94-.94-2.06-.94 2.06-2.06.94z\"/><path d=\"M17.41 7.96l-1.37-1.37c-.4-.4-.92-.59-1.43-.59-.52 0-1.04.2-1.43.59L10.3 9.45l-7.72 7.72c-.78.78-.78 2.05 0 2.83L4 21.41c.39.39.9.59 1.41.59.51 0 1.02-.2 1.41-.59l7.78-7.78 2.81-2.81c.8-.78.8-2.07 0-2.86zM5.41 20L4 18.59l7.72-7.72 1.47 1.35L5.41 20z\"/>\n",
              "  </svg>\n",
              "      </button>\n",
              "\n",
              "\n",
              "\n",
              "    <div id=\"df-5382a61d-9b6f-4d3a-820c-ffdeec034df7\">\n",
              "      <button class=\"colab-df-quickchart\" onclick=\"quickchart('df-5382a61d-9b6f-4d3a-820c-ffdeec034df7')\"\n",
              "              title=\"Suggest charts.\"\n",
              "              style=\"display:none;\">\n",
              "\n",
              "<svg xmlns=\"http://www.w3.org/2000/svg\" height=\"24px\"viewBox=\"0 0 24 24\"\n",
              "     width=\"24px\">\n",
              "    <g>\n",
              "        <path d=\"M19 3H5c-1.1 0-2 .9-2 2v14c0 1.1.9 2 2 2h14c1.1 0 2-.9 2-2V5c0-1.1-.9-2-2-2zM9 17H7v-7h2v7zm4 0h-2V7h2v10zm4 0h-2v-4h2v4z\"/>\n",
              "    </g>\n",
              "</svg>\n",
              "      </button>\n",
              "    </div>\n",
              "\n",
              "<style>\n",
              "  .colab-df-quickchart {\n",
              "    background-color: #E8F0FE;\n",
              "    border: none;\n",
              "    border-radius: 50%;\n",
              "    cursor: pointer;\n",
              "    display: none;\n",
              "    fill: #1967D2;\n",
              "    height: 32px;\n",
              "    padding: 0 0 0 0;\n",
              "    width: 32px;\n",
              "  }\n",
              "\n",
              "  .colab-df-quickchart:hover {\n",
              "    background-color: #E2EBFA;\n",
              "    box-shadow: 0px 1px 2px rgba(60, 64, 67, 0.3), 0px 1px 3px 1px rgba(60, 64, 67, 0.15);\n",
              "    fill: #174EA6;\n",
              "  }\n",
              "\n",
              "  [theme=dark] .colab-df-quickchart {\n",
              "    background-color: #3B4455;\n",
              "    fill: #D2E3FC;\n",
              "  }\n",
              "\n",
              "  [theme=dark] .colab-df-quickchart:hover {\n",
              "    background-color: #434B5C;\n",
              "    box-shadow: 0px 1px 3px 1px rgba(0, 0, 0, 0.15);\n",
              "    filter: drop-shadow(0px 1px 2px rgba(0, 0, 0, 0.3));\n",
              "    fill: #FFFFFF;\n",
              "  }\n",
              "</style>\n",
              "\n",
              "    <script>\n",
              "      async function quickchart(key) {\n",
              "        const containerElement = document.querySelector('#' + key);\n",
              "        const charts = await google.colab.kernel.invokeFunction(\n",
              "            'suggestCharts', [key], {});\n",
              "      }\n",
              "    </script>\n",
              "\n",
              "      <script>\n",
              "\n",
              "function displayQuickchartButton(domScope) {\n",
              "  let quickchartButtonEl =\n",
              "    domScope.querySelector('#df-5382a61d-9b6f-4d3a-820c-ffdeec034df7 button.colab-df-quickchart');\n",
              "  quickchartButtonEl.style.display =\n",
              "    google.colab.kernel.accessAllowed ? 'block' : 'none';\n",
              "}\n",
              "\n",
              "        displayQuickchartButton(document);\n",
              "      </script>\n",
              "      <style>\n",
              "    .colab-df-container {\n",
              "      display:flex;\n",
              "      flex-wrap:wrap;\n",
              "      gap: 12px;\n",
              "    }\n",
              "\n",
              "    .colab-df-convert {\n",
              "      background-color: #E8F0FE;\n",
              "      border: none;\n",
              "      border-radius: 50%;\n",
              "      cursor: pointer;\n",
              "      display: none;\n",
              "      fill: #1967D2;\n",
              "      height: 32px;\n",
              "      padding: 0 0 0 0;\n",
              "      width: 32px;\n",
              "    }\n",
              "\n",
              "    .colab-df-convert:hover {\n",
              "      background-color: #E2EBFA;\n",
              "      box-shadow: 0px 1px 2px rgba(60, 64, 67, 0.3), 0px 1px 3px 1px rgba(60, 64, 67, 0.15);\n",
              "      fill: #174EA6;\n",
              "    }\n",
              "\n",
              "    [theme=dark] .colab-df-convert {\n",
              "      background-color: #3B4455;\n",
              "      fill: #D2E3FC;\n",
              "    }\n",
              "\n",
              "    [theme=dark] .colab-df-convert:hover {\n",
              "      background-color: #434B5C;\n",
              "      box-shadow: 0px 1px 3px 1px rgba(0, 0, 0, 0.15);\n",
              "      filter: drop-shadow(0px 1px 2px rgba(0, 0, 0, 0.3));\n",
              "      fill: #FFFFFF;\n",
              "    }\n",
              "  </style>\n",
              "\n",
              "      <script>\n",
              "        const buttonEl =\n",
              "          document.querySelector('#df-12a1ac78-0e6e-41ba-baf9-b52b778a242e button.colab-df-convert');\n",
              "        buttonEl.style.display =\n",
              "          google.colab.kernel.accessAllowed ? 'block' : 'none';\n",
              "\n",
              "        async function convertToInteractive(key) {\n",
              "          const element = document.querySelector('#df-12a1ac78-0e6e-41ba-baf9-b52b778a242e');\n",
              "          const dataTable =\n",
              "            await google.colab.kernel.invokeFunction('convertToInteractive',\n",
              "                                                     [key], {});\n",
              "          if (!dataTable) return;\n",
              "\n",
              "          const docLinkHtml = 'Like what you see? Visit the ' +\n",
              "            '<a target=\"_blank\" href=https://colab.research.google.com/notebooks/data_table.ipynb>data table notebook</a>'\n",
              "            + ' to learn more about interactive tables.';\n",
              "          element.innerHTML = '';\n",
              "          dataTable['output_type'] = 'display_data';\n",
              "          await google.colab.output.renderOutput(dataTable, element);\n",
              "          const docLink = document.createElement('div');\n",
              "          docLink.innerHTML = docLinkHtml;\n",
              "          element.appendChild(docLink);\n",
              "        }\n",
              "      </script>\n",
              "    </div>\n",
              "  </div>\n"
            ]
          },
          "metadata": {},
          "execution_count": 105
        }
      ]
    },
    {
      "cell_type": "markdown",
      "source": [
        "### Finding percentage of null values\n",
        "- The function percent_null is designed to compute and display the percentage of null or missing values in each column of a given pandas DataFrame."
      ],
      "metadata": {
        "id": "3XUsDV0lUNVt"
      }
    },
    {
      "cell_type": "code",
      "source": [
        "def percent_null(df):\n",
        "  '''\n",
        "  This function calculates and prints the percentage of null values in each column of a pandas DataFrame.\n",
        "\n",
        "  Parameters:\n",
        "  df (pandas.DataFrame): The DataFrame for which to calculate the percentage of null values.\n",
        "\n",
        "  Returns:\n",
        "  None. However, this function will print to the console a pandas Series where the index is the column names of the DataFrame and the values are the percentage of null values in each column.\n",
        "\n",
        "  '''\n"
      ],
      "metadata": {
        "id": "NH63k2j6IUaT"
      },
      "execution_count": null,
      "outputs": []
    },
    {
      "cell_type": "code",
      "source": [
        "def percent_null(df):\n",
        "  percentage_ofnull=(df.isnull().sum()*100)/len(df)\n",
        "  return percentage_ofnull\n",
        "print(percent_null(df))\n",
        "###print(df)"
      ],
      "metadata": {
        "colab": {
          "base_uri": "https://localhost:8080/"
        },
        "id": "GEF6U_nknNiQ",
        "outputId": "eb375c97-96c1-4895-e712-3b224624457f"
      },
      "execution_count": null,
      "outputs": [
        {
          "output_type": "stream",
          "name": "stdout",
          "text": [
            "mpg             0.0\n",
            "cylinders       0.0\n",
            "displacement    0.0\n",
            "horsepower      0.0\n",
            "weight          0.0\n",
            "acceleration    0.0\n",
            "model year      0.0\n",
            "origin          0.0\n",
            "car name        0.0\n",
            "dtype: float64\n"
          ]
        }
      ]
    },
    {
      "cell_type": "markdown",
      "source": [
        "### Preprocess data\n",
        "- The preprocess_data function is designed to perform several preprocessing tasks on a given pandas DataFrame. Specifically, it targets the DataFrame's 'horsepower' column for conversion to numeric values, checks and prints the percentage of null values in each column, and eliminates rows containing null values."
      ],
      "metadata": {
        "id": "aGCcDy7SUcE1"
      }
    },
    {
      "cell_type": "code",
      "source": [
        "def preprocess_data(df):\n",
        "  '''\n",
        "  This function preprocesses a pandas DataFrame by converting the 'horsepower' column to numeric values, printing the percentage of null values in each column, and dropping rows with null values.\n",
        "\n",
        "  Steps:\n",
        "  1. Convert the 'horsepower' column to numeric values using pandas to_numeric function. Non-numeric values are set to NaN.\n",
        "  2. Use the percent_null function to calculate and print the percentage of null values in each column of the DataFrame.\n",
        "  3. Drop rows with null values using the dropna function.\n",
        "\n",
        "  Parameters:\n",
        "  df (pandas.DataFrame): The DataFrame to preprocess. This DataFrame should have a 'horsepower' column.\n",
        "\n",
        "  Returns:\n",
        "  pandas.DataFrame: The preprocessed DataFrame, with the 'horsepower' column converted to numeric values and rows with null values dropped.\n",
        "\n",
        "  '''\n"
      ],
      "metadata": {
        "id": "6WKRmOVjGItI"
      },
      "execution_count": null,
      "outputs": []
    },
    {
      "cell_type": "code",
      "source": [
        "# preprocess our dataframe\n",
        "###df = preprocess_data(______)\n"
      ],
      "metadata": {
        "id": "1mfr15SWGbGI"
      },
      "execution_count": null,
      "outputs": []
    },
    {
      "cell_type": "code",
      "source": [
        "def preprocess_data(df):\n",
        "  df['horsepower'] = pd.to_numeric(df['horsepower'], errors=\"coerce\")\n",
        "  return df\n",
        "  #print(df.shape[0],';;;;;;;;;;;;')\n",
        "\n",
        "df =  preprocess_data(df)\n",
        "percent_null(df)\n",
        "df.dropna(inplace=True)\n",
        "\n",
        "print(df)\n",
        "###df = preprocess_data(df)"
      ],
      "metadata": {
        "id": "xU_SPprVpudv"
      },
      "execution_count": null,
      "outputs": []
    },
    {
      "cell_type": "markdown",
      "source": [
        "### Processing categorical variables\n",
        "- The function process_categorical performs preprocessing on a pandas DataFrame by converting categorical features into one-hot encoded vectors.\n",
        "- The output of this function is the preprocessed DataFrame, with the categorical features now converted into one-hot encoded vectors."
      ],
      "metadata": {
        "id": "C0aKThMVUtcm"
      }
    },
    {
      "cell_type": "code",
      "source": [
        "def process_categorical(df):\n",
        "  '''\n",
        "  This function preprocesses a pandas DataFrame by converting the categorical features into one-hot encoded vectors.\n",
        "\n",
        "  Steps:\n",
        "  1. Identify the categorical features in the DataFrame.\n",
        "  2. Use the pandas get_dummies function to convert these categorical features into one-hot encoded vectors.\n",
        "  3. This creates a new binary column for each category/label present in the original columns.\n",
        "\n",
        "  Parameters:\n",
        "  df (pandas.DataFrame): The DataFrame to preprocess. This DataFrame should have 'cylinders', 'model year', 'origin', and 'car name' columns.\n",
        "\n",
        "  Returns:\n",
        "  pandas.DataFrame: The preprocessed DataFrame, with the categorical features converted to one-hot encoded vectors.\n",
        "\n",
        "\n",
        "  '''\n"
      ],
      "metadata": {
        "id": "FcFOt1g9DFmF"
      },
      "execution_count": null,
      "outputs": []
    },
    {
      "cell_type": "code",
      "source": [
        "###df = process_categorical(_____)"
      ],
      "metadata": {
        "id": "jTlbeGnyF7vg"
      },
      "execution_count": null,
      "outputs": []
    },
    {
      "cell_type": "code",
      "source": [
        "def process_categorical(df):\n",
        "  categorical_features=['cylinders', 'model year', 'origin', 'car name']\n",
        "  one_hot_df = pd.get_dummies(df,columns=categorical_features)\n",
        "  return one_hot_df\n",
        "\n",
        "###print(process_categorical(df))\n",
        "df=process_categorical(df)\n",
        "df.head()\n"
      ],
      "metadata": {
        "id": "jcngET6ktMhs",
        "colab": {
          "base_uri": "https://localhost:8080/",
          "height": 352
        },
        "outputId": "34de8577-c9be-4360-dd1f-c74df675e741"
      },
      "execution_count": null,
      "outputs": [
        {
          "output_type": "execute_result",
          "data": {
            "text/plain": [
              "    mpg  displacement  horsepower  weight  acceleration  cylinders_3  \\\n",
              "0  18.0         307.0       130.0    3504          12.0            0   \n",
              "1  15.0         350.0       165.0    3693          11.5            0   \n",
              "2  18.0         318.0       150.0    3436          11.0            0   \n",
              "3  16.0         304.0       150.0    3433          12.0            0   \n",
              "4  17.0         302.0       140.0    3449          10.5            0   \n",
              "\n",
              "   cylinders_4  cylinders_5  cylinders_6  cylinders_8  ...  \\\n",
              "0            0            0            0            1  ...   \n",
              "1            0            0            0            1  ...   \n",
              "2            0            0            0            1  ...   \n",
              "3            0            0            0            1  ...   \n",
              "4            0            0            0            1  ...   \n",
              "\n",
              "   car name_volvo 145e (sw)  car name_volvo 244dl  car name_volvo 245  \\\n",
              "0                         0                     0                   0   \n",
              "1                         0                     0                   0   \n",
              "2                         0                     0                   0   \n",
              "3                         0                     0                   0   \n",
              "4                         0                     0                   0   \n",
              "\n",
              "   car name_volvo 264gl  car name_volvo diesel  car name_vw dasher (diesel)  \\\n",
              "0                     0                      0                            0   \n",
              "1                     0                      0                            0   \n",
              "2                     0                      0                            0   \n",
              "3                     0                      0                            0   \n",
              "4                     0                      0                            0   \n",
              "\n",
              "   car name_vw pickup  car name_vw rabbit  car name_vw rabbit c (diesel)  \\\n",
              "0                   0                   0                              0   \n",
              "1                   0                   0                              0   \n",
              "2                   0                   0                              0   \n",
              "3                   0                   0                              0   \n",
              "4                   0                   0                              0   \n",
              "\n",
              "   car name_vw rabbit custom  \n",
              "0                          0  \n",
              "1                          0  \n",
              "2                          0  \n",
              "3                          0  \n",
              "4                          0  \n",
              "\n",
              "[5 rows x 327 columns]"
            ],
            "text/html": [
              "\n",
              "\n",
              "  <div id=\"df-08f11511-031d-45f3-a0da-64b921b1bdad\">\n",
              "    <div class=\"colab-df-container\">\n",
              "      <div>\n",
              "<style scoped>\n",
              "    .dataframe tbody tr th:only-of-type {\n",
              "        vertical-align: middle;\n",
              "    }\n",
              "\n",
              "    .dataframe tbody tr th {\n",
              "        vertical-align: top;\n",
              "    }\n",
              "\n",
              "    .dataframe thead th {\n",
              "        text-align: right;\n",
              "    }\n",
              "</style>\n",
              "<table border=\"1\" class=\"dataframe\">\n",
              "  <thead>\n",
              "    <tr style=\"text-align: right;\">\n",
              "      <th></th>\n",
              "      <th>mpg</th>\n",
              "      <th>displacement</th>\n",
              "      <th>horsepower</th>\n",
              "      <th>weight</th>\n",
              "      <th>acceleration</th>\n",
              "      <th>cylinders_3</th>\n",
              "      <th>cylinders_4</th>\n",
              "      <th>cylinders_5</th>\n",
              "      <th>cylinders_6</th>\n",
              "      <th>cylinders_8</th>\n",
              "      <th>...</th>\n",
              "      <th>car name_volvo 145e (sw)</th>\n",
              "      <th>car name_volvo 244dl</th>\n",
              "      <th>car name_volvo 245</th>\n",
              "      <th>car name_volvo 264gl</th>\n",
              "      <th>car name_volvo diesel</th>\n",
              "      <th>car name_vw dasher (diesel)</th>\n",
              "      <th>car name_vw pickup</th>\n",
              "      <th>car name_vw rabbit</th>\n",
              "      <th>car name_vw rabbit c (diesel)</th>\n",
              "      <th>car name_vw rabbit custom</th>\n",
              "    </tr>\n",
              "  </thead>\n",
              "  <tbody>\n",
              "    <tr>\n",
              "      <th>0</th>\n",
              "      <td>18.0</td>\n",
              "      <td>307.0</td>\n",
              "      <td>130.0</td>\n",
              "      <td>3504</td>\n",
              "      <td>12.0</td>\n",
              "      <td>0</td>\n",
              "      <td>0</td>\n",
              "      <td>0</td>\n",
              "      <td>0</td>\n",
              "      <td>1</td>\n",
              "      <td>...</td>\n",
              "      <td>0</td>\n",
              "      <td>0</td>\n",
              "      <td>0</td>\n",
              "      <td>0</td>\n",
              "      <td>0</td>\n",
              "      <td>0</td>\n",
              "      <td>0</td>\n",
              "      <td>0</td>\n",
              "      <td>0</td>\n",
              "      <td>0</td>\n",
              "    </tr>\n",
              "    <tr>\n",
              "      <th>1</th>\n",
              "      <td>15.0</td>\n",
              "      <td>350.0</td>\n",
              "      <td>165.0</td>\n",
              "      <td>3693</td>\n",
              "      <td>11.5</td>\n",
              "      <td>0</td>\n",
              "      <td>0</td>\n",
              "      <td>0</td>\n",
              "      <td>0</td>\n",
              "      <td>1</td>\n",
              "      <td>...</td>\n",
              "      <td>0</td>\n",
              "      <td>0</td>\n",
              "      <td>0</td>\n",
              "      <td>0</td>\n",
              "      <td>0</td>\n",
              "      <td>0</td>\n",
              "      <td>0</td>\n",
              "      <td>0</td>\n",
              "      <td>0</td>\n",
              "      <td>0</td>\n",
              "    </tr>\n",
              "    <tr>\n",
              "      <th>2</th>\n",
              "      <td>18.0</td>\n",
              "      <td>318.0</td>\n",
              "      <td>150.0</td>\n",
              "      <td>3436</td>\n",
              "      <td>11.0</td>\n",
              "      <td>0</td>\n",
              "      <td>0</td>\n",
              "      <td>0</td>\n",
              "      <td>0</td>\n",
              "      <td>1</td>\n",
              "      <td>...</td>\n",
              "      <td>0</td>\n",
              "      <td>0</td>\n",
              "      <td>0</td>\n",
              "      <td>0</td>\n",
              "      <td>0</td>\n",
              "      <td>0</td>\n",
              "      <td>0</td>\n",
              "      <td>0</td>\n",
              "      <td>0</td>\n",
              "      <td>0</td>\n",
              "    </tr>\n",
              "    <tr>\n",
              "      <th>3</th>\n",
              "      <td>16.0</td>\n",
              "      <td>304.0</td>\n",
              "      <td>150.0</td>\n",
              "      <td>3433</td>\n",
              "      <td>12.0</td>\n",
              "      <td>0</td>\n",
              "      <td>0</td>\n",
              "      <td>0</td>\n",
              "      <td>0</td>\n",
              "      <td>1</td>\n",
              "      <td>...</td>\n",
              "      <td>0</td>\n",
              "      <td>0</td>\n",
              "      <td>0</td>\n",
              "      <td>0</td>\n",
              "      <td>0</td>\n",
              "      <td>0</td>\n",
              "      <td>0</td>\n",
              "      <td>0</td>\n",
              "      <td>0</td>\n",
              "      <td>0</td>\n",
              "    </tr>\n",
              "    <tr>\n",
              "      <th>4</th>\n",
              "      <td>17.0</td>\n",
              "      <td>302.0</td>\n",
              "      <td>140.0</td>\n",
              "      <td>3449</td>\n",
              "      <td>10.5</td>\n",
              "      <td>0</td>\n",
              "      <td>0</td>\n",
              "      <td>0</td>\n",
              "      <td>0</td>\n",
              "      <td>1</td>\n",
              "      <td>...</td>\n",
              "      <td>0</td>\n",
              "      <td>0</td>\n",
              "      <td>0</td>\n",
              "      <td>0</td>\n",
              "      <td>0</td>\n",
              "      <td>0</td>\n",
              "      <td>0</td>\n",
              "      <td>0</td>\n",
              "      <td>0</td>\n",
              "      <td>0</td>\n",
              "    </tr>\n",
              "  </tbody>\n",
              "</table>\n",
              "<p>5 rows × 327 columns</p>\n",
              "</div>\n",
              "      <button class=\"colab-df-convert\" onclick=\"convertToInteractive('df-08f11511-031d-45f3-a0da-64b921b1bdad')\"\n",
              "              title=\"Convert this dataframe to an interactive table.\"\n",
              "              style=\"display:none;\">\n",
              "\n",
              "  <svg xmlns=\"http://www.w3.org/2000/svg\" height=\"24px\"viewBox=\"0 0 24 24\"\n",
              "       width=\"24px\">\n",
              "    <path d=\"M0 0h24v24H0V0z\" fill=\"none\"/>\n",
              "    <path d=\"M18.56 5.44l.94 2.06.94-2.06 2.06-.94-2.06-.94-.94-2.06-.94 2.06-2.06.94zm-11 1L8.5 8.5l.94-2.06 2.06-.94-2.06-.94L8.5 2.5l-.94 2.06-2.06.94zm10 10l.94 2.06.94-2.06 2.06-.94-2.06-.94-.94-2.06-.94 2.06-2.06.94z\"/><path d=\"M17.41 7.96l-1.37-1.37c-.4-.4-.92-.59-1.43-.59-.52 0-1.04.2-1.43.59L10.3 9.45l-7.72 7.72c-.78.78-.78 2.05 0 2.83L4 21.41c.39.39.9.59 1.41.59.51 0 1.02-.2 1.41-.59l7.78-7.78 2.81-2.81c.8-.78.8-2.07 0-2.86zM5.41 20L4 18.59l7.72-7.72 1.47 1.35L5.41 20z\"/>\n",
              "  </svg>\n",
              "      </button>\n",
              "\n",
              "\n",
              "\n",
              "    <div id=\"df-63da0a2c-b6b9-4fb4-809d-eb3c3b7881b4\">\n",
              "      <button class=\"colab-df-quickchart\" onclick=\"quickchart('df-63da0a2c-b6b9-4fb4-809d-eb3c3b7881b4')\"\n",
              "              title=\"Suggest charts.\"\n",
              "              style=\"display:none;\">\n",
              "\n",
              "<svg xmlns=\"http://www.w3.org/2000/svg\" height=\"24px\"viewBox=\"0 0 24 24\"\n",
              "     width=\"24px\">\n",
              "    <g>\n",
              "        <path d=\"M19 3H5c-1.1 0-2 .9-2 2v14c0 1.1.9 2 2 2h14c1.1 0 2-.9 2-2V5c0-1.1-.9-2-2-2zM9 17H7v-7h2v7zm4 0h-2V7h2v10zm4 0h-2v-4h2v4z\"/>\n",
              "    </g>\n",
              "</svg>\n",
              "      </button>\n",
              "    </div>\n",
              "\n",
              "<style>\n",
              "  .colab-df-quickchart {\n",
              "    background-color: #E8F0FE;\n",
              "    border: none;\n",
              "    border-radius: 50%;\n",
              "    cursor: pointer;\n",
              "    display: none;\n",
              "    fill: #1967D2;\n",
              "    height: 32px;\n",
              "    padding: 0 0 0 0;\n",
              "    width: 32px;\n",
              "  }\n",
              "\n",
              "  .colab-df-quickchart:hover {\n",
              "    background-color: #E2EBFA;\n",
              "    box-shadow: 0px 1px 2px rgba(60, 64, 67, 0.3), 0px 1px 3px 1px rgba(60, 64, 67, 0.15);\n",
              "    fill: #174EA6;\n",
              "  }\n",
              "\n",
              "  [theme=dark] .colab-df-quickchart {\n",
              "    background-color: #3B4455;\n",
              "    fill: #D2E3FC;\n",
              "  }\n",
              "\n",
              "  [theme=dark] .colab-df-quickchart:hover {\n",
              "    background-color: #434B5C;\n",
              "    box-shadow: 0px 1px 3px 1px rgba(0, 0, 0, 0.15);\n",
              "    filter: drop-shadow(0px 1px 2px rgba(0, 0, 0, 0.3));\n",
              "    fill: #FFFFFF;\n",
              "  }\n",
              "</style>\n",
              "\n",
              "    <script>\n",
              "      async function quickchart(key) {\n",
              "        const containerElement = document.querySelector('#' + key);\n",
              "        const charts = await google.colab.kernel.invokeFunction(\n",
              "            'suggestCharts', [key], {});\n",
              "      }\n",
              "    </script>\n",
              "\n",
              "      <script>\n",
              "\n",
              "function displayQuickchartButton(domScope) {\n",
              "  let quickchartButtonEl =\n",
              "    domScope.querySelector('#df-63da0a2c-b6b9-4fb4-809d-eb3c3b7881b4 button.colab-df-quickchart');\n",
              "  quickchartButtonEl.style.display =\n",
              "    google.colab.kernel.accessAllowed ? 'block' : 'none';\n",
              "}\n",
              "\n",
              "        displayQuickchartButton(document);\n",
              "      </script>\n",
              "      <style>\n",
              "    .colab-df-container {\n",
              "      display:flex;\n",
              "      flex-wrap:wrap;\n",
              "      gap: 12px;\n",
              "    }\n",
              "\n",
              "    .colab-df-convert {\n",
              "      background-color: #E8F0FE;\n",
              "      border: none;\n",
              "      border-radius: 50%;\n",
              "      cursor: pointer;\n",
              "      display: none;\n",
              "      fill: #1967D2;\n",
              "      height: 32px;\n",
              "      padding: 0 0 0 0;\n",
              "      width: 32px;\n",
              "    }\n",
              "\n",
              "    .colab-df-convert:hover {\n",
              "      background-color: #E2EBFA;\n",
              "      box-shadow: 0px 1px 2px rgba(60, 64, 67, 0.3), 0px 1px 3px 1px rgba(60, 64, 67, 0.15);\n",
              "      fill: #174EA6;\n",
              "    }\n",
              "\n",
              "    [theme=dark] .colab-df-convert {\n",
              "      background-color: #3B4455;\n",
              "      fill: #D2E3FC;\n",
              "    }\n",
              "\n",
              "    [theme=dark] .colab-df-convert:hover {\n",
              "      background-color: #434B5C;\n",
              "      box-shadow: 0px 1px 3px 1px rgba(0, 0, 0, 0.15);\n",
              "      filter: drop-shadow(0px 1px 2px rgba(0, 0, 0, 0.3));\n",
              "      fill: #FFFFFF;\n",
              "    }\n",
              "  </style>\n",
              "\n",
              "      <script>\n",
              "        const buttonEl =\n",
              "          document.querySelector('#df-08f11511-031d-45f3-a0da-64b921b1bdad button.colab-df-convert');\n",
              "        buttonEl.style.display =\n",
              "          google.colab.kernel.accessAllowed ? 'block' : 'none';\n",
              "\n",
              "        async function convertToInteractive(key) {\n",
              "          const element = document.querySelector('#df-08f11511-031d-45f3-a0da-64b921b1bdad');\n",
              "          const dataTable =\n",
              "            await google.colab.kernel.invokeFunction('convertToInteractive',\n",
              "                                                     [key], {});\n",
              "          if (!dataTable) return;\n",
              "\n",
              "          const docLinkHtml = 'Like what you see? Visit the ' +\n",
              "            '<a target=\"_blank\" href=https://colab.research.google.com/notebooks/data_table.ipynb>data table notebook</a>'\n",
              "            + ' to learn more about interactive tables.';\n",
              "          element.innerHTML = '';\n",
              "          dataTable['output_type'] = 'display_data';\n",
              "          await google.colab.output.renderOutput(dataTable, element);\n",
              "          const docLink = document.createElement('div');\n",
              "          docLink.innerHTML = docLinkHtml;\n",
              "          element.appendChild(docLink);\n",
              "        }\n",
              "      </script>\n",
              "    </div>\n",
              "  </div>\n"
            ]
          },
          "metadata": {},
          "execution_count": 139
        }
      ]
    },
    {
      "cell_type": "markdown",
      "source": [
        "### Splitting dataset to train and test\n",
        "-  Write a function to split pandas DataFrame into a training set and a test set, separating features from the target variable 'Sales', and allowing for a customizable ratio for the test set size"
      ],
      "metadata": {
        "id": "L9REmnsKU-qv"
      }
    },
    {
      "cell_type": "code",
      "source": [
        "def splitting_dataset(df, split_ratio = 0.2):\n",
        "  '''\n",
        "  This function splits a pandas DataFrame into training and testing sets for the purposes of model training and evaluation.\n",
        "\n",
        "  Steps:\n",
        "  1. Define the feature matrix X and the target variable y. In this case, 'mpg' is the target and all other columns are considered features.\n",
        "  2. Use the sklearn's train_test_split function to split the feature matrix and target variable into training and testing sets. The split ratio defines the proportion of the dataset to include in the test split. The random state ensures that the splits generate are reproducible.\n",
        "\n",
        "  Parameters:\n",
        "  df (pandas.DataFrame): The DataFrame to split. This DataFrame should have a 'mpg' column which will be used as the target variable.\n",
        "  split_ratio (float): The proportion of the dataset to include in the test split. Default is 0.2.\n",
        "\n",
        "  Returns:\n",
        "  X_train (pandas.DataFrame): The feature matrix for the training set.\n",
        "  X_test (pandas.DataFrame): The feature matrix for the test set.\n",
        "  y_train (pandas.Series): The target variable for the training set.\n",
        "  y_test (pandas.Series): The target variable for the test set.\n",
        "  '''\n",
        "\n"
      ],
      "metadata": {
        "id": "KLNBBkc-o27a"
      },
      "execution_count": null,
      "outputs": []
    },
    {
      "cell_type": "code",
      "source": [
        "from sklearn.model_selection import train_test_split\n",
        "\n",
        "def splitting_dataset(df, split_ratio = 0.2):\n",
        "  X=df.drop(columns=['mpg'])\n",
        "  y=df['mpg']\n",
        "  X_train, X_test, y_train, y_test = train_test_split(X,y,test_size=split_ratio, random_state=42)\n",
        "  print(\"X:\",X.shape)\n",
        "  print(\"y:\",y.shape)\n",
        "  print(\"X_train:\",X_train.shape)\n",
        "  print(\"X_test:\",X_test.shape)\n",
        "  print(\"y_train:\",y_train.shape)\n",
        "  print(\"y_test:\",y_test.shape)\n",
        "  return X_train, X_test, y_train, y_test\n",
        "\n",
        "X_train, X_test, y_train, y_test = splitting_dataset(df, split_ratio = 0.2)\n"
      ],
      "metadata": {
        "id": "K3vg9m7q0uNo",
        "colab": {
          "base_uri": "https://localhost:8080/"
        },
        "outputId": "3a21cf9b-894c-44bd-d9a3-762b4e43c962"
      },
      "execution_count": null,
      "outputs": [
        {
          "output_type": "stream",
          "name": "stdout",
          "text": [
            "X: (392, 326)\n",
            "y: (392,)\n",
            "X_train: (313, 326)\n",
            "X_test: (79, 326)\n",
            "y_train: (313,)\n",
            "y_test: (79,)\n"
          ]
        }
      ]
    },
    {
      "cell_type": "markdown",
      "source": [
        "### Splitting dataset\n",
        "- Employ the splitting_dataset function to partition the dataset into training and testing subsets."
      ],
      "metadata": {
        "id": "pQV4zGKBVJzp"
      }
    },
    {
      "cell_type": "code",
      "source": [
        "###X_train, X_test, y_train, y_test = splitting_dataset(_____)\n"
      ],
      "metadata": {
        "id": "sSnRIMgYEXKO"
      },
      "execution_count": null,
      "outputs": []
    },
    {
      "cell_type": "markdown",
      "source": [
        "### Model fitting\n",
        "- The sklearn_multi_regression function is designed to implement a multiple linear regression model utilizing sklearn's LinearRegression. The function initiates a LinearRegression model and fits it on the supplied feature matrix and target variable. This function accepts a feature matrix (x) and a target variable (y), both of which can either be pandas.DataFrame or numpy.ndarray.\n",
        "- The function returns a fitted LinearRegression model, which can be employed to make predictions on new data or to examine the coefficients and intercept of the fitted model."
      ],
      "metadata": {
        "id": "0ro7llQfVVVu"
      }
    },
    {
      "cell_type": "code",
      "source": [
        "def sklearn_multi_regression(x,y):\n",
        "  '''\n",
        "  This function fits a multiple linear regression model using sklearn's LinearRegression.\n",
        "\n",
        "  Steps:\n",
        "  1. Initialize a LinearRegression model.\n",
        "  2. Fit the model on the provided feature matrix and target variable.\n",
        "\n",
        "  Parameters:\n",
        "  x (pandas.DataFrame or numpy.ndarray): The feature matrix. Each row represents an observation, and each column represents a feature.\n",
        "  y (pandas.Series or numpy.ndarray): The target variable. Each element represents the target value for the corresponding observation in the feature matrix.\n",
        "\n",
        "  Returns:\n",
        "  sklearn.linear_model._base.LinearRegression: The fitted LinearRegression model. This model can be used to make predictions on new data, or to inspect the coefficients and intercept of the fitted model.\n",
        "  '''\n",
        "\n"
      ],
      "metadata": {
        "id": "0I4HXj_v6MVs"
      },
      "execution_count": null,
      "outputs": []
    },
    {
      "cell_type": "code",
      "source": [
        "def sklearn_multi_regression(x,y):\n",
        "  print(\"innnnnnnnnnnnn on model\")\n",
        "  model=LinearRegression()\n",
        "  print(\"innnnnnnnnnnnn dwon model\")\n",
        "  model.fit(x,y)\n",
        "\n",
        "  print(\"innnnnnnnnnnnn after model\")\n",
        "  return model\n"
      ],
      "metadata": {
        "id": "K4U-_Hsl6n7Y"
      },
      "execution_count": null,
      "outputs": []
    },
    {
      "cell_type": "markdown",
      "source": [
        "### Find the model performance in test data\n",
        "The performance function is designed to assess the performance of a fitted regression model using a test dataset.\n",
        "\n",
        "The function works in the following steps:\n",
        "\n",
        "1. It uses the fitted model to generate predictions on the test dataset.\n",
        "2. It calculates the mean squared error (MSE) and the coefficient of determination (R^2 score) between the actual and predicted target values.\n",
        "3. It prints the MSE and R^2 score, rounded to two decimal places, to the console."
      ],
      "metadata": {
        "id": "XMy2Zn4IVX2u"
      }
    },
    {
      "cell_type": "code",
      "source": [
        "def performance(model, x_test, y_test):\n",
        "  '''\n",
        "  This function evaluates the performance of a fitted regression model on a test dataset.\n",
        "\n",
        "  Steps:\n",
        "  1. Use the fitted model to make predictions on the test dataset.\n",
        "  2. Compute the mean squared error (MSE) and the coefficient of determination (R^2 score) between the true and predicted target values.\n",
        "  3. Print the MSE and R^2 score to the console, rounded to two decimal places.\n",
        "\n",
        "  Parameters:\n",
        "  model (sklearn estimator): The fitted regression model to evaluate. This model should have a predict method that accepts a feature matrix and returns a vector of predicted target values.\n",
        "  x_test (pandas.DataFrame or numpy.ndarray): The feature matrix for the test dataset. Each row represents an observation, and each column represents a feature.\n",
        "  y_test (pandas.Series or numpy.ndarray): The true target values for the test dataset. Each element represents the true target value for the corresponding observation in the feature matrix.\n",
        "\n",
        "  Returns:\n",
        "  None. However, this function will print the MSE and R^2 score to the console when called.\n",
        "  '''\n",
        "\n",
        "\n"
      ],
      "metadata": {
        "id": "n55QXbQiqbX6"
      },
      "execution_count": null,
      "outputs": []
    },
    {
      "cell_type": "code",
      "source": [
        "def performance(model, x_test, y_test):\n",
        "  pred=model.predict(X_test)\n",
        "  mse=mean_squared_error(y_test,pred)\n",
        "  r2 = r2_score(y_test,pred)\n",
        "  print(mse)\n",
        "  print(r2)\n",
        "  return pred, mse, r2\n",
        "\n",
        "splitting_dataset(df, split_ratio = 0.2)"
      ],
      "metadata": {
        "id": "E80kSJ7a7QAC"
      },
      "execution_count": null,
      "outputs": []
    },
    {
      "cell_type": "code",
      "source": [
        "multi_reg = sklearn_multi_regression(_____,_______)\n",
        "performance(_____, ______, _______)"
      ],
      "metadata": {
        "id": "Ax8IU_S2qTI1"
      },
      "execution_count": null,
      "outputs": []
    },
    {
      "cell_type": "code",
      "source": [
        "#X_train, X_test, y_train, y_test = splitting_dataset(df, split_ratio = 0.2)\n",
        "#print(X_train, y_train,'lllllllllllllllllllllhhhh')\n",
        "multi_reg = sklearn_multi_regression(X_train, y_train)\n",
        "performance(multi_reg, X_test, y_test)"
      ],
      "metadata": {
        "id": "wKdoQe3g9v4c"
      },
      "execution_count": null,
      "outputs": []
    },
    {
      "cell_type": "markdown",
      "source": [
        "### Finding model coefficient\n",
        "The function 'model_coefficients'to create a DataFrame that includes the feature names and corresponding coefficients.\n",
        "\n",
        "The function proceeds in the following manner:\n",
        "\n",
        "\n",
        "- A new DataFrame is created that includes two columns - 'features' and 'coefficients'. The 'features' column is filled with the feature names, and the 'coefficients' column is filled with the corresponding coefficients.\n",
        "- The function ultimately returns this DataFrame."
      ],
      "metadata": {
        "id": "4LVpzG2XVmaO"
      }
    },
    {
      "cell_type": "code",
      "source": [
        "def model_coefficients(model, feature_names):\n",
        "  '''\n",
        "  This function extracts the coefficients of a fitted regression model and returns them in a pandas DataFrame.\n",
        "\n",
        "  Steps:\n",
        "  1. Extract the coefficients of the fitted model. The order of the coefficients matches the order of the features in the feature matrix used to fit the model.\n",
        "  2. Create a pandas DataFrame where one column is the feature names and the other column is the corresponding coefficients.\n",
        "\n",
        "  Parameters:\n",
        "  model (sklearn estimator): The fitted regression model. This model should have a coef_ attribute that returns a vector of coefficients.\n",
        "  feature_names (list of str): The names of the features. The order of the names should match the order of the features in the feature matrix used to fit the model.\n",
        "\n",
        "  Returns:\n",
        "  pandas.DataFrame: A DataFrame where one column is the feature names and the other column is the corresponding coefficients. Each row represents a feature and its coefficient.\n",
        "  '''\n",
        "\n"
      ],
      "metadata": {
        "id": "_U7MmWREr3-1"
      },
      "execution_count": null,
      "outputs": []
    },
    {
      "cell_type": "code",
      "source": [
        "def model_coefficients(model,feature_names):\n",
        "  coefficients=model.coef_\n",
        "  coef_df=pd.DataFrame({'Feature':feature_names,'coefficients':coefficients})\n",
        "  print(coef_df)\n",
        "  return coef_df\n"
      ],
      "metadata": {
        "id": "SyNX7R402Exx"
      },
      "execution_count": null,
      "outputs": []
    },
    {
      "cell_type": "code",
      "source": [
        "coef_df = model_coefficients(_____, ________)"
      ],
      "metadata": {
        "id": "PwI6Q4uitjKm"
      },
      "execution_count": null,
      "outputs": []
    },
    {
      "cell_type": "code",
      "source": [
        "names = df.columns.tolist()\n",
        "names = names[1:]\n",
        "coef_df = model_coefficients(multi_reg, names)\n",
        "print(coef_df)"
      ],
      "metadata": {
        "id": "JadNBguN3Xdr"
      },
      "execution_count": null,
      "outputs": []
    },
    {
      "cell_type": "markdown",
      "source": [
        "### Sort the coefficient dataframe (highest coefficient first)\n",
        "- The sort_df function is used to sort a given pandas DataFrame (df) in descending order based on a specified feature or column (feature).\n",
        "- The function returns the input DataFrame sorted in descending order based on the specified feature or column."
      ],
      "metadata": {
        "id": "asSTjlBDV7zn"
      }
    },
    {
      "cell_type": "code",
      "source": [
        "def sort_df(df, feature):\n",
        "  '''\n",
        "  This function sorts a pandas DataFrame in descending order based on a specified feature.\n",
        "\n",
        "  Steps:\n",
        "  1. Sort the DataFrame in descending order based on the given feature.\n",
        "\n",
        "  Parameters:\n",
        "  df (pandas.DataFrame): The DataFrame to sort.\n",
        "  feature (str): The name of the feature to sort the DataFrame by.\n",
        "\n",
        "  Returns:\n",
        "  pandas.DataFrame: The sorted DataFrame in descending order based on the specified feature.\n",
        "\n",
        "  '''\n",
        "\n"
      ],
      "metadata": {
        "id": "56JFNVAfJ1T8"
      },
      "execution_count": null,
      "outputs": []
    },
    {
      "cell_type": "code",
      "source": [
        "def sort_df(df, feature):\n",
        "  df=pd.DataFrame(df)\n",
        "  sorted_df=df.sort_values(by=feature,ascending=False)\n",
        "  return sorted_df"
      ],
      "metadata": {
        "id": "ZsUnVMtm4IN8"
      },
      "execution_count": null,
      "outputs": []
    },
    {
      "cell_type": "code",
      "source": [
        "sorted_coef_df = sort_df(_____, \"coefficients\")\n",
        "# check first 10 values\n",
        "sorted_coef_df.head(___)"
      ],
      "metadata": {
        "id": "VOmCU6e3KPs9"
      },
      "execution_count": null,
      "outputs": []
    },
    {
      "cell_type": "code",
      "source": [
        "sorted_coef_df = sort_df(coef_df,\"coefficients\")\n",
        "sorted_coef_df.head()"
      ],
      "metadata": {
        "id": "xT_tjBXA4vpw"
      },
      "execution_count": null,
      "outputs": []
    },
    {
      "cell_type": "markdown",
      "source": [
        "### Plotting the model top 10 coefficients\n",
        "- The function plotting_top_10_coefficients is designed to create a bar plot representing the top 10 coefficients of a model."
      ],
      "metadata": {
        "id": "Q3aP9OjdWckh"
      }
    },
    {
      "cell_type": "code",
      "source": [
        "def plotting_top_10_coefficients(df):\n",
        "  '''\n",
        "  This function plots a bar chart of the model coefficients for the top 10 features with the highest importance.\n",
        "\n",
        "  Steps:\n",
        "  1. Create a bar chart using matplotlib to visualize the coefficients of top 10 features.\n",
        "  2. Display the bar chart.\n",
        "\n",
        "  Parameters:\n",
        "  df (pandas.DataFrame): The DataFrame containing the feature names and corresponding model coefficients.\n",
        "\n",
        "  Returns:\n",
        "  None. However, this function will display the bar chart when called.\n",
        "\n",
        "\n",
        "  '''\n"
      ],
      "metadata": {
        "id": "pemPkYEpudeo"
      },
      "execution_count": null,
      "outputs": []
    },
    {
      "cell_type": "code",
      "source": [
        "def plotting_top_10_coefficients(df):\n",
        "  top_10 = df #sorted_coef_df.head(10)\n",
        "  plt.figure(figsize=(10,6))\n",
        "  plt.bar(top_10['Feature'], top_10['coefficients'], color='blue')\n",
        "  plt.xlabel('Feature')\n",
        "  plt.ylabel('coefficients')\n",
        "  plt.title('Top 10 Coefficients')\n",
        "  plt.xticks(rotation=45, ha='right')\n",
        "  plt.tight_layout()\n",
        "  plt.show()"
      ],
      "metadata": {
        "id": "Ppl7tNT85Vld"
      },
      "execution_count": null,
      "outputs": []
    },
    {
      "cell_type": "code",
      "source": [
        "##plotting_top_10_coefficients(______)"
      ],
      "metadata": {
        "id": "Uz6FSHbHu-1p"
      },
      "execution_count": null,
      "outputs": []
    },
    {
      "cell_type": "code",
      "source": [
        "plotting_top_10_coefficients(sorted_coef_df.head(10))"
      ],
      "metadata": {
        "colab": {
          "base_uri": "https://localhost:8080/",
          "height": 607
        },
        "id": "CpSmtn7Pmg2V",
        "outputId": "fe196ede-8557-41ea-d552-df7cda2a2f5e"
      },
      "execution_count": null,
      "outputs": [
        {
          "output_type": "display_data",
          "data": {
            "text/plain": [
              "<Figure size 1000x600 with 1 Axes>"
            ],
            "image/png": "[encoded data removed]"
          },
          "metadata": {}
        }
      ]
    },
    {
      "cell_type": "markdown",
      "source": [
        "## Questions\n",
        "\n",
        "From the analysis you have done above answer the following questions given below:\n",
        "\n",
        "1. Find the top 10 features with positive impact and top 10 features with negative impact? Do you think the car models play an important role in prediction based on your observation?\n",
        "\n",
        "\n",
        "\n"
      ],
      "metadata": {
        "id": "pUPdyZOvvL-4"
      }
    }
  ]
}