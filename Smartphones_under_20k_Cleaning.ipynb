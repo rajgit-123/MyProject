{
  "metadata": {
    "kernelspec": {
      "language": "python",
      "display_name": "Python 3",
      "name": "python3"
    },
    "language_info": {
      "name": "python",
      "version": "3.10.14",
      "mimetype": "text/x-python",
      "codemirror_mode": {
        "name": "ipython",
        "version": 3
      },
      "pygments_lexer": "ipython3",
      "nbconvert_exporter": "python",
      "file_extension": ".py"
    },
    "kaggle": {
      "accelerator": "none",
      "dataSources": [
        {
          "sourceId": 9796654,
          "sourceType": "datasetVersion",
          "datasetId": 6003766
        }
      ],
      "dockerImageVersionId": 30786,
      "isInternetEnabled": true,
      "language": "python",
      "sourceType": "notebook",
      "isGpuEnabled": false
    },
    "colab": {
      "provenance": [],
      "include_colab_link": true
    }
  },
  "nbformat_minor": 0,
  "nbformat": 4,
  "cells": [
    {
      "cell_type": "markdown",
      "metadata": {
        "id": "view-in-github",
        "colab_type": "text"
      },
      "source": [
        "<a href=\"https://colab.research.google.com/github/rajgit-123/MyProject/blob/master/Smartphones_under_20k_Cleaning.ipynb\" target=\"_parent\"><img src=\"https://colab.research.google.com/assets/colab-badge.svg\" alt=\"Open In Colab\"/></a>"
      ]
    },
    {
      "source": [
        "# IMPORTANT: RUN THIS CELL IN ORDER TO IMPORT YOUR KAGGLE DATA SOURCES,\n",
        "# THEN FEEL FREE TO DELETE THIS CELL.\n",
        "# NOTE: THIS NOTEBOOK ENVIRONMENT DIFFERS FROM KAGGLE'S PYTHON\n",
        "# ENVIRONMENT SO THERE MAY BE MISSING LIBRARIES USED BY YOUR\n",
        "# NOTEBOOK.\n",
        "import kagglehub\n",
        "mukeshp8175_smartphones_under_20k_path = kagglehub.dataset_download('mukeshp8175/smartphones-under-20k')\n",
        "\n",
        "print('Data source import complete.')\n"
      ],
      "metadata": {
        "id": "xZz4NG9xJ9ZW"
      },
      "cell_type": "code",
      "outputs": [],
      "execution_count": null
    },
    {
      "cell_type": "code",
      "source": [
        "# This Python 3 environment comes with many helpful analytics libraries installed\n",
        "# It is defined by the kaggle/python Docker image: https://github.com/kaggle/docker-python\n",
        "# For example, here's several helpful packages to load\n",
        "\n",
        "import numpy as np # linear algebra\n",
        "import pandas as pd # data processing, CSV file I/O (e.g. pd.read_csv)\n",
        "\n",
        "# Input data files are available in the read-only \"../input/\" directory\n",
        "# For example, running this (by clicking run or pressing Shift+Enter) will list all files under the input directory\n",
        "\n",
        "import os\n",
        "for dirname, _, filenames in os.walk('/kaggle/input'):\n",
        "    for filename in filenames:\n",
        "        print(os.path.join(dirname, filename))\n",
        "\n",
        "# You can write up to 20GB to the current directory (/kaggle/working/) that gets preserved as output when you create a version using \"Save & Run All\"\n",
        "# You can also write temporary files to /kaggle/temp/, but they won't be saved outside of the current session"
      ],
      "metadata": {
        "_uuid": "8f2839f25d086af736a60e9eeb907d3b93b6e0e5",
        "_cell_guid": "b1076dfc-b9ad-4769-8c92-a6c4dae69d19",
        "trusted": true,
        "execution": {
          "iopub.status.busy": "2024-11-30T08:19:02.483231Z",
          "iopub.execute_input": "2024-11-30T08:19:02.484423Z",
          "iopub.status.idle": "2024-11-30T08:19:02.498166Z",
          "shell.execute_reply.started": "2024-11-30T08:19:02.484377Z",
          "shell.execute_reply": "2024-11-30T08:19:02.496971Z"
        },
        "id": "OC_gzrd-J9ZZ"
      },
      "outputs": [],
      "execution_count": null
    },
    {
      "cell_type": "code",
      "source": [
        "import pandas as pd\n",
        "import numpy as np\n",
        "\n",
        "path=\"/kaggle/input/smartphones-under-20k/phone_under_20K.csv\"\n",
        "\n",
        "mdf=pd.read_csv(path)\n",
        "\n",
        "\n",
        "# mdf.info()\n",
        "# mdf.notnull().sum()\n",
        "pd.set_option(\"display.max_rows\", None, \"display.max_columns\", None)\n",
        "mdf.head()"
      ],
      "metadata": {
        "trusted": true,
        "execution": {
          "iopub.status.busy": "2024-11-30T08:19:02.500364Z",
          "iopub.execute_input": "2024-11-30T08:19:02.501368Z",
          "iopub.status.idle": "2024-11-30T08:19:02.521809Z",
          "shell.execute_reply.started": "2024-11-30T08:19:02.501319Z",
          "shell.execute_reply": "2024-11-30T08:19:02.520774Z"
        },
        "id": "2ENHI_W2J9Za"
      },
      "outputs": [],
      "execution_count": null
    },
    {
      "cell_type": "code",
      "source": [
        "mdf['product_name'][8]\n",
        "\n",
        "mdf['model_name']=mdf.product_name.str.split(\"(\").str.get(0)\n",
        "mdf['color']=mdf.product_name.str.split(\"(\").str.get(1)\n",
        "mdf['color']=mdf.color.str.split(\",\").str.get(0)\n",
        "mdf.head()\n",
        "mdf['description'][15]\n",
        "mdf['description']=mdf['description'].str.replace(\"Display\",\"Display,\")\n",
        "mdf['description']=mdf['description'].str.replace(\"Camera\",\"Camera,\")\n",
        "mdf['description']=mdf['description'].str.replace(\"Battery\",\"Battery,\")\n",
        "mdf['description']=mdf['description'].str.replace(\"Processor\",\"Processor,\")\n",
        "mdf['description']=mdf['description'].str.replace(\"GB ROM\",\"GB ROM,\")\n",
        "mdf['description'][15]\n",
        "#Motorola g64 5G (Mint Green, 256 GB)'\n",
        "# '8 GB RAM | 128 GB ROM16.94 cm (6.67 inch) Full HD+ Display50MP + 2MP | 16MP Front Camera5000 mAh BatteryDimensity\n",
        "# 7200 Processor1 Year Manufacturer Warranty for Device and 6 Months Manufacturer Warranty for Inbox Accessories'\n",
        "\n",
        "\n",
        "# '8 GB RAM | 128 GB ROM16.94 cm (6.67 inch) Full HD+ Display, 50MP + 2MP | 16MP Front Camera, 5000 mAh Battery, Dimensity\n",
        "# 7200 Processor, 1 Year Manufacturer Warranty for Device and 6 Months Manufacturer Warranty for Inbox Accessories'\n",
        "\n",
        "# '8 GB RAM | 128 GB ROM ,16.94 cm (6.67 inch) Full HD+ Display, 50MP + 2MP | 16MP Front Camera, 5000 mAh Battery, Dimensity\n",
        "# 7200 Processor, 1 Year Manufacturer Warranty for Device and 6 Months Manufacturer Warranty for Inbox Accessories'"
      ],
      "metadata": {
        "trusted": true,
        "execution": {
          "iopub.status.busy": "2024-11-30T08:19:02.523123Z",
          "iopub.execute_input": "2024-11-30T08:19:02.523437Z",
          "iopub.status.idle": "2024-11-30T08:19:02.540147Z",
          "shell.execute_reply.started": "2024-11-30T08:19:02.523405Z",
          "shell.execute_reply": "2024-11-30T08:19:02.538986Z"
        },
        "id": "QyDaRYR9J9Za"
      },
      "outputs": [],
      "execution_count": null
    },
    {
      "cell_type": "code",
      "source": [
        "#mdf.description.str.split(\",\")\n",
        "#mdf['RamRom'][10]\n",
        "\n",
        "mdf['RamRom']=mdf.description.str.split(\",\").str.get(0)\n",
        "mdf['Display_size']=mdf.description.str.split(\",\").str.get(1)\n",
        "mdf['Camera']=mdf.description.str.split(\",\").str.get(2)\n",
        "mdf['Battery']=mdf.description.str.split(\",\").str.get(3)\n",
        "mdf['ProcessorNWarr']=mdf.description.str.split(\",\").str.get(4)\n",
        "mdf['Warranty']=mdf.description.str.split(\",\").str.get(5)\n",
        "\n",
        "\n",
        "\n",
        "\n",
        "mdf['RAM']=mdf.RamRom.str.split(\"|\").str.get(0)\n",
        "mdf['Storage']=mdf.RamRom.str.split(\"|\").str.get(1)\n",
        "mdf.head()\n",
        "\n",
        "mdf['ProcessorNWarr'][1]\n",
        "\n",
        "#mdf['Processor'] = mdf['ProcessorNWarr'].apply(lambda x: 'Processor' if 'Processor' in x.lower() else np.nan)\n",
        "mdf['ProcessorNWarr'] = mdf['ProcessorNWarr'].apply(lambda x: x if 'processor' in x.lower() else np.nan)\n",
        "#mdf['ProcessorNWarr']=mdf.description.str.split(\",\").str.get(4)\n",
        "\n",
        "mdf = mdf.rename(columns={\n",
        "    'ProcessorNWarr': 'Processor'})\n",
        "mdf.head()\n",
        "#mdf['Processor']\n",
        "#mdf['ProcessorNWarr'][4]\n",
        "\n",
        "cleaned_df=mdf[['model_name','color','Rating','Price','RAM','Storage', 'Display_size', 'Camera', 'Battery','Processor','Warranty']]\n",
        "cleaned_df.head()"
      ],
      "metadata": {
        "trusted": true,
        "execution": {
          "iopub.status.busy": "2024-11-30T08:19:02.542398Z",
          "iopub.execute_input": "2024-11-30T08:19:02.542796Z",
          "iopub.status.idle": "2024-11-30T08:19:02.576497Z",
          "shell.execute_reply.started": "2024-11-30T08:19:02.54276Z",
          "shell.execute_reply": "2024-11-30T08:19:02.575455Z"
        },
        "id": "LXb96_qTJ9Za"
      },
      "outputs": [],
      "execution_count": null
    },
    {
      "cell_type": "code",
      "source": [
        "# mdf['description']\n",
        "\n",
        "# #'12 GB RAM | 256 GB ROM | Expandable Upto 1 TB16.51 cm (6.5 inch) Full HD+ Display50MP (OIS)\n",
        "# #+ 8MP | 16MP Front Camera6000 mAh BatteryDimensity 7025 Processor1 Year on Handset and 6 Months on Accessories'\n",
        "\n",
        "# mdf['RAM']=mdf.description.str.split(\"RAM\").str.get(0)\n",
        "\n",
        "# mdf['Storage']=mdf.description.str.split(\"ROM\").str.get(0)\n",
        "# mdf['Storage']=mdf.Storage.str.split(\"|\").str.get(1)\n",
        "\n",
        "# mdf['display_size']=mdf.description.str.split(\"Display\").str.get(0)\n",
        "# mdf['display_size']=mdf.display_size.str.split(\"ROM\").str.get(1)\n",
        "# #mdf['display_size']=mdf.display_size.str.split(\"TB\").str.get(1)\n",
        "\n",
        "\n",
        "\n",
        "\n",
        "# mdf['display_size'] = mdf['display_size'].apply(lambda x: x.replace('| Expandable Upto 1 TB', '') if '| Expandable Upto 1 TB' in x else x)\n",
        "# mdf['display_size'] = mdf['display_size'].apply(lambda x: x.replace('| Expandable Upto 2 TB', '') if '| Expandable Upto 2 TB' in x else x)\n",
        "\n",
        "\n",
        "# #mdf['expandable'] = mdf['display_size'].apply(lambda x: x.replace('| Expandable Upto 1 TB', 'Upto 1 TB') if '| Expandable Upto 1 TB' in x else x)\n",
        "# #mdf['expandable'] = mdf['display_size'].apply(lambda x: x.replace('| Expandable Upto 2 TB', 'Upto 2 TB') if '| Expandable Upto 2 TB' in x else x)\n",
        "# #mdf['expandable'] = mdf['display_size'].apply(lambda x: x.split('Expandable') if 'Expandable' in x else np.nan)\n",
        "# #df['Specs'] = df['Specs'].apply(lambda x: x.replace('| Expandable Upto 2 TB', ' Upto 2TB') if '| Expandable Upto 2 TB' in x else x)\n",
        "\n",
        "\n",
        "# mdf['Camera']=mdf.description.str.split(\"Camera\").str.get(0)\n",
        "# mdf['Camera']=mdf.Camera.str.split(\"Display\").str.get(1)\n",
        "\n",
        "# mdf['Battery']=mdf.description.str.split(\"Battery\").str.get(0)\n",
        "# mdf['Battery']=mdf.Battery.str.split(\"Camera\").str.get(1)\n",
        "\n",
        "# mdf['Processor']=mdf.description.str.split(\"Processor\").str.get(0)\n",
        "# mdf['Processor'] = mdf.description.apply(lambda x: x.replace('Processor', '') if 'Processor' in x else x)\n",
        "# mdf['Processor']=mdf.Processor.str.split(\"Battery\").str.get(1)\n",
        "# #mdf['Processor'] = mdf['Processor'].apply(lambda x: x.replace('Processor', '') if 'Processor' in x else x)\n",
        "\n",
        "# #mdf['Warrenty']=mdf.description.str.split(\"Processor\").str.get(1)\n",
        "# #Processor1\n",
        "\n",
        "# #mdf['Warrenty'][15]\n",
        "# mdf.head()\n",
        "\n",
        "# cleaned_df = mdf.drop(['product_name', 'description'], axis=1)\n",
        "\n",
        "# cleaned_df['Processor'][78]\n",
        "\n",
        "\n",
        "# import re\n",
        "\n",
        "# def extract_info(text):\n",
        "#     # Define regex patterns to extract chipset, handset warranty, and accessory warranty\n",
        "#     chipset_pattern = r'(\\b\\w+\\s*\\d{4,6}\\b)'  # Pattern to capture the chipset name (e.g., Dimensity 7025)\n",
        "#     handset_pattern = r'(\\d+\\s*(Year|Month)s?\\s*on\\s*Handset)'  # Pattern to capture handset warranty info\n",
        "#     accessories_pattern = r'(\\d+\\s*(Year|Month)s?\\s*on\\s*Accessories)'  # Pattern to capture accessories warranty info\n",
        "\n",
        "#     # Extract the information using regex search\n",
        "#     chipset = re.search(chipset_pattern, text)\n",
        "#     handset_warranty = re.search(handset_pattern, text)\n",
        "#     accessories_warranty = re.search(accessories_pattern, text)\n",
        "\n",
        "#     # Organize the extracted info into a dictionary\n",
        "#     extracted_info = {\n",
        "#         'Chipset': chipset.group(0) if chipset else None,\n",
        "#         'Handset Warranty': handset_warranty.group(0) if handset_warranty else None,\n",
        "#         'Accessories Warranty': accessories_warranty.group(0) if accessories_warranty else None\n",
        "#     }\n",
        "\n",
        "#     return extracted_info\n",
        "\n",
        "# cleaned_df['Processor']=cleaned_df['Processor'].apply(extract_info)\n",
        "# cleaned_df['Processor'][15]\n",
        "\n",
        "# #cleaned_df.head()"
      ],
      "metadata": {
        "trusted": true,
        "execution": {
          "iopub.status.busy": "2024-11-30T08:19:02.57817Z",
          "iopub.execute_input": "2024-11-30T08:19:02.578507Z",
          "iopub.status.idle": "2024-11-30T08:19:02.590006Z",
          "shell.execute_reply.started": "2024-11-30T08:19:02.578465Z",
          "shell.execute_reply": "2024-11-30T08:19:02.588885Z"
        },
        "_kg_hide-input": false,
        "id": "WJEAEWjkJ9Zb"
      },
      "outputs": [],
      "execution_count": null
    }
  ]
}