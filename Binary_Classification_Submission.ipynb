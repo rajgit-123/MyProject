{
  "nbformat": 4,
  "nbformat_minor": 0,
  "metadata": {
    "colab": {
      "provenance": [],
      "authorship_tag": "ABX9TyNCGpXRmJ3Kw4YHgAjpnfeC",
      "include_colab_link": true
    },
    "kernelspec": {
      "name": "python3",
      "display_name": "Python 3"
    },
    "language_info": {
      "name": "python"
    }
  },
  "cells": [
    {
      "cell_type": "markdown",
      "metadata": {
        "id": "view-in-github",
        "colab_type": "text"
      },
      "source": [
        "<a href=\"https://colab.research.google.com/github/rajgit-123/MyProject/blob/master/Binary_Classification_Submission.ipynb\" target=\"_parent\"><img src=\"https://colab.research.google.com/assets/colab-badge.svg\" alt=\"Open In Colab\"/></a>"
      ]
    },
    {
      "cell_type": "markdown",
      "source": [
        "# Binary Classification Competition\n",
        "## Use the sci-kit learns modules for binary classification"
      ],
      "metadata": {
        "id": "V3JGiIIdhYiG"
      }
    },
    {
      "cell_type": "code",
      "execution_count": 34,
      "metadata": {
        "id": "dcn3Rd63hJAG"
      },
      "outputs": [],
      "source": [
        "import pandas as pd\n",
        "import numpy as np\n",
        "import matplotlib.pyplot as plt\n",
        "from sklearn.model_selection import train_test_split\n",
        "from sklearn.linear_model import LogisticRegression\n",
        "import sklearn.metrics as metrics\n",
        "from sklearn.metrics import precision_recall_fscore_support as score"
      ]
    },
    {
      "cell_type": "markdown",
      "source": [
        "# Loading csv file and creating a dataframe\n",
        "The loading_dataset function is designed to load a dataset from a CSV file into a pandas DataFrame. This function has the ability to handle datasets where values are separated by spaces rather than commas, as indicated by the delim_whitespace=True argument.\n",
        "This DataFrame, df, is then returned as the output of the function."
      ],
      "metadata": {
        "id": "i_eJ8dWnhwir"
      }
    },
    {
      "cell_type": "code",
      "source": [
        "\n",
        "\n",
        "from google.colab import drive\n",
        "import pandas as pd\n",
        "drive.mount('/content/drive', force_remount=True)\n",
        "train_file_path='/content/drive/MyDrive/ADSA010/Binary_Assign/train.csv'\n",
        "test_file_path='/content/drive/MyDrive/ADSA010/Binary_Assign/test.csv'\n",
        "#names = ['mpg', 'cylinders', 'displacement', 'horsepower', 'weight', 'acceleration', 'model year', 'origin', 'car name']\n",
        "\n",
        "train_df =pd.read_csv(train_file_path)\n"
      ],
      "metadata": {
        "colab": {
          "base_uri": "https://localhost:8080/"
        },
        "id": "5dtLUnFdhwMW",
        "outputId": "0ea36e32-bef1-44ba-8bcd-b85bb21630ea"
      },
      "execution_count": 35,
      "outputs": [
        {
          "output_type": "stream",
          "name": "stdout",
          "text": [
            "Mounted at /content/drive\n"
          ]
        }
      ]
    },
    {
      "cell_type": "markdown",
      "source": [
        "###Check head of data frame, describe the dataframe"
      ],
      "metadata": {
        "id": "unNHeGHRjtED"
      }
    },
    {
      "cell_type": "code",
      "source": [
        "train_df.head()\n",
        "train_df.describe()\n"
      ],
      "metadata": {
        "id": "WAomjNqNjyfD"
      },
      "execution_count": null,
      "outputs": []
    },
    {
      "cell_type": "markdown",
      "source": [
        "### Finding percentage of null values\n",
        "- The function percent_null is designed to compute and display the percentage of null or missing values in each column of a given pandas DataFrame."
      ],
      "metadata": {
        "id": "SjFsriIDj8xl"
      }
    },
    {
      "cell_type": "code",
      "source": [
        "def percent_null(df):\n",
        "  percentage_ofnull=(train_df.isnull().sum()*100)/len(train_df)\n",
        "  return percentage_ofnull\n",
        "print(percent_null(train_df))\n",
        "###print(df)\n"
      ],
      "metadata": {
        "id": "B2KHID9nkDYo",
        "colab": {
          "base_uri": "https://localhost:8080/"
        },
        "outputId": "4bd6a29a-a828-4f39-c2bc-b74b1449e84f"
      },
      "execution_count": 37,
      "outputs": [
        {
          "output_type": "stream",
          "name": "stdout",
          "text": [
            "Unnamed: 0    0.0\n",
            "column_a      0.0\n",
            "column_c      0.0\n",
            "column_d      0.0\n",
            "column_e      0.0\n",
            "column_f      0.0\n",
            "column_g      0.0\n",
            "column_h      0.0\n",
            "column_i      0.0\n",
            "column_j      0.0\n",
            "column_k      0.0\n",
            "column_l      0.0\n",
            "column_m      0.0\n",
            "column_n      0.0\n",
            "column_o      0.0\n",
            "column_p      0.0\n",
            "column_q      0.0\n",
            "column_r      0.0\n",
            "column_s      0.0\n",
            "column_t      0.0\n",
            "column_u      0.0\n",
            "column_v      0.0\n",
            "column_w      0.0\n",
            "column_x      0.0\n",
            "column_y      0.0\n",
            "column_z      0.0\n",
            "column_aa     0.0\n",
            "column_ab     0.0\n",
            "column_ac     0.0\n",
            "column_ad     0.0\n",
            "column_ae     0.0\n",
            "column_af     0.0\n",
            "column_ag     0.0\n",
            "column_ah     0.0\n",
            "label         0.0\n",
            "dtype: float64\n"
          ]
        }
      ]
    },
    {
      "cell_type": "markdown",
      "source": [
        "### Preprocess data\n",
        "- The preprocess_data function is designed to perform several preprocessing tasks on a given pandas DataFrame. Specifically, it targets the DataFrame's 'horsepower' column for conversion to numeric values, checks and prints the percentage of null values in each column, and eliminates rows containing null values."
      ],
      "metadata": {
        "id": "84V0vioshOKx"
      }
    },
    {
      "cell_type": "markdown",
      "source": [
        "### Processing categorical variables\n",
        "- The function process_categorical performs preprocessing on a pandas DataFrame by converting categorical features into one-hot encoded vectors.\n",
        "- The output of this function is the preprocessed DataFrame, with the categorical features now converted into one-hot encoded vectors."
      ],
      "metadata": {
        "id": "BMoY1RVWhXuJ"
      }
    },
    {
      "cell_type": "code",
      "source": [
        "# X=train_df.loc[:, train_df.columns != 'label']\n",
        "# y=train_df['label']\n",
        "\n",
        "# print(X.shape , y.shape)\n",
        "# print(X.head())\n",
        "# print(y.head())"
      ],
      "metadata": {
        "id": "mKiwTzTbk1bJ"
      },
      "execution_count": null,
      "outputs": []
    },
    {
      "cell_type": "markdown",
      "source": [
        "### Splitting dataset to train and test\n",
        "-  Write a function to split pandas DataFrame into a training set and a test set, separating features from the target variable 'Sales', and allowing for a customizable ratio for the test set size"
      ],
      "metadata": {
        "id": "06eaxuNKkn7m"
      }
    },
    {
      "cell_type": "code",
      "source": [
        "train_df.rename( columns={'Unnamed: 0':'ID'}, inplace=True)\n",
        "print(\"train_df unanamed update\",train_df)\n",
        "\n",
        "from sklearn.model_selection import train_test_split\n",
        "X=train_df.loc[:, train_df.columns != 'label']\n",
        "y=train_df['label']\n",
        "\n",
        "X_train, X_test, y_train, y_test = train_test_split(X,y,train_size=0.2, random_state=100)\n",
        "\n",
        "print(\"X:\",X.shape)\n",
        "print(\"y:\",y.shape)\n",
        "print(\"X_train:\",X_train.shape)\n",
        "print(\"X_test:\",X_test.shape)\n",
        "print(\"y_train:\",y_train.shape)\n",
        "print(\"y_test:\",y_test.shape)\n"
      ],
      "metadata": {
        "colab": {
          "base_uri": "https://localhost:8080/"
        },
        "id": "HVUHK1KkksoC",
        "outputId": "b8557259-1059-4397-bb71-67dcd71c39e3"
      },
      "execution_count": 38,
      "outputs": [
        {
          "output_type": "stream",
          "name": "stdout",
          "text": [
            "train_df unanamed update       ID  column_a  column_c  column_d  column_e  column_f  column_g  \\\n",
            "0      0       1.0   0.97714   0.19049   0.82683   0.46259   0.71771   \n",
            "1      1       1.0   1.00000   0.24077   0.99815   0.00369   0.80244   \n",
            "2      2       1.0   0.32834   0.02520   0.15236   0.21278   0.14919   \n",
            "3      3       1.0   0.99645   0.06468   1.00000  -0.01236   0.97811   \n",
            "4      4       1.0  -0.00641  -0.50000   0.00000   0.00000  -0.01923   \n",
            "..   ...       ...       ...       ...       ...       ...       ...   \n",
            "240  240       1.0   0.45455   0.09091   0.63636   0.09091   0.27273   \n",
            "241  241       0.0   1.00000  -1.00000   1.00000  -1.00000   1.00000   \n",
            "242  242       1.0   1.00000   0.57820   1.00000  -1.00000   1.00000   \n",
            "243  243       1.0   1.00000  -1.00000   1.00000   1.00000   1.00000   \n",
            "244  244       1.0   1.00000   0.11765   1.00000   0.23529   1.00000   \n",
            "\n",
            "     column_h  column_i  column_j  ...  column_z  column_aa  column_ab  \\\n",
            "0     0.58732   0.47968   0.84278  ...   0.17849   -0.83314   -0.01358   \n",
            "1    -0.30133   0.89919  -0.23486  ...  -0.52142    0.29208   -0.48390   \n",
            "2     0.74003  -0.25706   0.92324  ...  -0.06295    0.33737   -0.11876   \n",
            "3     0.02498   0.96112   0.02312  ...   0.13412    0.79476    0.13638   \n",
            "4     1.00000   0.00000   0.00000  ...   0.00000   -0.61538   -0.51282   \n",
            "..        ...       ...       ...  ...       ...        ...        ...   \n",
            "240   0.18182   0.63636   0.00000  ...  -0.09091    0.34442   -0.01768   \n",
            "241  -1.00000   1.00000  -1.00000  ...  -1.00000    1.00000   -1.00000   \n",
            "242  -1.00000   1.00000  -1.00000  ...  -1.00000    1.00000   -1.00000   \n",
            "243   1.00000   1.00000  -0.50000  ...   1.00000    1.00000    0.62500   \n",
            "244   0.41176   1.00000   0.05882  ...  -0.11765    1.00000    0.20225   \n",
            "\n",
            "     column_ac  column_ad  column_ae  column_af  column_ag  column_ah  label  \n",
            "0     -0.82366   -0.19321   -0.67289   -0.33662   -0.59943   -0.49700      1  \n",
            "1      0.12777   -0.39143    0.15657   -0.51329    0.18353   -0.46603      1  \n",
            "2      0.27657   -0.11409    0.15078    0.13296    0.12197    0.20468      1  \n",
            "3      0.79110    0.15379    0.77122    0.15930    0.70941    0.12015      1  \n",
            "4      0.00000    0.00000    0.00000    0.00000    0.00000    0.00000      0  \n",
            "..         ...        ...        ...        ...        ...        ...    ...  \n",
            "240    0.27273    0.00000    0.36364    0.00000    0.28985   -0.01832      1  \n",
            "241    1.00000    0.65625    0.00000    0.00000    1.00000   -1.00000      0  \n",
            "242    1.00000   -1.00000    1.00000   -1.00000    1.00000   -1.00000      0  \n",
            "243    1.00000   -0.75000   -0.75000    1.00000    1.00000    1.00000      0  \n",
            "244    1.00000    0.05882    1.00000    0.35294    1.00000    0.23529      1  \n",
            "\n",
            "[245 rows x 35 columns]\n",
            "X: (245, 34)\n",
            "y: (245,)\n",
            "X_train: (49, 34)\n",
            "X_test: (196, 34)\n",
            "y_train: (49,)\n",
            "y_test: (196,)\n"
          ]
        }
      ]
    },
    {
      "cell_type": "markdown",
      "source": [
        "### Model fitting\n",
        "- sklearn's LinearRegression. The function initiates a LinearRegression model and fits it on the supplied feature matrix and target variable. This function accepts a feature matrix (x) and a target variable (y), both of which can either be pandas.DataFrame or numpy.ndarray.\n",
        "- The function returns a fitted LinearRegression model, which can be employed to make predictions on new data or to examine the coefficients and intercept of the fitted model."
      ],
      "metadata": {
        "id": "U3x1HKtukocZ"
      }
    },
    {
      "cell_type": "code",
      "source": [
        "from sklearn.linear_model import LogisticRegression\n",
        "model=LogisticRegression()\n",
        "\n",
        "model.fit(X_train, y_train)\n",
        "\n",
        "train_y_pred= model.predict(X_train)\n",
        "test_y_pred= model.predict(X_test)"
      ],
      "metadata": {
        "id": "G9HXyfHrl33K",
        "colab": {
          "base_uri": "https://localhost:8080/"
        },
        "outputId": "ee92a479-c7f9-48fa-fe06-d8093cdc73e2"
      },
      "execution_count": 39,
      "outputs": [
        {
          "output_type": "stream",
          "name": "stderr",
          "text": [
            "/usr/local/lib/python3.10/dist-packages/sklearn/linear_model/_logistic.py:458: ConvergenceWarning: lbfgs failed to converge (status=1):\n",
            "STOP: TOTAL NO. of ITERATIONS REACHED LIMIT.\n",
            "\n",
            "Increase the number of iterations (max_iter) or scale the data as shown in:\n",
            "    https://scikit-learn.org/stable/modules/preprocessing.html\n",
            "Please also refer to the documentation for alternative solver options:\n",
            "    https://scikit-learn.org/stable/modules/linear_model.html#logistic-regression\n",
            "  n_iter_i = _check_optimize_result(\n"
          ]
        }
      ]
    },
    {
      "cell_type": "markdown",
      "source": [
        "### Find the model performance in Train data\n",
        "The performance function is designed to assess the performance of a fitted regression model using a train dataset.\n",
        "\n",
        "The function works in the following steps:\n",
        "\n",
        "1. It uses the fitted model to generate predictions on the test dataset.\n",
        "2. Calculate Precision, Recal, FScore, Support and F1Scores  between the actual and predicted target values.\n",
        "3. It prints the Precision, Recal, FScore and F1Scores Support Scores to the console."
      ],
      "metadata": {
        "id": "0JVrKspcmkIv"
      }
    },
    {
      "cell_type": "code",
      "source": [
        "from sklearn.metrics import precision_recall_fscore_support as score\n",
        "precision, recal, fscore, support= score(y_test, test_y_pred)\n",
        "\n",
        "print('Precision : {}' .format(precision))\n",
        "\n",
        "print('Recall : {}'.format(recal))\n",
        "\n",
        "print('FScore : {}'.format(fscore))\n",
        "print('Support : {}'.format(support))\n",
        "\n",
        "import sklearn.metrics as metrics\n",
        "print(\"F1Score : \",  metrics.f1_score(y_test, test_y_pred))"
      ],
      "metadata": {
        "colab": {
          "base_uri": "https://localhost:8080/"
        },
        "id": "aNxhhoh7nAs6",
        "outputId": "34f14a83-5877-47c9-c99f-afe52a341b34"
      },
      "execution_count": 40,
      "outputs": [
        {
          "output_type": "stream",
          "name": "stdout",
          "text": [
            "Precision : [0.75806452 0.82835821]\n",
            "Recall : [0.67142857 0.88095238]\n",
            "FScore : [0.71212121 0.85384615]\n",
            "Support : [ 70 126]\n",
            "F1Score :  0.8538461538461538\n"
          ]
        }
      ]
    },
    {
      "cell_type": "markdown",
      "source": [
        "### Find the model performance in Test data\n",
        "The performance function is designed to assess the performance of a fitted regression model using a test dataset.\n"
      ],
      "metadata": {
        "id": "unKlaqp2nbAt"
      }
    },
    {
      "cell_type": "code",
      "source": [
        "test_df = pd.read_csv(test_file_path)\n",
        "test_df.rename( columns={'Unnamed: 0':'ID'}, inplace=True)\n",
        "X_test =test_df.loc[:, test_df.columns != 'label']\n",
        "\n",
        "test_X_pred = model.predict(test_df)\n",
        "\n",
        "test_X=test_df\n",
        "test_X['label']=test_X_pred\n",
        "submission_test= test_X.filter(['ID','label'])\n",
        "print(submission_test.shape)\n",
        "submission_test.to_csv(test_file_path+\"Binary_Classification-Assignment_submission-final.csv\", index=False)\n",
        "submission_test.head()"
      ],
      "metadata": {
        "colab": {
          "base_uri": "https://localhost:8080/",
          "height": 223
        },
        "id": "pP8pKz8mngcS",
        "outputId": "e8bf50bc-2367-4085-94a2-cc9f4fc86ea4"
      },
      "execution_count": 43,
      "outputs": [
        {
          "output_type": "stream",
          "name": "stdout",
          "text": [
            "(106, 2)\n"
          ]
        },
        {
          "output_type": "execute_result",
          "data": {
            "text/plain": [
              "   ID  label\n",
              "0   0      1\n",
              "1   1      1\n",
              "2   2      1\n",
              "3   3      1\n",
              "4   4      1"
            ],
            "text/html": [
              "\n",
              "  <div id=\"df-eaabae95-9a9a-40e3-912a-c1155d7fd3b8\" class=\"colab-df-container\">\n",
              "    <div>\n",
              "<style scoped>\n",
              "    .dataframe tbody tr th:only-of-type {\n",
              "        vertical-align: middle;\n",
              "    }\n",
              "\n",
              "    .dataframe tbody tr th {\n",
              "        vertical-align: top;\n",
              "    }\n",
              "\n",
              "    .dataframe thead th {\n",
              "        text-align: right;\n",
              "    }\n",
              "</style>\n",
              "<table border=\"1\" class=\"dataframe\">\n",
              "  <thead>\n",
              "    <tr style=\"text-align: right;\">\n",
              "      <th></th>\n",
              "      <th>ID</th>\n",
              "      <th>label</th>\n",
              "    </tr>\n",
              "  </thead>\n",
              "  <tbody>\n",
              "    <tr>\n",
              "      <th>0</th>\n",
              "      <td>0</td>\n",
              "      <td>1</td>\n",
              "    </tr>\n",
              "    <tr>\n",
              "      <th>1</th>\n",
              "      <td>1</td>\n",
              "      <td>1</td>\n",
              "    </tr>\n",
              "    <tr>\n",
              "      <th>2</th>\n",
              "      <td>2</td>\n",
              "      <td>1</td>\n",
              "    </tr>\n",
              "    <tr>\n",
              "      <th>3</th>\n",
              "      <td>3</td>\n",
              "      <td>1</td>\n",
              "    </tr>\n",
              "    <tr>\n",
              "      <th>4</th>\n",
              "      <td>4</td>\n",
              "      <td>1</td>\n",
              "    </tr>\n",
              "  </tbody>\n",
              "</table>\n",
              "</div>\n",
              "    <div class=\"colab-df-buttons\">\n",
              "\n",
              "  <div class=\"colab-df-container\">\n",
              "    <button class=\"colab-df-convert\" onclick=\"convertToInteractive('df-eaabae95-9a9a-40e3-912a-c1155d7fd3b8')\"\n",
              "            title=\"Convert this dataframe to an interactive table.\"\n",
              "            style=\"display:none;\">\n",
              "\n",
              "  <svg xmlns=\"http://www.w3.org/2000/svg\" height=\"24px\" viewBox=\"0 -960 960 960\">\n",
              "    <path d=\"M120-120v-720h720v720H120Zm60-500h600v-160H180v160Zm220 220h160v-160H400v160Zm0 220h160v-160H400v160ZM180-400h160v-160H180v160Zm440 0h160v-160H620v160ZM180-180h160v-160H180v160Zm440 0h160v-160H620v160Z\"/>\n",
              "  </svg>\n",
              "    </button>\n",
              "\n",
              "  <style>\n",
              "    .colab-df-container {\n",
              "      display:flex;\n",
              "      gap: 12px;\n",
              "    }\n",
              "\n",
              "    .colab-df-convert {\n",
              "      background-color: #E8F0FE;\n",
              "      border: none;\n",
              "      border-radius: 50%;\n",
              "      cursor: pointer;\n",
              "      display: none;\n",
              "      fill: #1967D2;\n",
              "      height: 32px;\n",
              "      padding: 0 0 0 0;\n",
              "      width: 32px;\n",
              "    }\n",
              "\n",
              "    .colab-df-convert:hover {\n",
              "      background-color: #E2EBFA;\n",
              "      box-shadow: 0px 1px 2px rgba(60, 64, 67, 0.3), 0px 1px 3px 1px rgba(60, 64, 67, 0.15);\n",
              "      fill: #174EA6;\n",
              "    }\n",
              "\n",
              "    .colab-df-buttons div {\n",
              "      margin-bottom: 4px;\n",
              "    }\n",
              "\n",
              "    [theme=dark] .colab-df-convert {\n",
              "      background-color: #3B4455;\n",
              "      fill: #D2E3FC;\n",
              "    }\n",
              "\n",
              "    [theme=dark] .colab-df-convert:hover {\n",
              "      background-color: #434B5C;\n",
              "      box-shadow: 0px 1px 3px 1px rgba(0, 0, 0, 0.15);\n",
              "      filter: drop-shadow(0px 1px 2px rgba(0, 0, 0, 0.3));\n",
              "      fill: #FFFFFF;\n",
              "    }\n",
              "  </style>\n",
              "\n",
              "    <script>\n",
              "      const buttonEl =\n",
              "        document.querySelector('#df-eaabae95-9a9a-40e3-912a-c1155d7fd3b8 button.colab-df-convert');\n",
              "      buttonEl.style.display =\n",
              "        google.colab.kernel.accessAllowed ? 'block' : 'none';\n",
              "\n",
              "      async function convertToInteractive(key) {\n",
              "        const element = document.querySelector('#df-eaabae95-9a9a-40e3-912a-c1155d7fd3b8');\n",
              "        const dataTable =\n",
              "          await google.colab.kernel.invokeFunction('convertToInteractive',\n",
              "                                                    [key], {});\n",
              "        if (!dataTable) return;\n",
              "\n",
              "        const docLinkHtml = 'Like what you see? Visit the ' +\n",
              "          '<a target=\"_blank\" href=https://colab.research.google.com/notebooks/data_table.ipynb>data table notebook</a>'\n",
              "          + ' to learn more about interactive tables.';\n",
              "        element.innerHTML = '';\n",
              "        dataTable['output_type'] = 'display_data';\n",
              "        await google.colab.output.renderOutput(dataTable, element);\n",
              "        const docLink = document.createElement('div');\n",
              "        docLink.innerHTML = docLinkHtml;\n",
              "        element.appendChild(docLink);\n",
              "      }\n",
              "    </script>\n",
              "  </div>\n",
              "\n",
              "\n",
              "<div id=\"df-c85dc6be-b8c8-4c09-b385-0be65471588a\">\n",
              "  <button class=\"colab-df-quickchart\" onclick=\"quickchart('df-c85dc6be-b8c8-4c09-b385-0be65471588a')\"\n",
              "            title=\"Suggest charts\"\n",
              "            style=\"display:none;\">\n",
              "\n",
              "<svg xmlns=\"http://www.w3.org/2000/svg\" height=\"24px\"viewBox=\"0 0 24 24\"\n",
              "     width=\"24px\">\n",
              "    <g>\n",
              "        <path d=\"M19 3H5c-1.1 0-2 .9-2 2v14c0 1.1.9 2 2 2h14c1.1 0 2-.9 2-2V5c0-1.1-.9-2-2-2zM9 17H7v-7h2v7zm4 0h-2V7h2v10zm4 0h-2v-4h2v4z\"/>\n",
              "    </g>\n",
              "</svg>\n",
              "  </button>\n",
              "\n",
              "<style>\n",
              "  .colab-df-quickchart {\n",
              "      --bg-color: #E8F0FE;\n",
              "      --fill-color: #1967D2;\n",
              "      --hover-bg-color: #E2EBFA;\n",
              "      --hover-fill-color: #174EA6;\n",
              "      --disabled-fill-color: #AAA;\n",
              "      --disabled-bg-color: #DDD;\n",
              "  }\n",
              "\n",
              "  [theme=dark] .colab-df-quickchart {\n",
              "      --bg-color: #3B4455;\n",
              "      --fill-color: #D2E3FC;\n",
              "      --hover-bg-color: #434B5C;\n",
              "      --hover-fill-color: #FFFFFF;\n",
              "      --disabled-bg-color: #3B4455;\n",
              "      --disabled-fill-color: #666;\n",
              "  }\n",
              "\n",
              "  .colab-df-quickchart {\n",
              "    background-color: var(--bg-color);\n",
              "    border: none;\n",
              "    border-radius: 50%;\n",
              "    cursor: pointer;\n",
              "    display: none;\n",
              "    fill: var(--fill-color);\n",
              "    height: 32px;\n",
              "    padding: 0;\n",
              "    width: 32px;\n",
              "  }\n",
              "\n",
              "  .colab-df-quickchart:hover {\n",
              "    background-color: var(--hover-bg-color);\n",
              "    box-shadow: 0 1px 2px rgba(60, 64, 67, 0.3), 0 1px 3px 1px rgba(60, 64, 67, 0.15);\n",
              "    fill: var(--button-hover-fill-color);\n",
              "  }\n",
              "\n",
              "  .colab-df-quickchart-complete:disabled,\n",
              "  .colab-df-quickchart-complete:disabled:hover {\n",
              "    background-color: var(--disabled-bg-color);\n",
              "    fill: var(--disabled-fill-color);\n",
              "    box-shadow: none;\n",
              "  }\n",
              "\n",
              "  .colab-df-spinner {\n",
              "    border: 2px solid var(--fill-color);\n",
              "    border-color: transparent;\n",
              "    border-bottom-color: var(--fill-color);\n",
              "    animation:\n",
              "      spin 1s steps(1) infinite;\n",
              "  }\n",
              "\n",
              "  @keyframes spin {\n",
              "    0% {\n",
              "      border-color: transparent;\n",
              "      border-bottom-color: var(--fill-color);\n",
              "      border-left-color: var(--fill-color);\n",
              "    }\n",
              "    20% {\n",
              "      border-color: transparent;\n",
              "      border-left-color: var(--fill-color);\n",
              "      border-top-color: var(--fill-color);\n",
              "    }\n",
              "    30% {\n",
              "      border-color: transparent;\n",
              "      border-left-color: var(--fill-color);\n",
              "      border-top-color: var(--fill-color);\n",
              "      border-right-color: var(--fill-color);\n",
              "    }\n",
              "    40% {\n",
              "      border-color: transparent;\n",
              "      border-right-color: var(--fill-color);\n",
              "      border-top-color: var(--fill-color);\n",
              "    }\n",
              "    60% {\n",
              "      border-color: transparent;\n",
              "      border-right-color: var(--fill-color);\n",
              "    }\n",
              "    80% {\n",
              "      border-color: transparent;\n",
              "      border-right-color: var(--fill-color);\n",
              "      border-bottom-color: var(--fill-color);\n",
              "    }\n",
              "    90% {\n",
              "      border-color: transparent;\n",
              "      border-bottom-color: var(--fill-color);\n",
              "    }\n",
              "  }\n",
              "</style>\n",
              "\n",
              "  <script>\n",
              "    async function quickchart(key) {\n",
              "      const quickchartButtonEl =\n",
              "        document.querySelector('#' + key + ' button');\n",
              "      quickchartButtonEl.disabled = true;  // To prevent multiple clicks.\n",
              "      quickchartButtonEl.classList.add('colab-df-spinner');\n",
              "      try {\n",
              "        const charts = await google.colab.kernel.invokeFunction(\n",
              "            'suggestCharts', [key], {});\n",
              "      } catch (error) {\n",
              "        console.error('Error during call to suggestCharts:', error);\n",
              "      }\n",
              "      quickchartButtonEl.classList.remove('colab-df-spinner');\n",
              "      quickchartButtonEl.classList.add('colab-df-quickchart-complete');\n",
              "    }\n",
              "    (() => {\n",
              "      let quickchartButtonEl =\n",
              "        document.querySelector('#df-c85dc6be-b8c8-4c09-b385-0be65471588a button');\n",
              "      quickchartButtonEl.style.display =\n",
              "        google.colab.kernel.accessAllowed ? 'block' : 'none';\n",
              "    })();\n",
              "  </script>\n",
              "</div>\n",
              "\n",
              "    </div>\n",
              "  </div>\n"
            ],
            "application/vnd.google.colaboratory.intrinsic+json": {
              "type": "dataframe",
              "variable_name": "submission_test",
              "summary": "{\n  \"name\": \"submission_test\",\n  \"rows\": 106,\n  \"fields\": [\n    {\n      \"column\": \"ID\",\n      \"properties\": {\n        \"dtype\": \"number\",\n        \"std\": 30,\n        \"min\": 0,\n        \"max\": 105,\n        \"num_unique_values\": 106,\n        \"samples\": [\n          100,\n          10,\n          4\n        ],\n        \"semantic_type\": \"\",\n        \"description\": \"\"\n      }\n    },\n    {\n      \"column\": \"label\",\n      \"properties\": {\n        \"dtype\": \"number\",\n        \"std\": 0,\n        \"min\": 0,\n        \"max\": 1,\n        \"num_unique_values\": 2,\n        \"samples\": [\n          0,\n          1\n        ],\n        \"semantic_type\": \"\",\n        \"description\": \"\"\n      }\n    }\n  ]\n}"
            }
          },
          "metadata": {},
          "execution_count": 43
        }
      ]
    }
  ]
}