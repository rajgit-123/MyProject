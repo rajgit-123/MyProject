{
  "cells": [
    {
      "cell_type": "markdown",
      "metadata": {
        "id": "view-in-github",
        "colab_type": "text"
      },
      "source": [
        "<a href=\"https://colab.research.google.com/github/rajgit-123/MyProject/blob/master/28_01_2024_Time_Series_Analysis_using_RNN.ipynb\" target=\"_parent\"><img src=\"https://colab.research.google.com/assets/colab-badge.svg\" alt=\"Open In Colab\"/></a>"
      ]
    },
    {
      "cell_type": "markdown",
      "source": [
        "**yfinance is a popular Python library used for fetching historical market data from Yahoo Finance.**\n"
      ],
      "metadata": {
        "id": "gtjYt5GtlTXK"
      },
      "id": "gtjYt5GtlTXK"
    },
    {
      "cell_type": "code",
      "source": [
        "# importing yfinance\n",
        "import yfinance as yf"
      ],
      "metadata": {
        "id": "tVdGShaelmka"
      },
      "id": "tVdGShaelmka",
      "execution_count": null,
      "outputs": []
    },
    {
      "cell_type": "markdown",
      "source": [
        "'AMZN': This is the ticker symbol for Amazon's stock.\n",
        "\n",
        "period='5y': This parameter specifies the time period.\n",
        "\n",
        "interval='1d': This sets the data interval. 1d means you want daily data.\n"
      ],
      "metadata": {
        "id": "Ngi6eJUsll2U"
      },
      "id": "Ngi6eJUsll2U"
    },
    {
      "cell_type": "code",
      "source": [
        "# Collecting data\n",
        "data_raw = yf.download('AMZN',period='5y',interval='1d')"
      ],
      "metadata": {
        "id": "Dvtiz3aWoLYY"
      },
      "id": "Dvtiz3aWoLYY",
      "execution_count": null,
      "outputs": []
    },
    {
      "cell_type": "code",
      "source": [
        "# first 5 rows\n",
        "data_raw.head()"
      ],
      "metadata": {
        "colab": {
          "base_uri": "https://localhost:8080/",
          "height": 255
        },
        "id": "JGrQiC1d3Hxm",
        "outputId": "770ab6ae-5409-478d-e5a5-0f61ff5d006a"
      },
      "id": "JGrQiC1d3Hxm",
      "execution_count": null,
      "outputs": [
        {
          "output_type": "stream",
          "name": "stdout",
          "text": [
            "\r[*********************100%%**********************]  1 of 1 completed\n"
          ]
        },
        {
          "output_type": "execute_result",
          "data": {
            "text/plain": [
              "                 Open       High        Low      Close  Adj Close     Volume\n",
              "Date                                                                        \n",
              "2019-01-14  80.750000  82.410004  79.757500  80.860497  80.860497  120118000\n",
              "2019-01-15  81.599998  83.758003  81.300499  83.727997  83.727997  119970000\n",
              "2019-01-16  84.210999  85.250000  83.793999  84.189003  84.189003  127338000\n",
              "2019-01-17  84.000000  85.008499  83.875000  84.661003  84.661003   84178000\n",
              "2019-01-18  85.599998  85.809998  84.577003  84.809998  84.809998  120410000"
            ],
            "text/html": [
              "\n",
              "  <div id=\"df-d451c074-495e-44c8-99b5-95de4b3d8140\" class=\"colab-df-container\">\n",
              "    <div>\n",
              "<style scoped>\n",
              "    .dataframe tbody tr th:only-of-type {\n",
              "        vertical-align: middle;\n",
              "    }\n",
              "\n",
              "    .dataframe tbody tr th {\n",
              "        vertical-align: top;\n",
              "    }\n",
              "\n",
              "    .dataframe thead th {\n",
              "        text-align: right;\n",
              "    }\n",
              "</style>\n",
              "<table border=\"1\" class=\"dataframe\">\n",
              "  <thead>\n",
              "    <tr style=\"text-align: right;\">\n",
              "      <th></th>\n",
              "      <th>Open</th>\n",
              "      <th>High</th>\n",
              "      <th>Low</th>\n",
              "      <th>Close</th>\n",
              "      <th>Adj Close</th>\n",
              "      <th>Volume</th>\n",
              "    </tr>\n",
              "    <tr>\n",
              "      <th>Date</th>\n",
              "      <th></th>\n",
              "      <th></th>\n",
              "      <th></th>\n",
              "      <th></th>\n",
              "      <th></th>\n",
              "      <th></th>\n",
              "    </tr>\n",
              "  </thead>\n",
              "  <tbody>\n",
              "    <tr>\n",
              "      <th>2019-01-14</th>\n",
              "      <td>80.750000</td>\n",
              "      <td>82.410004</td>\n",
              "      <td>79.757500</td>\n",
              "      <td>80.860497</td>\n",
              "      <td>80.860497</td>\n",
              "      <td>120118000</td>\n",
              "    </tr>\n",
              "    <tr>\n",
              "      <th>2019-01-15</th>\n",
              "      <td>81.599998</td>\n",
              "      <td>83.758003</td>\n",
              "      <td>81.300499</td>\n",
              "      <td>83.727997</td>\n",
              "      <td>83.727997</td>\n",
              "      <td>119970000</td>\n",
              "    </tr>\n",
              "    <tr>\n",
              "      <th>2019-01-16</th>\n",
              "      <td>84.210999</td>\n",
              "      <td>85.250000</td>\n",
              "      <td>83.793999</td>\n",
              "      <td>84.189003</td>\n",
              "      <td>84.189003</td>\n",
              "      <td>127338000</td>\n",
              "    </tr>\n",
              "    <tr>\n",
              "      <th>2019-01-17</th>\n",
              "      <td>84.000000</td>\n",
              "      <td>85.008499</td>\n",
              "      <td>83.875000</td>\n",
              "      <td>84.661003</td>\n",
              "      <td>84.661003</td>\n",
              "      <td>84178000</td>\n",
              "    </tr>\n",
              "    <tr>\n",
              "      <th>2019-01-18</th>\n",
              "      <td>85.599998</td>\n",
              "      <td>85.809998</td>\n",
              "      <td>84.577003</td>\n",
              "      <td>84.809998</td>\n",
              "      <td>84.809998</td>\n",
              "      <td>120410000</td>\n",
              "    </tr>\n",
              "  </tbody>\n",
              "</table>\n",
              "</div>\n",
              "    <div class=\"colab-df-buttons\">\n",
              "\n",
              "  <div class=\"colab-df-container\">\n",
              "    <button class=\"colab-df-convert\" onclick=\"convertToInteractive('df-d451c074-495e-44c8-99b5-95de4b3d8140')\"\n",
              "            title=\"Convert this dataframe to an interactive table.\"\n",
              "            style=\"display:none;\">\n",
              "\n",
              "  <svg xmlns=\"http://www.w3.org/2000/svg\" height=\"24px\" viewBox=\"0 -960 960 960\">\n",
              "    <path d=\"M120-120v-720h720v720H120Zm60-500h600v-160H180v160Zm220 220h160v-160H400v160Zm0 220h160v-160H400v160ZM180-400h160v-160H180v160Zm440 0h160v-160H620v160ZM180-180h160v-160H180v160Zm440 0h160v-160H620v160Z\"/>\n",
              "  </svg>\n",
              "    </button>\n",
              "\n",
              "  <style>\n",
              "    .colab-df-container {\n",
              "      display:flex;\n",
              "      gap: 12px;\n",
              "    }\n",
              "\n",
              "    .colab-df-convert {\n",
              "      background-color: #E8F0FE;\n",
              "      border: none;\n",
              "      border-radius: 50%;\n",
              "      cursor: pointer;\n",
              "      display: none;\n",
              "      fill: #1967D2;\n",
              "      height: 32px;\n",
              "      padding: 0 0 0 0;\n",
              "      width: 32px;\n",
              "    }\n",
              "\n",
              "    .colab-df-convert:hover {\n",
              "      background-color: #E2EBFA;\n",
              "      box-shadow: 0px 1px 2px rgba(60, 64, 67, 0.3), 0px 1px 3px 1px rgba(60, 64, 67, 0.15);\n",
              "      fill: #174EA6;\n",
              "    }\n",
              "\n",
              "    .colab-df-buttons div {\n",
              "      margin-bottom: 4px;\n",
              "    }\n",
              "\n",
              "    [theme=dark] .colab-df-convert {\n",
              "      background-color: #3B4455;\n",
              "      fill: #D2E3FC;\n",
              "    }\n",
              "\n",
              "    [theme=dark] .colab-df-convert:hover {\n",
              "      background-color: #434B5C;\n",
              "      box-shadow: 0px 1px 3px 1px rgba(0, 0, 0, 0.15);\n",
              "      filter: drop-shadow(0px 1px 2px rgba(0, 0, 0, 0.3));\n",
              "      fill: #FFFFFF;\n",
              "    }\n",
              "  </style>\n",
              "\n",
              "    <script>\n",
              "      const buttonEl =\n",
              "        document.querySelector('#df-d451c074-495e-44c8-99b5-95de4b3d8140 button.colab-df-convert');\n",
              "      buttonEl.style.display =\n",
              "        google.colab.kernel.accessAllowed ? 'block' : 'none';\n",
              "\n",
              "      async function convertToInteractive(key) {\n",
              "        const element = document.querySelector('#df-d451c074-495e-44c8-99b5-95de4b3d8140');\n",
              "        const dataTable =\n",
              "          await google.colab.kernel.invokeFunction('convertToInteractive',\n",
              "                                                    [key], {});\n",
              "        if (!dataTable) return;\n",
              "\n",
              "        const docLinkHtml = 'Like what you see? Visit the ' +\n",
              "          '<a target=\"_blank\" href=https://colab.research.google.com/notebooks/data_table.ipynb>data table notebook</a>'\n",
              "          + ' to learn more about interactive tables.';\n",
              "        element.innerHTML = '';\n",
              "        dataTable['output_type'] = 'display_data';\n",
              "        await google.colab.output.renderOutput(dataTable, element);\n",
              "        const docLink = document.createElement('div');\n",
              "        docLink.innerHTML = docLinkHtml;\n",
              "        element.appendChild(docLink);\n",
              "      }\n",
              "    </script>\n",
              "  </div>\n",
              "\n",
              "\n",
              "<div id=\"df-b08379d9-ff83-4061-bae7-d2a1761204ad\">\n",
              "  <button class=\"colab-df-quickchart\" onclick=\"quickchart('df-b08379d9-ff83-4061-bae7-d2a1761204ad')\"\n",
              "            title=\"Suggest charts\"\n",
              "            style=\"display:none;\">\n",
              "\n",
              "<svg xmlns=\"http://www.w3.org/2000/svg\" height=\"24px\"viewBox=\"0 0 24 24\"\n",
              "     width=\"24px\">\n",
              "    <g>\n",
              "        <path d=\"M19 3H5c-1.1 0-2 .9-2 2v14c0 1.1.9 2 2 2h14c1.1 0 2-.9 2-2V5c0-1.1-.9-2-2-2zM9 17H7v-7h2v7zm4 0h-2V7h2v10zm4 0h-2v-4h2v4z\"/>\n",
              "    </g>\n",
              "</svg>\n",
              "  </button>\n",
              "\n",
              "<style>\n",
              "  .colab-df-quickchart {\n",
              "      --bg-color: #E8F0FE;\n",
              "      --fill-color: #1967D2;\n",
              "      --hover-bg-color: #E2EBFA;\n",
              "      --hover-fill-color: #174EA6;\n",
              "      --disabled-fill-color: #AAA;\n",
              "      --disabled-bg-color: #DDD;\n",
              "  }\n",
              "\n",
              "  [theme=dark] .colab-df-quickchart {\n",
              "      --bg-color: #3B4455;\n",
              "      --fill-color: #D2E3FC;\n",
              "      --hover-bg-color: #434B5C;\n",
              "      --hover-fill-color: #FFFFFF;\n",
              "      --disabled-bg-color: #3B4455;\n",
              "      --disabled-fill-color: #666;\n",
              "  }\n",
              "\n",
              "  .colab-df-quickchart {\n",
              "    background-color: var(--bg-color);\n",
              "    border: none;\n",
              "    border-radius: 50%;\n",
              "    cursor: pointer;\n",
              "    display: none;\n",
              "    fill: var(--fill-color);\n",
              "    height: 32px;\n",
              "    padding: 0;\n",
              "    width: 32px;\n",
              "  }\n",
              "\n",
              "  .colab-df-quickchart:hover {\n",
              "    background-color: var(--hover-bg-color);\n",
              "    box-shadow: 0 1px 2px rgba(60, 64, 67, 0.3), 0 1px 3px 1px rgba(60, 64, 67, 0.15);\n",
              "    fill: var(--button-hover-fill-color);\n",
              "  }\n",
              "\n",
              "  .colab-df-quickchart-complete:disabled,\n",
              "  .colab-df-quickchart-complete:disabled:hover {\n",
              "    background-color: var(--disabled-bg-color);\n",
              "    fill: var(--disabled-fill-color);\n",
              "    box-shadow: none;\n",
              "  }\n",
              "\n",
              "  .colab-df-spinner {\n",
              "    border: 2px solid var(--fill-color);\n",
              "    border-color: transparent;\n",
              "    border-bottom-color: var(--fill-color);\n",
              "    animation:\n",
              "      spin 1s steps(1) infinite;\n",
              "  }\n",
              "\n",
              "  @keyframes spin {\n",
              "    0% {\n",
              "      border-color: transparent;\n",
              "      border-bottom-color: var(--fill-color);\n",
              "      border-left-color: var(--fill-color);\n",
              "    }\n",
              "    20% {\n",
              "      border-color: transparent;\n",
              "      border-left-color: var(--fill-color);\n",
              "      border-top-color: var(--fill-color);\n",
              "    }\n",
              "    30% {\n",
              "      border-color: transparent;\n",
              "      border-left-color: var(--fill-color);\n",
              "      border-top-color: var(--fill-color);\n",
              "      border-right-color: var(--fill-color);\n",
              "    }\n",
              "    40% {\n",
              "      border-color: transparent;\n",
              "      border-right-color: var(--fill-color);\n",
              "      border-top-color: var(--fill-color);\n",
              "    }\n",
              "    60% {\n",
              "      border-color: transparent;\n",
              "      border-right-color: var(--fill-color);\n",
              "    }\n",
              "    80% {\n",
              "      border-color: transparent;\n",
              "      border-right-color: var(--fill-color);\n",
              "      border-bottom-color: var(--fill-color);\n",
              "    }\n",
              "    90% {\n",
              "      border-color: transparent;\n",
              "      border-bottom-color: var(--fill-color);\n",
              "    }\n",
              "  }\n",
              "</style>\n",
              "\n",
              "  <script>\n",
              "    async function quickchart(key) {\n",
              "      const quickchartButtonEl =\n",
              "        document.querySelector('#' + key + ' button');\n",
              "      quickchartButtonEl.disabled = true;  // To prevent multiple clicks.\n",
              "      quickchartButtonEl.classList.add('colab-df-spinner');\n",
              "      try {\n",
              "        const charts = await google.colab.kernel.invokeFunction(\n",
              "            'suggestCharts', [key], {});\n",
              "      } catch (error) {\n",
              "        console.error('Error during call to suggestCharts:', error);\n",
              "      }\n",
              "      quickchartButtonEl.classList.remove('colab-df-spinner');\n",
              "      quickchartButtonEl.classList.add('colab-df-quickchart-complete');\n",
              "    }\n",
              "    (() => {\n",
              "      let quickchartButtonEl =\n",
              "        document.querySelector('#df-b08379d9-ff83-4061-bae7-d2a1761204ad button');\n",
              "      quickchartButtonEl.style.display =\n",
              "        google.colab.kernel.accessAllowed ? 'block' : 'none';\n",
              "    })();\n",
              "  </script>\n",
              "</div>\n",
              "    </div>\n",
              "  </div>\n"
            ]
          },
          "metadata": {},
          "execution_count": 1
        }
      ]
    },
    {
      "cell_type": "code",
      "source": [
        "# last 5 rows\n",
        "data_raw.tail()"
      ],
      "metadata": {
        "colab": {
          "base_uri": "https://localhost:8080/",
          "height": 238
        },
        "id": "aWdhDxeL4wNR",
        "outputId": "62df6042-6d5f-47d4-ea9e-22d7c915760c"
      },
      "id": "aWdhDxeL4wNR",
      "execution_count": null,
      "outputs": [
        {
          "output_type": "execute_result",
          "data": {
            "text/plain": [
              "                  Open        High         Low       Close   Adj Close  \\\n",
              "Date                                                                     \n",
              "2024-01-08  146.740005  149.399994  146.149994  149.100006  149.100006   \n",
              "2024-01-09  148.330002  151.710007  148.210007  151.369995  151.369995   \n",
              "2024-01-10  152.059998  154.419998  151.880005  153.729996  153.729996   \n",
              "2024-01-11  155.039993  157.169998  153.119995  155.179993  155.179993   \n",
              "2024-01-12  155.389999  156.199997  154.009995  154.619995  154.619995   \n",
              "\n",
              "              Volume  \n",
              "Date                  \n",
              "2024-01-08  46757100  \n",
              "2024-01-09  43812600  \n",
              "2024-01-10  44421800  \n",
              "2024-01-11  49072700  \n",
              "2024-01-12  40460300  "
            ],
            "text/html": [
              "\n",
              "  <div id=\"df-26f0e452-7258-41f5-8c17-c3bb67f1cfd8\" class=\"colab-df-container\">\n",
              "    <div>\n",
              "<style scoped>\n",
              "    .dataframe tbody tr th:only-of-type {\n",
              "        vertical-align: middle;\n",
              "    }\n",
              "\n",
              "    .dataframe tbody tr th {\n",
              "        vertical-align: top;\n",
              "    }\n",
              "\n",
              "    .dataframe thead th {\n",
              "        text-align: right;\n",
              "    }\n",
              "</style>\n",
              "<table border=\"1\" class=\"dataframe\">\n",
              "  <thead>\n",
              "    <tr style=\"text-align: right;\">\n",
              "      <th></th>\n",
              "      <th>Open</th>\n",
              "      <th>High</th>\n",
              "      <th>Low</th>\n",
              "      <th>Close</th>\n",
              "      <th>Adj Close</th>\n",
              "      <th>Volume</th>\n",
              "    </tr>\n",
              "    <tr>\n",
              "      <th>Date</th>\n",
              "      <th></th>\n",
              "      <th></th>\n",
              "      <th></th>\n",
              "      <th></th>\n",
              "      <th></th>\n",
              "      <th></th>\n",
              "    </tr>\n",
              "  </thead>\n",
              "  <tbody>\n",
              "    <tr>\n",
              "      <th>2024-01-08</th>\n",
              "      <td>146.740005</td>\n",
              "      <td>149.399994</td>\n",
              "      <td>146.149994</td>\n",
              "      <td>149.100006</td>\n",
              "      <td>149.100006</td>\n",
              "      <td>46757100</td>\n",
              "    </tr>\n",
              "    <tr>\n",
              "      <th>2024-01-09</th>\n",
              "      <td>148.330002</td>\n",
              "      <td>151.710007</td>\n",
              "      <td>148.210007</td>\n",
              "      <td>151.369995</td>\n",
              "      <td>151.369995</td>\n",
              "      <td>43812600</td>\n",
              "    </tr>\n",
              "    <tr>\n",
              "      <th>2024-01-10</th>\n",
              "      <td>152.059998</td>\n",
              "      <td>154.419998</td>\n",
              "      <td>151.880005</td>\n",
              "      <td>153.729996</td>\n",
              "      <td>153.729996</td>\n",
              "      <td>44421800</td>\n",
              "    </tr>\n",
              "    <tr>\n",
              "      <th>2024-01-11</th>\n",
              "      <td>155.039993</td>\n",
              "      <td>157.169998</td>\n",
              "      <td>153.119995</td>\n",
              "      <td>155.179993</td>\n",
              "      <td>155.179993</td>\n",
              "      <td>49072700</td>\n",
              "    </tr>\n",
              "    <tr>\n",
              "      <th>2024-01-12</th>\n",
              "      <td>155.389999</td>\n",
              "      <td>156.199997</td>\n",
              "      <td>154.009995</td>\n",
              "      <td>154.619995</td>\n",
              "      <td>154.619995</td>\n",
              "      <td>40460300</td>\n",
              "    </tr>\n",
              "  </tbody>\n",
              "</table>\n",
              "</div>\n",
              "    <div class=\"colab-df-buttons\">\n",
              "\n",
              "  <div class=\"colab-df-container\">\n",
              "    <button class=\"colab-df-convert\" onclick=\"convertToInteractive('df-26f0e452-7258-41f5-8c17-c3bb67f1cfd8')\"\n",
              "            title=\"Convert this dataframe to an interactive table.\"\n",
              "            style=\"display:none;\">\n",
              "\n",
              "  <svg xmlns=\"http://www.w3.org/2000/svg\" height=\"24px\" viewBox=\"0 -960 960 960\">\n",
              "    <path d=\"M120-120v-720h720v720H120Zm60-500h600v-160H180v160Zm220 220h160v-160H400v160Zm0 220h160v-160H400v160ZM180-400h160v-160H180v160Zm440 0h160v-160H620v160ZM180-180h160v-160H180v160Zm440 0h160v-160H620v160Z\"/>\n",
              "  </svg>\n",
              "    </button>\n",
              "\n",
              "  <style>\n",
              "    .colab-df-container {\n",
              "      display:flex;\n",
              "      gap: 12px;\n",
              "    }\n",
              "\n",
              "    .colab-df-convert {\n",
              "      background-color: #E8F0FE;\n",
              "      border: none;\n",
              "      border-radius: 50%;\n",
              "      cursor: pointer;\n",
              "      display: none;\n",
              "      fill: #1967D2;\n",
              "      height: 32px;\n",
              "      padding: 0 0 0 0;\n",
              "      width: 32px;\n",
              "    }\n",
              "\n",
              "    .colab-df-convert:hover {\n",
              "      background-color: #E2EBFA;\n",
              "      box-shadow: 0px 1px 2px rgba(60, 64, 67, 0.3), 0px 1px 3px 1px rgba(60, 64, 67, 0.15);\n",
              "      fill: #174EA6;\n",
              "    }\n",
              "\n",
              "    .colab-df-buttons div {\n",
              "      margin-bottom: 4px;\n",
              "    }\n",
              "\n",
              "    [theme=dark] .colab-df-convert {\n",
              "      background-color: #3B4455;\n",
              "      fill: #D2E3FC;\n",
              "    }\n",
              "\n",
              "    [theme=dark] .colab-df-convert:hover {\n",
              "      background-color: #434B5C;\n",
              "      box-shadow: 0px 1px 3px 1px rgba(0, 0, 0, 0.15);\n",
              "      filter: drop-shadow(0px 1px 2px rgba(0, 0, 0, 0.3));\n",
              "      fill: #FFFFFF;\n",
              "    }\n",
              "  </style>\n",
              "\n",
              "    <script>\n",
              "      const buttonEl =\n",
              "        document.querySelector('#df-26f0e452-7258-41f5-8c17-c3bb67f1cfd8 button.colab-df-convert');\n",
              "      buttonEl.style.display =\n",
              "        google.colab.kernel.accessAllowed ? 'block' : 'none';\n",
              "\n",
              "      async function convertToInteractive(key) {\n",
              "        const element = document.querySelector('#df-26f0e452-7258-41f5-8c17-c3bb67f1cfd8');\n",
              "        const dataTable =\n",
              "          await google.colab.kernel.invokeFunction('convertToInteractive',\n",
              "                                                    [key], {});\n",
              "        if (!dataTable) return;\n",
              "\n",
              "        const docLinkHtml = 'Like what you see? Visit the ' +\n",
              "          '<a target=\"_blank\" href=https://colab.research.google.com/notebooks/data_table.ipynb>data table notebook</a>'\n",
              "          + ' to learn more about interactive tables.';\n",
              "        element.innerHTML = '';\n",
              "        dataTable['output_type'] = 'display_data';\n",
              "        await google.colab.output.renderOutput(dataTable, element);\n",
              "        const docLink = document.createElement('div');\n",
              "        docLink.innerHTML = docLinkHtml;\n",
              "        element.appendChild(docLink);\n",
              "      }\n",
              "    </script>\n",
              "  </div>\n",
              "\n",
              "\n",
              "<div id=\"df-9d9b29ff-d32c-4ba1-88b6-7350f9a2aae6\">\n",
              "  <button class=\"colab-df-quickchart\" onclick=\"quickchart('df-9d9b29ff-d32c-4ba1-88b6-7350f9a2aae6')\"\n",
              "            title=\"Suggest charts\"\n",
              "            style=\"display:none;\">\n",
              "\n",
              "<svg xmlns=\"http://www.w3.org/2000/svg\" height=\"24px\"viewBox=\"0 0 24 24\"\n",
              "     width=\"24px\">\n",
              "    <g>\n",
              "        <path d=\"M19 3H5c-1.1 0-2 .9-2 2v14c0 1.1.9 2 2 2h14c1.1 0 2-.9 2-2V5c0-1.1-.9-2-2-2zM9 17H7v-7h2v7zm4 0h-2V7h2v10zm4 0h-2v-4h2v4z\"/>\n",
              "    </g>\n",
              "</svg>\n",
              "  </button>\n",
              "\n",
              "<style>\n",
              "  .colab-df-quickchart {\n",
              "      --bg-color: #E8F0FE;\n",
              "      --fill-color: #1967D2;\n",
              "      --hover-bg-color: #E2EBFA;\n",
              "      --hover-fill-color: #174EA6;\n",
              "      --disabled-fill-color: #AAA;\n",
              "      --disabled-bg-color: #DDD;\n",
              "  }\n",
              "\n",
              "  [theme=dark] .colab-df-quickchart {\n",
              "      --bg-color: #3B4455;\n",
              "      --fill-color: #D2E3FC;\n",
              "      --hover-bg-color: #434B5C;\n",
              "      --hover-fill-color: #FFFFFF;\n",
              "      --disabled-bg-color: #3B4455;\n",
              "      --disabled-fill-color: #666;\n",
              "  }\n",
              "\n",
              "  .colab-df-quickchart {\n",
              "    background-color: var(--bg-color);\n",
              "    border: none;\n",
              "    border-radius: 50%;\n",
              "    cursor: pointer;\n",
              "    display: none;\n",
              "    fill: var(--fill-color);\n",
              "    height: 32px;\n",
              "    padding: 0;\n",
              "    width: 32px;\n",
              "  }\n",
              "\n",
              "  .colab-df-quickchart:hover {\n",
              "    background-color: var(--hover-bg-color);\n",
              "    box-shadow: 0 1px 2px rgba(60, 64, 67, 0.3), 0 1px 3px 1px rgba(60, 64, 67, 0.15);\n",
              "    fill: var(--button-hover-fill-color);\n",
              "  }\n",
              "\n",
              "  .colab-df-quickchart-complete:disabled,\n",
              "  .colab-df-quickchart-complete:disabled:hover {\n",
              "    background-color: var(--disabled-bg-color);\n",
              "    fill: var(--disabled-fill-color);\n",
              "    box-shadow: none;\n",
              "  }\n",
              "\n",
              "  .colab-df-spinner {\n",
              "    border: 2px solid var(--fill-color);\n",
              "    border-color: transparent;\n",
              "    border-bottom-color: var(--fill-color);\n",
              "    animation:\n",
              "      spin 1s steps(1) infinite;\n",
              "  }\n",
              "\n",
              "  @keyframes spin {\n",
              "    0% {\n",
              "      border-color: transparent;\n",
              "      border-bottom-color: var(--fill-color);\n",
              "      border-left-color: var(--fill-color);\n",
              "    }\n",
              "    20% {\n",
              "      border-color: transparent;\n",
              "      border-left-color: var(--fill-color);\n",
              "      border-top-color: var(--fill-color);\n",
              "    }\n",
              "    30% {\n",
              "      border-color: transparent;\n",
              "      border-left-color: var(--fill-color);\n",
              "      border-top-color: var(--fill-color);\n",
              "      border-right-color: var(--fill-color);\n",
              "    }\n",
              "    40% {\n",
              "      border-color: transparent;\n",
              "      border-right-color: var(--fill-color);\n",
              "      border-top-color: var(--fill-color);\n",
              "    }\n",
              "    60% {\n",
              "      border-color: transparent;\n",
              "      border-right-color: var(--fill-color);\n",
              "    }\n",
              "    80% {\n",
              "      border-color: transparent;\n",
              "      border-right-color: var(--fill-color);\n",
              "      border-bottom-color: var(--fill-color);\n",
              "    }\n",
              "    90% {\n",
              "      border-color: transparent;\n",
              "      border-bottom-color: var(--fill-color);\n",
              "    }\n",
              "  }\n",
              "</style>\n",
              "\n",
              "  <script>\n",
              "    async function quickchart(key) {\n",
              "      const quickchartButtonEl =\n",
              "        document.querySelector('#' + key + ' button');\n",
              "      quickchartButtonEl.disabled = true;  // To prevent multiple clicks.\n",
              "      quickchartButtonEl.classList.add('colab-df-spinner');\n",
              "      try {\n",
              "        const charts = await google.colab.kernel.invokeFunction(\n",
              "            'suggestCharts', [key], {});\n",
              "      } catch (error) {\n",
              "        console.error('Error during call to suggestCharts:', error);\n",
              "      }\n",
              "      quickchartButtonEl.classList.remove('colab-df-spinner');\n",
              "      quickchartButtonEl.classList.add('colab-df-quickchart-complete');\n",
              "    }\n",
              "    (() => {\n",
              "      let quickchartButtonEl =\n",
              "        document.querySelector('#df-9d9b29ff-d32c-4ba1-88b6-7350f9a2aae6 button');\n",
              "      quickchartButtonEl.style.display =\n",
              "        google.colab.kernel.accessAllowed ? 'block' : 'none';\n",
              "    })();\n",
              "  </script>\n",
              "</div>\n",
              "    </div>\n",
              "  </div>\n"
            ]
          },
          "metadata": {},
          "execution_count": 2
        }
      ]
    },
    {
      "cell_type": "code",
      "execution_count": null,
      "id": "2a4fdd0f",
      "metadata": {
        "id": "2a4fdd0f"
      },
      "outputs": [],
      "source": [
        "# Importing required libraries\n",
        "import pandas as pd\n",
        "import numpy as np\n",
        "import matplotlib.pyplot as plt\n",
        "\n",
        "import torch\n",
        "import torch.nn as nn"
      ]
    },
    {
      "cell_type": "code",
      "source": [
        "# Extract Date (index) and Close values into a new DataFrame\n",
        "data = data_raw[['Close']].copy()\n",
        "data.reset_index(inplace=True)\n",
        "data.rename(columns={'index': 'Date'}, inplace=True)"
      ],
      "metadata": {
        "id": "BJHrYlGiot6b"
      },
      "id": "BJHrYlGiot6b",
      "execution_count": null,
      "outputs": []
    },
    {
      "cell_type": "code",
      "source": [
        "# Display the new DataFrame\n",
        "print(data)"
      ],
      "metadata": {
        "colab": {
          "base_uri": "https://localhost:8080/"
        },
        "id": "WtCP8-cDbg9R",
        "outputId": "7c860a2e-0b6d-4fd1-da78-37ee55a36b3b"
      },
      "id": "WtCP8-cDbg9R",
      "execution_count": null,
      "outputs": [
        {
          "output_type": "stream",
          "name": "stdout",
          "text": [
            "           Date       Close\n",
            "0    2019-01-14   80.860497\n",
            "1    2019-01-15   83.727997\n",
            "2    2019-01-16   84.189003\n",
            "3    2019-01-17   84.661003\n",
            "4    2019-01-18   84.809998\n",
            "...         ...         ...\n",
            "1254 2024-01-08  149.100006\n",
            "1255 2024-01-09  151.369995\n",
            "1256 2024-01-10  153.729996\n",
            "1257 2024-01-11  155.179993\n",
            "1258 2024-01-12  154.619995\n",
            "\n",
            "[1259 rows x 2 columns]\n"
          ]
        }
      ]
    },
    {
      "cell_type": "code",
      "source": [
        "# check for availability of CUDA\n",
        "device = 'cuda:0' if torch.cuda.is_available() else 'cpu'\n",
        "device"
      ],
      "metadata": {
        "colab": {
          "base_uri": "https://localhost:8080/",
          "height": 35
        },
        "id": "9akB333XcFJ6",
        "outputId": "22ff98cf-ad6f-466e-9eb6-756252232ee7"
      },
      "id": "9akB333XcFJ6",
      "execution_count": null,
      "outputs": [
        {
          "output_type": "execute_result",
          "data": {
            "text/plain": [
              "'cpu'"
            ],
            "application/vnd.google.colaboratory.intrinsic+json": {
              "type": "string"
            }
          },
          "metadata": {},
          "execution_count": 5
        }
      ]
    },
    {
      "cell_type": "code",
      "source": [
        "# Make the data column pandas date type\n",
        "data['Date'] = pd.to_datetime(data['Date'])\n",
        "\n",
        "plt.plot(data['Date'], data['Close'])"
      ],
      "metadata": {
        "colab": {
          "base_uri": "https://localhost:8080/",
          "height": 448
        },
        "id": "tr2YuqKGcXcJ",
        "outputId": "aa70171e-1bb9-4a87-dc74-e4c096ac2d37"
      },
      "id": "tr2YuqKGcXcJ",
      "execution_count": null,
      "outputs": [
        {
          "output_type": "execute_result",
          "data": {
            "text/plain": [
              "[<matplotlib.lines.Line2D at 0x78635260f490>]"
            ]
          },
          "metadata": {},
          "execution_count": 6
        },
        {
          "output_type": "display_data",
          "data": {
            "text/plain": [
              "<Figure size 640x480 with 1 Axes>"
            ],
            "image/png": "[encoded data removed]"
          },
          "metadata": {}
        }
      ]
    },
    {
      "cell_type": "code",
      "source": [
        "# deepcopy is use to create a complete copy of a complex object (like a df),\n",
        "## including all nested objects. This ensures changes in copy do not affect\n",
        "### the orginal object\n",
        "from copy import deepcopy as dc\n",
        "\n",
        "# custom function to prepare a df for use with an LSTM\n",
        "## here n_steps = number of time steps to look back in the LSTM model\n",
        "def prepare_dataframe_for_lstm(df, n_steps):\n",
        "    df = dc(df)\n",
        "\n",
        "    # setting dqate column as index of the dataframe\n",
        "    df.set_index('Date', inplace=True)\n",
        "\n",
        "    # this loop iterates iver a range 1 to n_steps\n",
        "    ## for each iteration it creates a new col in dataframe\n",
        "    ### new col contains the value from 'i' days ago\n",
        "    for i in range(1, n_steps+1):\n",
        "        df[f'Close(t-{i})'] = df['Close'].shift(i)\n",
        "\n",
        "    # removes rows that contain 'NaN' which can occur during shifting operation\n",
        "    df.dropna(inplace=True)\n",
        "\n",
        "    return df\n",
        "\n",
        "lookback = 7\n",
        "\n",
        "# returns transformed DataFrame suitable for LSTM with additional cols\n",
        "shifted_df = prepare_dataframe_for_lstm(data, lookback)\n",
        "shifted_df"
      ],
      "metadata": {
        "colab": {
          "base_uri": "https://localhost:8080/",
          "height": 455
        },
        "id": "Q4ma6QCscwfB",
        "outputId": "805c8981-e83a-4a43-b2d0-b91fec5be1f2"
      },
      "id": "Q4ma6QCscwfB",
      "execution_count": null,
      "outputs": [
        {
          "output_type": "execute_result",
          "data": {
            "text/plain": [
              "                 Close  Close(t-1)  Close(t-2)  Close(t-3)  Close(t-4)  \\\n",
              "Date                                                                     \n",
              "2019-01-24   82.746498   82.000999   81.608498   84.809998   84.661003   \n",
              "2019-01-25   83.528503   82.746498   82.000999   81.608498   84.809998   \n",
              "2019-01-28   81.894501   83.528503   82.746498   82.000999   81.608498   \n",
              "2019-01-29   79.694000   81.894501   83.528503   82.746498   82.000999   \n",
              "2019-01-30   83.521500   79.694000   81.894501   83.528503   82.746498   \n",
              "...                ...         ...         ...         ...         ...   \n",
              "2024-01-08  149.100006  145.240005  144.570007  148.470001  149.929993   \n",
              "2024-01-09  151.369995  149.100006  145.240005  144.570007  148.470001   \n",
              "2024-01-10  153.729996  151.369995  149.100006  145.240005  144.570007   \n",
              "2024-01-11  155.179993  153.729996  151.369995  149.100006  145.240005   \n",
              "2024-01-12  154.619995  155.179993  153.729996  151.369995  149.100006   \n",
              "\n",
              "            Close(t-5)  Close(t-6)  Close(t-7)  \n",
              "Date                                            \n",
              "2019-01-24   84.189003   83.727997   80.860497  \n",
              "2019-01-25   84.661003   84.189003   83.727997  \n",
              "2019-01-28   84.809998   84.661003   84.189003  \n",
              "2019-01-29   81.608498   84.809998   84.661003  \n",
              "2019-01-30   82.000999   81.608498   84.809998  \n",
              "...                ...         ...         ...  \n",
              "2024-01-08  151.940002  153.380005  153.339996  \n",
              "2024-01-09  149.929993  151.940002  153.380005  \n",
              "2024-01-10  148.470001  149.929993  151.940002  \n",
              "2024-01-11  144.570007  148.470001  149.929993  \n",
              "2024-01-12  145.240005  144.570007  148.470001  \n",
              "\n",
              "[1252 rows x 8 columns]"
            ],
            "text/html": [
              "\n",
              "  <div id=\"df-5b9ddfdd-9be8-42b9-90bd-1da703b82af7\" class=\"colab-df-container\">\n",
              "    <div>\n",
              "<style scoped>\n",
              "    .dataframe tbody tr th:only-of-type {\n",
              "        vertical-align: middle;\n",
              "    }\n",
              "\n",
              "    .dataframe tbody tr th {\n",
              "        vertical-align: top;\n",
              "    }\n",
              "\n",
              "    .dataframe thead th {\n",
              "        text-align: right;\n",
              "    }\n",
              "</style>\n",
              "<table border=\"1\" class=\"dataframe\">\n",
              "  <thead>\n",
              "    <tr style=\"text-align: right;\">\n",
              "      <th></th>\n",
              "      <th>Close</th>\n",
              "      <th>Close(t-1)</th>\n",
              "      <th>Close(t-2)</th>\n",
              "      <th>Close(t-3)</th>\n",
              "      <th>Close(t-4)</th>\n",
              "      <th>Close(t-5)</th>\n",
              "      <th>Close(t-6)</th>\n",
              "      <th>Close(t-7)</th>\n",
              "    </tr>\n",
              "    <tr>\n",
              "      <th>Date</th>\n",
              "      <th></th>\n",
              "      <th></th>\n",
              "      <th></th>\n",
              "      <th></th>\n",
              "      <th></th>\n",
              "      <th></th>\n",
              "      <th></th>\n",
              "      <th></th>\n",
              "    </tr>\n",
              "  </thead>\n",
              "  <tbody>\n",
              "    <tr>\n",
              "      <th>2019-01-24</th>\n",
              "      <td>82.746498</td>\n",
              "      <td>82.000999</td>\n",
              "      <td>81.608498</td>\n",
              "      <td>84.809998</td>\n",
              "      <td>84.661003</td>\n",
              "      <td>84.189003</td>\n",
              "      <td>83.727997</td>\n",
              "      <td>80.860497</td>\n",
              "    </tr>\n",
              "    <tr>\n",
              "      <th>2019-01-25</th>\n",
              "      <td>83.528503</td>\n",
              "      <td>82.746498</td>\n",
              "      <td>82.000999</td>\n",
              "      <td>81.608498</td>\n",
              "      <td>84.809998</td>\n",
              "      <td>84.661003</td>\n",
              "      <td>84.189003</td>\n",
              "      <td>83.727997</td>\n",
              "    </tr>\n",
              "    <tr>\n",
              "      <th>2019-01-28</th>\n",
              "      <td>81.894501</td>\n",
              "      <td>83.528503</td>\n",
              "      <td>82.746498</td>\n",
              "      <td>82.000999</td>\n",
              "      <td>81.608498</td>\n",
              "      <td>84.809998</td>\n",
              "      <td>84.661003</td>\n",
              "      <td>84.189003</td>\n",
              "    </tr>\n",
              "    <tr>\n",
              "      <th>2019-01-29</th>\n",
              "      <td>79.694000</td>\n",
              "      <td>81.894501</td>\n",
              "      <td>83.528503</td>\n",
              "      <td>82.746498</td>\n",
              "      <td>82.000999</td>\n",
              "      <td>81.608498</td>\n",
              "      <td>84.809998</td>\n",
              "      <td>84.661003</td>\n",
              "    </tr>\n",
              "    <tr>\n",
              "      <th>2019-01-30</th>\n",
              "      <td>83.521500</td>\n",
              "      <td>79.694000</td>\n",
              "      <td>81.894501</td>\n",
              "      <td>83.528503</td>\n",
              "      <td>82.746498</td>\n",
              "      <td>82.000999</td>\n",
              "      <td>81.608498</td>\n",
              "      <td>84.809998</td>\n",
              "    </tr>\n",
              "    <tr>\n",
              "      <th>...</th>\n",
              "      <td>...</td>\n",
              "      <td>...</td>\n",
              "      <td>...</td>\n",
              "      <td>...</td>\n",
              "      <td>...</td>\n",
              "      <td>...</td>\n",
              "      <td>...</td>\n",
              "      <td>...</td>\n",
              "    </tr>\n",
              "    <tr>\n",
              "      <th>2024-01-08</th>\n",
              "      <td>149.100006</td>\n",
              "      <td>145.240005</td>\n",
              "      <td>144.570007</td>\n",
              "      <td>148.470001</td>\n",
              "      <td>149.929993</td>\n",
              "      <td>151.940002</td>\n",
              "      <td>153.380005</td>\n",
              "      <td>153.339996</td>\n",
              "    </tr>\n",
              "    <tr>\n",
              "      <th>2024-01-09</th>\n",
              "      <td>151.369995</td>\n",
              "      <td>149.100006</td>\n",
              "      <td>145.240005</td>\n",
              "      <td>144.570007</td>\n",
              "      <td>148.470001</td>\n",
              "      <td>149.929993</td>\n",
              "      <td>151.940002</td>\n",
              "      <td>153.380005</td>\n",
              "    </tr>\n",
              "    <tr>\n",
              "      <th>2024-01-10</th>\n",
              "      <td>153.729996</td>\n",
              "      <td>151.369995</td>\n",
              "      <td>149.100006</td>\n",
              "      <td>145.240005</td>\n",
              "      <td>144.570007</td>\n",
              "      <td>148.470001</td>\n",
              "      <td>149.929993</td>\n",
              "      <td>151.940002</td>\n",
              "    </tr>\n",
              "    <tr>\n",
              "      <th>2024-01-11</th>\n",
              "      <td>155.179993</td>\n",
              "      <td>153.729996</td>\n",
              "      <td>151.369995</td>\n",
              "      <td>149.100006</td>\n",
              "      <td>145.240005</td>\n",
              "      <td>144.570007</td>\n",
              "      <td>148.470001</td>\n",
              "      <td>149.929993</td>\n",
              "    </tr>\n",
              "    <tr>\n",
              "      <th>2024-01-12</th>\n",
              "      <td>154.619995</td>\n",
              "      <td>155.179993</td>\n",
              "      <td>153.729996</td>\n",
              "      <td>151.369995</td>\n",
              "      <td>149.100006</td>\n",
              "      <td>145.240005</td>\n",
              "      <td>144.570007</td>\n",
              "      <td>148.470001</td>\n",
              "    </tr>\n",
              "  </tbody>\n",
              "</table>\n",
              "<p>1252 rows × 8 columns</p>\n",
              "</div>\n",
              "    <div class=\"colab-df-buttons\">\n",
              "\n",
              "  <div class=\"colab-df-container\">\n",
              "    <button class=\"colab-df-convert\" onclick=\"convertToInteractive('df-5b9ddfdd-9be8-42b9-90bd-1da703b82af7')\"\n",
              "            title=\"Convert this dataframe to an interactive table.\"\n",
              "            style=\"display:none;\">\n",
              "\n",
              "  <svg xmlns=\"http://www.w3.org/2000/svg\" height=\"24px\" viewBox=\"0 -960 960 960\">\n",
              "    <path d=\"M120-120v-720h720v720H120Zm60-500h600v-160H180v160Zm220 220h160v-160H400v160Zm0 220h160v-160H400v160ZM180-400h160v-160H180v160Zm440 0h160v-160H620v160ZM180-180h160v-160H180v160Zm440 0h160v-160H620v160Z\"/>\n",
              "  </svg>\n",
              "    </button>\n",
              "\n",
              "  <style>\n",
              "    .colab-df-container {\n",
              "      display:flex;\n",
              "      gap: 12px;\n",
              "    }\n",
              "\n",
              "    .colab-df-convert {\n",
              "      background-color: #E8F0FE;\n",
              "      border: none;\n",
              "      border-radius: 50%;\n",
              "      cursor: pointer;\n",
              "      display: none;\n",
              "      fill: #1967D2;\n",
              "      height: 32px;\n",
              "      padding: 0 0 0 0;\n",
              "      width: 32px;\n",
              "    }\n",
              "\n",
              "    .colab-df-convert:hover {\n",
              "      background-color: #E2EBFA;\n",
              "      box-shadow: 0px 1px 2px rgba(60, 64, 67, 0.3), 0px 1px 3px 1px rgba(60, 64, 67, 0.15);\n",
              "      fill: #174EA6;\n",
              "    }\n",
              "\n",
              "    .colab-df-buttons div {\n",
              "      margin-bottom: 4px;\n",
              "    }\n",
              "\n",
              "    [theme=dark] .colab-df-convert {\n",
              "      background-color: #3B4455;\n",
              "      fill: #D2E3FC;\n",
              "    }\n",
              "\n",
              "    [theme=dark] .colab-df-convert:hover {\n",
              "      background-color: #434B5C;\n",
              "      box-shadow: 0px 1px 3px 1px rgba(0, 0, 0, 0.15);\n",
              "      filter: drop-shadow(0px 1px 2px rgba(0, 0, 0, 0.3));\n",
              "      fill: #FFFFFF;\n",
              "    }\n",
              "  </style>\n",
              "\n",
              "    <script>\n",
              "      const buttonEl =\n",
              "        document.querySelector('#df-5b9ddfdd-9be8-42b9-90bd-1da703b82af7 button.colab-df-convert');\n",
              "      buttonEl.style.display =\n",
              "        google.colab.kernel.accessAllowed ? 'block' : 'none';\n",
              "\n",
              "      async function convertToInteractive(key) {\n",
              "        const element = document.querySelector('#df-5b9ddfdd-9be8-42b9-90bd-1da703b82af7');\n",
              "        const dataTable =\n",
              "          await google.colab.kernel.invokeFunction('convertToInteractive',\n",
              "                                                    [key], {});\n",
              "        if (!dataTable) return;\n",
              "\n",
              "        const docLinkHtml = 'Like what you see? Visit the ' +\n",
              "          '<a target=\"_blank\" href=https://colab.research.google.com/notebooks/data_table.ipynb>data table notebook</a>'\n",
              "          + ' to learn more about interactive tables.';\n",
              "        element.innerHTML = '';\n",
              "        dataTable['output_type'] = 'display_data';\n",
              "        await google.colab.output.renderOutput(dataTable, element);\n",
              "        const docLink = document.createElement('div');\n",
              "        docLink.innerHTML = docLinkHtml;\n",
              "        element.appendChild(docLink);\n",
              "      }\n",
              "    </script>\n",
              "  </div>\n",
              "\n",
              "\n",
              "<div id=\"df-36c72d8e-cce9-49a8-a4b0-fea20201dee4\">\n",
              "  <button class=\"colab-df-quickchart\" onclick=\"quickchart('df-36c72d8e-cce9-49a8-a4b0-fea20201dee4')\"\n",
              "            title=\"Suggest charts\"\n",
              "            style=\"display:none;\">\n",
              "\n",
              "<svg xmlns=\"http://www.w3.org/2000/svg\" height=\"24px\"viewBox=\"0 0 24 24\"\n",
              "     width=\"24px\">\n",
              "    <g>\n",
              "        <path d=\"M19 3H5c-1.1 0-2 .9-2 2v14c0 1.1.9 2 2 2h14c1.1 0 2-.9 2-2V5c0-1.1-.9-2-2-2zM9 17H7v-7h2v7zm4 0h-2V7h2v10zm4 0h-2v-4h2v4z\"/>\n",
              "    </g>\n",
              "</svg>\n",
              "  </button>\n",
              "\n",
              "<style>\n",
              "  .colab-df-quickchart {\n",
              "      --bg-color: #E8F0FE;\n",
              "      --fill-color: #1967D2;\n",
              "      --hover-bg-color: #E2EBFA;\n",
              "      --hover-fill-color: #174EA6;\n",
              "      --disabled-fill-color: #AAA;\n",
              "      --disabled-bg-color: #DDD;\n",
              "  }\n",
              "\n",
              "  [theme=dark] .colab-df-quickchart {\n",
              "      --bg-color: #3B4455;\n",
              "      --fill-color: #D2E3FC;\n",
              "      --hover-bg-color: #434B5C;\n",
              "      --hover-fill-color: #FFFFFF;\n",
              "      --disabled-bg-color: #3B4455;\n",
              "      --disabled-fill-color: #666;\n",
              "  }\n",
              "\n",
              "  .colab-df-quickchart {\n",
              "    background-color: var(--bg-color);\n",
              "    border: none;\n",
              "    border-radius: 50%;\n",
              "    cursor: pointer;\n",
              "    display: none;\n",
              "    fill: var(--fill-color);\n",
              "    height: 32px;\n",
              "    padding: 0;\n",
              "    width: 32px;\n",
              "  }\n",
              "\n",
              "  .colab-df-quickchart:hover {\n",
              "    background-color: var(--hover-bg-color);\n",
              "    box-shadow: 0 1px 2px rgba(60, 64, 67, 0.3), 0 1px 3px 1px rgba(60, 64, 67, 0.15);\n",
              "    fill: var(--button-hover-fill-color);\n",
              "  }\n",
              "\n",
              "  .colab-df-quickchart-complete:disabled,\n",
              "  .colab-df-quickchart-complete:disabled:hover {\n",
              "    background-color: var(--disabled-bg-color);\n",
              "    fill: var(--disabled-fill-color);\n",
              "    box-shadow: none;\n",
              "  }\n",
              "\n",
              "  .colab-df-spinner {\n",
              "    border: 2px solid var(--fill-color);\n",
              "    border-color: transparent;\n",
              "    border-bottom-color: var(--fill-color);\n",
              "    animation:\n",
              "      spin 1s steps(1) infinite;\n",
              "  }\n",
              "\n",
              "  @keyframes spin {\n",
              "    0% {\n",
              "      border-color: transparent;\n",
              "      border-bottom-color: var(--fill-color);\n",
              "      border-left-color: var(--fill-color);\n",
              "    }\n",
              "    20% {\n",
              "      border-color: transparent;\n",
              "      border-left-color: var(--fill-color);\n",
              "      border-top-color: var(--fill-color);\n",
              "    }\n",
              "    30% {\n",
              "      border-color: transparent;\n",
              "      border-left-color: var(--fill-color);\n",
              "      border-top-color: var(--fill-color);\n",
              "      border-right-color: var(--fill-color);\n",
              "    }\n",
              "    40% {\n",
              "      border-color: transparent;\n",
              "      border-right-color: var(--fill-color);\n",
              "      border-top-color: var(--fill-color);\n",
              "    }\n",
              "    60% {\n",
              "      border-color: transparent;\n",
              "      border-right-color: var(--fill-color);\n",
              "    }\n",
              "    80% {\n",
              "      border-color: transparent;\n",
              "      border-right-color: var(--fill-color);\n",
              "      border-bottom-color: var(--fill-color);\n",
              "    }\n",
              "    90% {\n",
              "      border-color: transparent;\n",
              "      border-bottom-color: var(--fill-color);\n",
              "    }\n",
              "  }\n",
              "</style>\n",
              "\n",
              "  <script>\n",
              "    async function quickchart(key) {\n",
              "      const quickchartButtonEl =\n",
              "        document.querySelector('#' + key + ' button');\n",
              "      quickchartButtonEl.disabled = true;  // To prevent multiple clicks.\n",
              "      quickchartButtonEl.classList.add('colab-df-spinner');\n",
              "      try {\n",
              "        const charts = await google.colab.kernel.invokeFunction(\n",
              "            'suggestCharts', [key], {});\n",
              "      } catch (error) {\n",
              "        console.error('Error during call to suggestCharts:', error);\n",
              "      }\n",
              "      quickchartButtonEl.classList.remove('colab-df-spinner');\n",
              "      quickchartButtonEl.classList.add('colab-df-quickchart-complete');\n",
              "    }\n",
              "    (() => {\n",
              "      let quickchartButtonEl =\n",
              "        document.querySelector('#df-36c72d8e-cce9-49a8-a4b0-fea20201dee4 button');\n",
              "      quickchartButtonEl.style.display =\n",
              "        google.colab.kernel.accessAllowed ? 'block' : 'none';\n",
              "    })();\n",
              "  </script>\n",
              "</div>\n",
              "    </div>\n",
              "  </div>\n"
            ]
          },
          "metadata": {},
          "execution_count": 7
        }
      ]
    },
    {
      "cell_type": "code",
      "source": [
        "# numpy - more efficient storage & computational format for large datasets\n",
        "shifted_df_as_np = shifted_df.to_numpy()\n",
        "\n",
        "shifted_df_as_np"
      ],
      "metadata": {
        "colab": {
          "base_uri": "https://localhost:8080/"
        },
        "id": "yWcD1tHjfAU-",
        "outputId": "6e486f27-db38-4b4f-9bf3-65d113926d28"
      },
      "id": "yWcD1tHjfAU-",
      "execution_count": null,
      "outputs": [
        {
          "output_type": "execute_result",
          "data": {
            "text/plain": [
              "array([[ 82.74649811,  82.00099945,  81.60849762, ...,  84.18900299,\n",
              "         83.72799683,  80.86049652],\n",
              "       [ 83.52850342,  82.74649811,  82.00099945, ...,  84.66100311,\n",
              "         84.18900299,  83.72799683],\n",
              "       [ 81.89450073,  83.52850342,  82.74649811, ...,  84.80999756,\n",
              "         84.66100311,  84.18900299],\n",
              "       ...,\n",
              "       [153.72999573, 151.36999512, 149.1000061 , ..., 148.47000122,\n",
              "        149.92999268, 151.94000244],\n",
              "       [155.17999268, 153.72999573, 151.36999512, ..., 144.57000732,\n",
              "        148.47000122, 149.92999268],\n",
              "       [154.61999512, 155.17999268, 153.72999573, ..., 145.24000549,\n",
              "        144.57000732, 148.47000122]])"
            ]
          },
          "metadata": {},
          "execution_count": 8
        }
      ]
    },
    {
      "cell_type": "code",
      "source": [
        "shifted_df_as_np.shape"
      ],
      "metadata": {
        "colab": {
          "base_uri": "https://localhost:8080/"
        },
        "id": "Pq2p3opGELA_",
        "outputId": "827187ae-4e9d-419f-d6c4-595f1605ac1e"
      },
      "id": "Pq2p3opGELA_",
      "execution_count": null,
      "outputs": [
        {
          "output_type": "execute_result",
          "data": {
            "text/plain": [
              "(1252, 8)"
            ]
          },
          "metadata": {},
          "execution_count": 9
        }
      ]
    },
    {
      "cell_type": "code",
      "source": [
        "# MinMAxScaler is a tool for scaling features to a specified range\n",
        "from sklearn.preprocessing import MinMaxScaler\n",
        "\n",
        "# scaling - improves performance and training stability of ML algos\n",
        "scaler = MinMaxScaler(feature_range=(-1, 1))\n",
        "shifted_df_as_np = scaler.fit_transform(shifted_df_as_np)\n",
        "\n",
        "shifted_df_as_np"
      ],
      "metadata": {
        "colab": {
          "base_uri": "https://localhost:8080/"
        },
        "id": "pXHkuFeafNUU",
        "outputId": "201d1f85-45f2-4fb0-fe43-53314b3a7d04"
      },
      "id": "pXHkuFeafNUU",
      "execution_count": null,
      "outputs": [
        {
          "output_type": "execute_result",
          "data": {
            "text/plain": [
              "array([[-0.93774709, -0.95166091, -0.95898647, ..., -0.91082451,\n",
              "        -0.91942863, -0.97294699],\n",
              "       [-0.92315193, -0.93774709, -0.95166091, ..., -0.90201521,\n",
              "        -0.91082451, -0.91942863],\n",
              "       [-0.95364857, -0.92315193, -0.93774709, ..., -0.89923442,\n",
              "        -0.90201521, -0.91082451],\n",
              "       ...,\n",
              "       [ 0.3870725 ,  0.34302599,  0.30065944, ...,  0.28890118,\n",
              "         0.31615012,  0.35366448],\n",
              "       [ 0.41413491,  0.3870725 ,  0.34302599, ...,  0.21611259,\n",
              "         0.28890118,  0.31615012],\n",
              "       [ 0.40368324,  0.41413491,  0.3870725 , ...,  0.22861729,\n",
              "         0.21611259,  0.28890118]])"
            ]
          },
          "metadata": {},
          "execution_count": 10
        }
      ]
    },
    {
      "cell_type": "code",
      "source": [
        "# guess what is done here\n",
        "X = shifted_df_as_np[:, 1:]\n",
        "y = shifted_df_as_np[:, 0]\n",
        "\n",
        "X.shape, y.shape"
      ],
      "metadata": {
        "colab": {
          "base_uri": "https://localhost:8080/"
        },
        "id": "Iui9unuTfxOe",
        "outputId": "85b6ca33-775e-441f-e87e-cb6a62d27723"
      },
      "id": "Iui9unuTfxOe",
      "execution_count": null,
      "outputs": [
        {
          "output_type": "execute_result",
          "data": {
            "text/plain": [
              "((1252, 7), (1252,))"
            ]
          },
          "metadata": {},
          "execution_count": 11
        }
      ]
    },
    {
      "cell_type": "code",
      "source": [
        "# Flipping to make t-7 first\n",
        "X = dc(np.flip(X, axis=1))\n",
        "X"
      ],
      "metadata": {
        "colab": {
          "base_uri": "https://localhost:8080/"
        },
        "id": "XmbIqwj-E0cv",
        "outputId": "7721abcf-791e-423f-c246-f0698716491e"
      },
      "id": "XmbIqwj-E0cv",
      "execution_count": null,
      "outputs": [
        {
          "output_type": "execute_result",
          "data": {
            "text/plain": [
              "array([[-0.97294699, -0.91942863, -0.91082451, ..., -0.89923442,\n",
              "        -0.95898647, -0.95166091],\n",
              "       [-0.91942863, -0.91082451, -0.90201521, ..., -0.95898647,\n",
              "        -0.95166091, -0.93774709],\n",
              "       [-0.91082451, -0.90201521, -0.89923442, ..., -0.95166091,\n",
              "        -0.93774709, -0.92315193],\n",
              "       ...,\n",
              "       [ 0.35366448,  0.31615012,  0.28890118, ...,  0.22861729,\n",
              "         0.30065944,  0.34302599],\n",
              "       [ 0.31615012,  0.28890118,  0.21611259, ...,  0.30065944,\n",
              "         0.34302599,  0.3870725 ],\n",
              "       [ 0.28890118,  0.21611259,  0.22861729, ...,  0.34302599,\n",
              "         0.3870725 ,  0.41413491]])"
            ]
          },
          "metadata": {},
          "execution_count": 12
        }
      ]
    },
    {
      "cell_type": "code",
      "source": [
        "# Calculate the index for splitting the dataset into train and test sets\n",
        "split_index = int(len(X) * 0.95)\n",
        "\n",
        "split_index"
      ],
      "metadata": {
        "colab": {
          "base_uri": "https://localhost:8080/"
        },
        "id": "GCHslawXgE21",
        "outputId": "9e281cb0-4a7b-4c98-d010-22fb212a4434"
      },
      "id": "GCHslawXgE21",
      "execution_count": null,
      "outputs": [
        {
          "output_type": "execute_result",
          "data": {
            "text/plain": [
              "1189"
            ]
          },
          "metadata": {},
          "execution_count": 13
        }
      ]
    },
    {
      "cell_type": "code",
      "source": [
        "# Splitting the features array into training and testing sets\n",
        "X_train = X[:split_index]\n",
        "X_test = X[split_index:]\n",
        "\n",
        "# Splitting the labels array into training and testing sets\n",
        "y_train = y[:split_index]\n",
        "y_test = y[split_index:]\n",
        "\n",
        "# Display the shapes of the training and testing datasets for features and labels\n",
        "X_train.shape, X_test.shape, y_train.shape, y_test.shape"
      ],
      "metadata": {
        "colab": {
          "base_uri": "https://localhost:8080/"
        },
        "id": "hhGMh_nAgiST",
        "outputId": "b0c577d1-9108-41d5-9119-92a5c0f9e6ce"
      },
      "id": "hhGMh_nAgiST",
      "execution_count": null,
      "outputs": [
        {
          "output_type": "execute_result",
          "data": {
            "text/plain": [
              "((1189, 7), (63, 7), (1189,), (63,))"
            ]
          },
          "metadata": {},
          "execution_count": 14
        }
      ]
    },
    {
      "cell_type": "code",
      "source": [
        "# Reshape the training and testing feature sets for ML model input\n",
        "## The data is reshaped to a format of (samples, time steps, features), where\n",
        "### time steps is the number of previous observations to use for predicting the next observation\n",
        "X_train = X_train.reshape((-1, lookback, 1))\n",
        "X_test = X_test.reshape((-1, lookback, 1))\n",
        "\n",
        "y_train = y_train.reshape((-1, 1))\n",
        "y_test = y_test.reshape((-1, 1))\n",
        "\n",
        "X_train.shape, X_test.shape, y_train.shape, y_test.shape"
      ],
      "metadata": {
        "colab": {
          "base_uri": "https://localhost:8080/"
        },
        "id": "Muqs9hKYhMUS",
        "outputId": "194ead97-d724-4303-8cbd-9e25272edfcd"
      },
      "id": "Muqs9hKYhMUS",
      "execution_count": null,
      "outputs": [
        {
          "output_type": "execute_result",
          "data": {
            "text/plain": [
              "((1189, 7, 1), (63, 7, 1), (1189, 1), (63, 1))"
            ]
          },
          "metadata": {},
          "execution_count": 15
        }
      ]
    },
    {
      "cell_type": "code",
      "source": [
        "# Convert the training and testing features from NumPy arrays to PyTorch tensors and ensure data type is float\n",
        "## This is necessary for feeding the data into a PyTorch model\n",
        "X_train = torch.tensor(X_train).float()\n",
        "y_train = torch.tensor(y_train).float()\n",
        "X_test = torch.tensor(X_test).float()\n",
        "y_test = torch.tensor(y_test).float()\n",
        "\n",
        "# Display the shapes of the PyTorch tensors for training and testing sets\n",
        "X_train.shape, X_test.shape, y_train.shape, y_test.shape"
      ],
      "metadata": {
        "colab": {
          "base_uri": "https://localhost:8080/"
        },
        "id": "i7-PBcrMhR7z",
        "outputId": "6f804b9b-548f-41a3-f31b-8e5c4429d1ec"
      },
      "id": "i7-PBcrMhR7z",
      "execution_count": null,
      "outputs": [
        {
          "output_type": "execute_result",
          "data": {
            "text/plain": [
              "(torch.Size([1189, 7, 1]),\n",
              " torch.Size([63, 7, 1]),\n",
              " torch.Size([1189, 1]),\n",
              " torch.Size([63, 1]))"
            ]
          },
          "metadata": {},
          "execution_count": 16
        }
      ]
    },
    {
      "cell_type": "code",
      "source": [
        "# Importing the Dataset class from PyTorch's utility data module,\n",
        "## basically ensuring compatibility iwth PyTorch data loaders and other utilities\n",
        "from torch.utils.data import Dataset\n",
        "\n",
        "# custom func inheriting from PyTorch's Dataset class\n",
        "## Tailored for handling time series data for model training and testing\n",
        "class TimeSeriesDataset(Dataset):\n",
        "    # The constructor initializes the dataset with features (X) and labels (y)\n",
        "    def __init__(self, X, y):\n",
        "        self.X = X # Features of the dataset\n",
        "        self.y = y # Labels of the dataset\n",
        "\n",
        "    # __len__ method returns the size of the dataset\n",
        "    def __len__(self):\n",
        "        return len(self.X) # Number of samples in the dataset\n",
        "\n",
        "    # __getitem__ method retrieves the ith sample and label from the dataset\n",
        "    def __getitem__(self, i):\n",
        "        return self.X[i], self.y[i] # Returns the ith feature and label pair\n",
        "\n",
        "# Creating instances of the TimeSeriesDataset for training and testing\n",
        "# These datasets wrap the preprocessed feature and label data (X_train, y_train, X_test, y_test)\n",
        "train_dataset = TimeSeriesDataset(X_train, y_train)\n",
        "test_dataset = TimeSeriesDataset(X_test, y_test)"
      ],
      "metadata": {
        "id": "DWutCAGKhdqU"
      },
      "id": "DWutCAGKhdqU",
      "execution_count": null,
      "outputs": []
    },
    {
      "cell_type": "code",
      "source": [
        "# Display the training dataset object\n",
        "train_dataset"
      ],
      "metadata": {
        "colab": {
          "base_uri": "https://localhost:8080/"
        },
        "id": "12OWUTa5ijoq",
        "outputId": "4799695d-5226-4e65-f999-b82dd4c506b1"
      },
      "id": "12OWUTa5ijoq",
      "execution_count": null,
      "outputs": [
        {
          "output_type": "execute_result",
          "data": {
            "text/plain": [
              "<__main__.TimeSeriesDataset at 0x7863495d1720>"
            ]
          },
          "metadata": {},
          "execution_count": 18
        }
      ]
    },
    {
      "cell_type": "code",
      "source": [
        "from torch.utils.data import DataLoader\n",
        "\n",
        "# batch size for data loader\n",
        "batch_size = 16\n",
        "\n",
        "# Creating DataLoader for the training\n",
        "# it facilitates the fetching of batches of data and can handle data shuffling\n",
        "train_loader = DataLoader(train_dataset, batch_size=batch_size, shuffle=True)\n",
        "\n",
        "# Creating a DataLoader for the testing dataset\n",
        "# For testing, shuffling is typically not necessary, hence shuffle=False\n",
        "test_loader = DataLoader(test_dataset, batch_size=batch_size, shuffle=False)"
      ],
      "metadata": {
        "id": "XYsUmPl3ik46"
      },
      "id": "XYsUmPl3ik46",
      "execution_count": null,
      "outputs": []
    },
    {
      "cell_type": "code",
      "source": [
        "# Creating a DataLoader for the testing dataset\n",
        "# For testing, shuffling is typically not necessary, hence shuffle=False\n",
        "for _, batch in enumerate(train_loader):\n",
        "    x_batch, y_batch = batch[0].to(device), batch[1].to(device)\n",
        "    print(x_batch.shape, y_batch.shape)\n",
        "    break"
      ],
      "metadata": {
        "colab": {
          "base_uri": "https://localhost:8080/"
        },
        "id": "TJTnbgBDjOSK",
        "outputId": "f54d8b6f-73ea-4d5a-fea7-dbbbe0d844eb"
      },
      "id": "TJTnbgBDjOSK",
      "execution_count": null,
      "outputs": [
        {
          "output_type": "stream",
          "name": "stdout",
          "text": [
            "torch.Size([16, 7, 1]) torch.Size([16, 1])\n"
          ]
        }
      ]
    },
    {
      "cell_type": "code",
      "source": [
        "import torch\n",
        "import torch.nn as nn\n",
        "\n",
        "# Define a class RNN that inherits from nn.Module\n",
        "class RNN(nn.Module):\n",
        "    def __init__(self, input_size, hidden_size, num_stacked_layers):\n",
        "        super().__init__() # initializes the base model\n",
        "        self.hidden_size = hidden_size # size of hidden layers\n",
        "        self.num_stacked_layers = num_stacked_layers # stacked RNN layers\n",
        "\n",
        "        # Defining RNN layer, a basic one\n",
        "        self.rnn = nn.RNN(input_size, hidden_size, num_stacked_layers, batch_first=True)\n",
        "\n",
        "        # FC layer that maps from hidden state space to output space\n",
        "        self.fc = nn.Linear(hidden_size, 1)\n",
        "\n",
        "    # forward pass trhough the network\n",
        "    def forward(self, x):\n",
        "        # getting batch size\n",
        "        batch_size = x.size(0)\n",
        "        # Initializing the hidden state for the first input (with zeros)\n",
        "        h0 = torch.zeros(self.num_stacked_layers, batch_size, self.hidden_size).to(device)\n",
        "\n",
        "        # Passing the input and h0 to the RNN layer\n",
        "        out, _ = self.rnn(x, h0)  # Note the change here: RNN only needs h0\n",
        "        out = self.fc(out[:, -1, :]) # Applying the fully connected layer to the last output\n",
        "        return out\n",
        "\n",
        "# Example usage\n",
        "## Creating an instance of the RNN model with specified parameters\n",
        "model_rnn = RNN(1, 4, 1) # Assuming input_size=1, hidden_size=4, num_stacked_layers=1\n",
        "model_rnn.to(device)\n"
      ],
      "metadata": {
        "colab": {
          "base_uri": "https://localhost:8080/"
        },
        "id": "zJrwRJl0M1zY",
        "outputId": "150fddcf-fe39-4ad7-db44-23b3df6dc304"
      },
      "id": "zJrwRJl0M1zY",
      "execution_count": null,
      "outputs": [
        {
          "output_type": "execute_result",
          "data": {
            "text/plain": [
              "RNN(\n",
              "  (rnn): RNN(1, 4, batch_first=True)\n",
              "  (fc): Linear(in_features=4, out_features=1, bias=True)\n",
              ")"
            ]
          },
          "metadata": {},
          "execution_count": 21
        }
      ]
    },
    {
      "cell_type": "code",
      "source": [
        "# Define a function to train the model for one epoch\n",
        "def train_one_epoch():\n",
        "    # Set the model to training mode\n",
        "    model_rnn.train(True)\n",
        "\n",
        "    # Print the current epoch number\n",
        "    print(f'Epoch: {epoch + 1}')\n",
        "\n",
        "    # Variable to keep track of the loss for this epoch\n",
        "    running_loss = 0.0\n",
        "\n",
        "    # Iterate over each batch in the training data loader\n",
        "    for batch_index, batch in enumerate(train_loader):\n",
        "        # Extract features (x_batch) and labels (y_batch) from the batch and move them to the device\n",
        "        x_batch, y_batch = batch[0].to(device), batch[1].to(device)\n",
        "\n",
        "        # Forward pass: compute predicted outputs by passing x_batch to the model\n",
        "        output = model_rnn(x_batch)\n",
        "\n",
        "        # Calculate the batch loss using the loss function\n",
        "        loss = loss_function(output, y_batch)\n",
        "\n",
        "        # Accumulate the loss\n",
        "        running_loss += loss.item()\n",
        "\n",
        "        # Zero out gradients from previous step (this is necessary before backward pass)\n",
        "        optimizer.zero_grad()\n",
        "\n",
        "        # Backward pass: compute gradient of the loss with respect to model parameters\n",
        "        loss.backward()\n",
        "\n",
        "        # Perform a single optimization step (parameter update)\n",
        "        optimizer.step()\n",
        "\n",
        "        # Print loss every 100 batches\n",
        "        if batch_index % 100 == 99:\n",
        "            avg_loss_across_batches = running_loss / 100\n",
        "            print('Batch {0}, Loss: {1:.3f}'.format(batch_index+1, avg_loss_across_batches))\n",
        "            running_loss = 0.0\n",
        "\n",
        "    # Print a new line for neatness\n",
        "    print()\n"
      ],
      "metadata": {
        "id": "t7SocgRENApI"
      },
      "id": "t7SocgRENApI",
      "execution_count": null,
      "outputs": []
    },
    {
      "cell_type": "code",
      "source": [
        "# Define a function to validate the model for one epoch\n",
        "def validate_one_epoch():\n",
        "    # Set the model to evaluation mode (this will turn off dropout layers, batch normalization, etc.)\n",
        "    model_rnn.train(False)\n",
        "\n",
        "    # Variable to keep track of the loss for this validation epoch\n",
        "    running_loss = 0.0\n",
        "\n",
        "    # Iterate over each batch in the testing data loader\n",
        "    for batch_index, batch in enumerate(test_loader):\n",
        "        # Extract features (x_batch) and labels (y_batch) from the batch and move them to the device\n",
        "        x_batch, y_batch = batch[0].to(device), batch[1].to(device)\n",
        "\n",
        "        # Disable gradient calculations for validation, to save memory and computations\n",
        "        with torch.no_grad():\n",
        "            # Forward pass: compute predicted outputs by passing x_batch to the model\n",
        "            output = model_rnn(x_batch)\n",
        "\n",
        "            # Calculate the batch loss using the loss function\n",
        "            loss = loss_function(output, y_batch)\n",
        "\n",
        "            # Accumulate the loss\n",
        "            running_loss += loss.item()\n",
        "\n",
        "    # Calculate the average loss across all batches in the test loader\n",
        "    avg_loss_across_batches = running_loss / len(test_loader)\n",
        "\n",
        "    # Print the average validation loss for this epoch\n",
        "    print('Val Loss: {0:.3f}'.format(avg_loss_across_batches))\n",
        "\n",
        "    # Print a separator line for clarity in output\n",
        "    print('***************************************************')\n",
        "    print()\n"
      ],
      "metadata": {
        "id": "4PhIhYfBNH1P"
      },
      "id": "4PhIhYfBNH1P",
      "execution_count": null,
      "outputs": []
    },
    {
      "cell_type": "code",
      "source": [
        "# Set the learning rate for the optimizer\n",
        "learning_rate = 0.001\n",
        "\n",
        "# Define the number of epochs for training\n",
        "num_epochs = 50\n",
        "\n",
        "# Define the loss function to be used - Mean Squared Error Loss in this case\n",
        "loss_function = nn.MSELoss()\n",
        "\n",
        "# Initialize the optimizer (Adam) with the model parameters and set the learning rate\n",
        "optimizer = torch.optim.Adam(model_rnn.parameters(), lr=learning_rate)\n",
        "\n",
        "# Iterate over the defined number of epochs to train and validate the model\n",
        "for epoch in range(num_epochs):\n",
        "    # Call the function to train the model for one epoch\n",
        "    # This will perform forward and backward passes and update model parameters\n",
        "    train_one_epoch()\n",
        "\n",
        "    # Call the function to validate the model for one epoch\n",
        "    # This will evaluate the model performance on the validation dataset\n",
        "    validate_one_epoch()\n"
      ],
      "metadata": {
        "colab": {
          "base_uri": "https://localhost:8080/"
        },
        "id": "JBQWOxR3NN_L",
        "outputId": "b96d789e-6f9f-4f19-dbf0-571f1f3d915e"
      },
      "id": "JBQWOxR3NN_L",
      "execution_count": null,
      "outputs": [
        {
          "output_type": "stream",
          "name": "stdout",
          "text": [
            "Epoch: 1\n",
            "\n",
            "Val Loss: 0.101\n",
            "***************************************************\n",
            "\n",
            "Epoch: 2\n",
            "\n",
            "Val Loss: 0.064\n",
            "***************************************************\n",
            "\n",
            "Epoch: 3\n",
            "\n",
            "Val Loss: 0.004\n",
            "***************************************************\n",
            "\n",
            "Epoch: 4\n",
            "\n",
            "Val Loss: 0.008\n",
            "***************************************************\n",
            "\n",
            "Epoch: 5\n",
            "\n",
            "Val Loss: 0.006\n",
            "***************************************************\n",
            "\n",
            "Epoch: 6\n",
            "\n",
            "Val Loss: 0.006\n",
            "***************************************************\n",
            "\n",
            "Epoch: 7\n",
            "\n",
            "Val Loss: 0.005\n",
            "***************************************************\n",
            "\n",
            "Epoch: 8\n",
            "\n",
            "Val Loss: 0.005\n",
            "***************************************************\n",
            "\n",
            "Epoch: 9\n",
            "\n",
            "Val Loss: 0.004\n",
            "***************************************************\n",
            "\n",
            "Epoch: 10\n",
            "\n",
            "Val Loss: 0.005\n",
            "***************************************************\n",
            "\n",
            "Epoch: 11\n",
            "\n",
            "Val Loss: 0.004\n",
            "***************************************************\n",
            "\n",
            "Epoch: 12\n",
            "\n",
            "Val Loss: 0.004\n",
            "***************************************************\n",
            "\n",
            "Epoch: 13\n",
            "\n",
            "Val Loss: 0.004\n",
            "***************************************************\n",
            "\n",
            "Epoch: 14\n",
            "\n",
            "Val Loss: 0.003\n",
            "***************************************************\n",
            "\n",
            "Epoch: 15\n",
            "\n",
            "Val Loss: 0.003\n",
            "***************************************************\n",
            "\n",
            "Epoch: 16\n",
            "\n",
            "Val Loss: 0.003\n",
            "***************************************************\n",
            "\n",
            "Epoch: 17\n",
            "\n",
            "Val Loss: 0.003\n",
            "***************************************************\n",
            "\n",
            "Epoch: 18\n",
            "\n",
            "Val Loss: 0.003\n",
            "***************************************************\n",
            "\n",
            "Epoch: 19\n",
            "\n",
            "Val Loss: 0.003\n",
            "***************************************************\n",
            "\n",
            "Epoch: 20\n",
            "\n",
            "Val Loss: 0.003\n",
            "***************************************************\n",
            "\n",
            "Epoch: 21\n",
            "\n",
            "Val Loss: 0.003\n",
            "***************************************************\n",
            "\n",
            "Epoch: 22\n",
            "\n",
            "Val Loss: 0.003\n",
            "***************************************************\n",
            "\n",
            "Epoch: 23\n",
            "\n",
            "Val Loss: 0.003\n",
            "***************************************************\n",
            "\n",
            "Epoch: 24\n",
            "\n",
            "Val Loss: 0.003\n",
            "***************************************************\n",
            "\n",
            "Epoch: 25\n",
            "\n",
            "Val Loss: 0.003\n",
            "***************************************************\n",
            "\n",
            "Epoch: 26\n",
            "\n",
            "Val Loss: 0.003\n",
            "***************************************************\n",
            "\n",
            "Epoch: 27\n",
            "\n",
            "Val Loss: 0.003\n",
            "***************************************************\n",
            "\n",
            "Epoch: 28\n",
            "\n",
            "Val Loss: 0.003\n",
            "***************************************************\n",
            "\n",
            "Epoch: 29\n",
            "\n",
            "Val Loss: 0.003\n",
            "***************************************************\n",
            "\n",
            "Epoch: 30\n",
            "\n",
            "Val Loss: 0.003\n",
            "***************************************************\n",
            "\n",
            "Epoch: 31\n",
            "\n",
            "Val Loss: 0.003\n",
            "***************************************************\n",
            "\n",
            "Epoch: 32\n",
            "\n",
            "Val Loss: 0.003\n",
            "***************************************************\n",
            "\n",
            "Epoch: 33\n",
            "\n",
            "Val Loss: 0.003\n",
            "***************************************************\n",
            "\n",
            "Epoch: 34\n",
            "\n",
            "Val Loss: 0.003\n",
            "***************************************************\n",
            "\n",
            "Epoch: 35\n",
            "\n",
            "Val Loss: 0.003\n",
            "***************************************************\n",
            "\n",
            "Epoch: 36\n",
            "\n",
            "Val Loss: 0.002\n",
            "***************************************************\n",
            "\n",
            "Epoch: 37\n",
            "\n",
            "Val Loss: 0.002\n",
            "***************************************************\n",
            "\n",
            "Epoch: 38\n",
            "\n",
            "Val Loss: 0.002\n",
            "***************************************************\n",
            "\n",
            "Epoch: 39\n",
            "\n",
            "Val Loss: 0.003\n",
            "***************************************************\n",
            "\n",
            "Epoch: 40\n",
            "\n",
            "Val Loss: 0.002\n",
            "***************************************************\n",
            "\n",
            "Epoch: 41\n",
            "\n",
            "Val Loss: 0.002\n",
            "***************************************************\n",
            "\n",
            "Epoch: 42\n",
            "\n",
            "Val Loss: 0.003\n",
            "***************************************************\n",
            "\n",
            "Epoch: 43\n",
            "\n",
            "Val Loss: 0.003\n",
            "***************************************************\n",
            "\n",
            "Epoch: 44\n",
            "\n",
            "Val Loss: 0.002\n",
            "***************************************************\n",
            "\n",
            "Epoch: 45\n",
            "\n",
            "Val Loss: 0.002\n",
            "***************************************************\n",
            "\n",
            "Epoch: 46\n",
            "\n",
            "Val Loss: 0.003\n",
            "***************************************************\n",
            "\n",
            "Epoch: 47\n",
            "\n",
            "Val Loss: 0.002\n",
            "***************************************************\n",
            "\n",
            "Epoch: 48\n",
            "\n",
            "Val Loss: 0.002\n",
            "***************************************************\n",
            "\n",
            "Epoch: 49\n",
            "\n",
            "Val Loss: 0.003\n",
            "***************************************************\n",
            "\n",
            "Epoch: 50\n",
            "\n",
            "Val Loss: 0.002\n",
            "***************************************************\n",
            "\n"
          ]
        }
      ]
    },
    {
      "cell_type": "code",
      "source": [
        "# Temporarily set all the required gradients to zero (useful for inference)\n",
        "with torch.no_grad():\n",
        "    # Forward pass through the RNN model with the training data\n",
        "    # Then, move the predictions back to the CPU and convert them to a NumPy array\n",
        "    predicted_rnn = model_rnn(X_train.to(device)).to('cpu').numpy()\n",
        "\n",
        "# Plotting the actual vs predicted values\n",
        "plt.plot(y_train, label='Actual Close')  # Plot the actual Close values from the training set\n",
        "plt.plot(predicted_rnn, label='Predicted Close')  # Plot the predicted Close values by the RNN model\n",
        "\n",
        "# Setting the labels for the x-axis and y-axis\n",
        "plt.xlabel('Day')  # Label for the x-axis indicating each point is a day\n",
        "plt.ylabel('Close')  # Label for the y-axis indicating the Close value\n",
        "\n",
        "# Adding a legend to distinguish between actual and predicted values\n",
        "plt.legend()\n",
        "\n",
        "# Display the plot\n",
        "plt.show()\n"
      ],
      "metadata": {
        "colab": {
          "base_uri": "https://localhost:8080/",
          "height": 449
        },
        "id": "xattNQ9ANozG",
        "outputId": "3f507b18-09f8-4b9b-a40d-71be4d16459f"
      },
      "id": "xattNQ9ANozG",
      "execution_count": null,
      "outputs": [
        {
          "output_type": "display_data",
          "data": {
            "text/plain": [
              "<Figure size 640x480 with 1 Axes>"
            ],
            "image/png": "[encoded data removed]"
          },
          "metadata": {}
        }
      ]
    },
    {
      "cell_type": "code",
      "source": [
        "# Flatten the predictions array for easier manipulation\n",
        "train_predictions_rnn = predicted_rnn.flatten()\n",
        "\n",
        "# Create a dummy array of zeros with the same number of rows as X_train and 'lookback+1' columns\n",
        "dummies = np.zeros((X_train.shape[0], lookback+1))\n",
        "\n",
        "# Place the flattened predictions into the first column of the dummy array\n",
        "dummies[:, 0] = train_predictions_rnn\n",
        "\n",
        "# Inverse transform the scaled data to get predictions in the original scale\n",
        "# Since only the first column of 'dummies' contains meaningful data (predictions), the rest of the columns remain zeros\n",
        "dummies = scaler.inverse_transform(dummies)\n",
        "\n",
        "# Extract the first column from the inverse transformed array, which contains the actual predictions\n",
        "# We use a deep copy to ensure that the original data is not affected by any further modifications\n",
        "train_predictions_rnn = dc(dummies[:, 0])\n",
        "\n",
        "# Output the train predictions after inverse scaling\n",
        "train_predictions_rnn"
      ],
      "metadata": {
        "colab": {
          "base_uri": "https://localhost:8080/"
        },
        "id": "uzYvGja4N3zl",
        "outputId": "15fdbd22-9cf5-4d36-9ca2-bc5fdcff715b"
      },
      "id": "uzYvGja4N3zl",
      "execution_count": null,
      "outputs": [
        {
          "output_type": "execute_result",
          "data": {
            "text/plain": [
              "array([ 83.94683096,  84.78290631,  85.54114401, ..., 128.5933402 ,\n",
              "       129.59287088, 131.81130433])"
            ]
          },
          "metadata": {},
          "execution_count": 26
        }
      ]
    },
    {
      "cell_type": "code",
      "source": [
        "# Create a dummy array of zeros with the same number of rows as X_train and 'lookback+1' columns\n",
        "# This array is used to inverse transform the scaled target values back to their original scale\n",
        "dummies = np.zeros((X_train.shape[0], lookback+1))\n",
        "\n",
        "# Populate the first column of the dummy array with the flattened y_train values\n",
        "# Flattening is necessary to match the dimensions for the inverse transformation\n",
        "dummies[:, 0] = y_train.flatten()\n",
        "\n",
        "# Apply the inverse transformation to the dummy array using the same scaler that was used for scaling the data\n",
        "# This will transform the target values (y_train) back to their original scale\n",
        "dummies = scaler.inverse_transform(dummies)\n",
        "\n",
        "# Extract the first column (which contains the inverse-transformed target values) from the dummy array\n",
        "# Using deepcopy to ensure that the original data remains unchanged for future use\n",
        "new_y_train_rnn = dc(dummies[:, 0])\n",
        "\n",
        "# Output the transformed target values after inverse scaling\n",
        "new_y_train_rnn\n"
      ],
      "metadata": {
        "colab": {
          "base_uri": "https://localhost:8080/"
        },
        "id": "IsdGVjvkOKS5",
        "outputId": "f54e1dea-155f-45cb-b3a0-49077e0c379d"
      },
      "id": "IsdGVjvkOKS5",
      "execution_count": null,
      "outputs": [
        {
          "output_type": "execute_result",
          "data": {
            "text/plain": [
              "array([ 82.74649658,  83.52850426,  81.89450112, ..., 129.47999582,\n",
              "       131.83000187, 132.33000184])"
            ]
          },
          "metadata": {},
          "execution_count": 27
        }
      ]
    },
    {
      "cell_type": "markdown",
      "source": [
        "# Plotting the actual vs. predicted values for visualization"
      ],
      "metadata": {
        "id": "PCx7-Ra6tBL4"
      },
      "id": "PCx7-Ra6tBL4"
    },
    {
      "cell_type": "code",
      "source": [
        "# Plot the actual Close values from the transformed training set\n",
        "plt.plot(new_y_train_rnn, label='Actual Close')\n",
        "\n",
        "# Plot the predicted Close values from the RNN model\n",
        "plt.plot(train_predictions_rnn, label='Predicted Close')\n",
        "\n",
        "# Setting the label for the x-axis\n",
        "plt.xlabel('Day')  # Each point on the x-axis represents a day\n",
        "\n",
        "# Setting the label for the y-axis\n",
        "plt.ylabel('Close')  # The y-axis represents the Close value\n",
        "\n",
        "# Adding a legend to the plot to differentiate between the actual and predicted lines\n",
        "plt.legend()\n",
        "\n",
        "# Display the plot on the screen\n",
        "plt.show()\n"
      ],
      "metadata": {
        "colab": {
          "base_uri": "https://localhost:8080/",
          "height": 449
        },
        "id": "EHd1kMv4OTcq",
        "outputId": "ada27df0-f5af-48c5-d98f-ce1de3b960c4"
      },
      "id": "EHd1kMv4OTcq",
      "execution_count": null,
      "outputs": [
        {
          "output_type": "display_data",
          "data": {
            "text/plain": [
              "<Figure size 640x480 with 1 Axes>"
            ],
            "image/png": "[encoded data removed]"
          },
          "metadata": {}
        }
      ]
    },
    {
      "cell_type": "markdown",
      "source": [
        "# Generating predictions for the test dataset using the trained RNN model\n"
      ],
      "metadata": {
        "id": "IeD7MSUCtDXJ"
      },
      "id": "IeD7MSUCtDXJ"
    },
    {
      "cell_type": "code",
      "source": [
        "# Forward pass through the model with the test data, detaching gradients, moving to CPU,\n",
        "# converting to a NumPy array, and then flattening the array\n",
        "test_predictions_rnn = model_rnn(X_test.to(device)).detach().cpu().numpy().flatten()\n",
        "\n",
        "# Create a dummy array of zeros with the same number of rows as X_test and 'lookback+1' columns\n",
        "# This array is used for inverse transforming the scaled predictions back to their original scale\n",
        "dummies = np.zeros((X_test.shape[0], lookback+1))\n",
        "\n",
        "# Populate the first column of the dummy array with the test predictions\n",
        "dummies[:, 0] = test_predictions_rnn\n",
        "\n",
        "# Apply the inverse transformation to the dummy array using the scaler\n",
        "# This will transform the predictions back to their original scale\n",
        "dummies = scaler.inverse_transform(dummies)\n",
        "\n",
        "# Extract the first column (which contains the inverse-transformed predictions) from the dummy array\n",
        "# Using deepcopy to ensure that the original dummy data remains unchanged\n",
        "test_predictions_rnn = dc(dummies[:, 0])\n",
        "\n",
        "# Output the test predictions after inverse scaling\n",
        "test_predictions_rnn\n"
      ],
      "metadata": {
        "colab": {
          "base_uri": "https://localhost:8080/"
        },
        "id": "wqNmMQBBOjYt",
        "outputId": "cc8c961a-7e87-4ef3-9129-afd439729cd4"
      },
      "id": "wqNmMQBBOjYt",
      "execution_count": null,
      "outputs": [
        {
          "output_type": "execute_result",
          "data": {
            "text/plain": [
              "array([133.03274283, 130.78076418, 131.77586813, 132.29333061,\n",
              "       128.91716942, 127.7300841 , 125.71268907, 125.62954525,\n",
              "       128.25519686, 123.31563867, 118.55035852, 125.25229386,\n",
              "       133.30010478, 134.75017562, 137.0769592 , 139.15110013,\n",
              "       139.38133008, 140.12791033, 142.8371864 , 143.29573332,\n",
              "       141.46414923, 143.14752385, 143.7271458 , 145.59174615,\n",
              "       144.77284838, 143.15558211, 144.97091556, 146.81314632,\n",
              "       145.14726066, 146.31317599, 147.61196831, 148.15765585,\n",
              "       147.85751157, 146.94655265, 146.48860612, 147.25425298,\n",
              "       145.94903354, 146.62419049, 145.76326492, 146.58028485,\n",
              "       148.06806574, 146.94925124, 147.41332948, 149.24817503,\n",
              "       148.52012006, 149.74729666, 153.94353925, 154.96704071,\n",
              "       153.07484445, 153.6506732 , 154.10115308, 153.80281   ,\n",
              "       153.73948088, 153.77317337, 152.68451286, 150.62979741,\n",
              "       148.90088362, 145.58021565, 144.84270602, 148.64270327,\n",
              "       151.96366266, 154.15589461, 155.72037304])"
            ]
          },
          "metadata": {},
          "execution_count": 29
        }
      ]
    },
    {
      "cell_type": "markdown",
      "source": [
        "# Preparing the actual y_test values (target labels) for comparison with model predictions"
      ],
      "metadata": {
        "id": "lOIZFffjtW7Q"
      },
      "id": "lOIZFffjtW7Q"
    },
    {
      "cell_type": "code",
      "source": [
        "# Create a dummy array of zeros with the same number of rows as X_test and 'lookback+1' columns\n",
        "# This is used for inverse transforming the scaled target values (y_test) back to their original scale\n",
        "dummies = np.zeros((X_test.shape[0], lookback+1))\n",
        "\n",
        "# Populate the first column of the dummy array with the flattened y_test values\n",
        "# Flattening is necessary to match the dimensions for the inverse transformation\n",
        "dummies[:, 0] = y_test.flatten()\n",
        "\n",
        "# Apply the inverse transformation to the dummy array using the same scaler that was used for scaling the data\n",
        "# This will transform the target values (y_test) back to their original scale\n",
        "dummies = scaler.inverse_transform(dummies)\n",
        "\n",
        "# Extract the first column (which contains the inverse-transformed target values) from the dummy array\n",
        "# Using deepcopy to ensure that the original data remains unchanged for future use\n",
        "new_y_test_rnn = dc(dummies[:, 0])\n",
        "\n",
        "# Output the transformed target values after inverse scaling\n",
        "new_y_test_rnn"
      ],
      "metadata": {
        "colab": {
          "base_uri": "https://localhost:8080/"
        },
        "id": "lrfLfwxiOwz4",
        "outputId": "51427261-453c-4b89-940e-37406cc6f10b"
      },
      "id": "lrfLfwxiOwz4",
      "execution_count": null,
      "outputs": [
        {
          "output_type": "execute_result",
          "data": {
            "text/plain": [
              "array([129.78999335, 132.55000303, 131.47000122, 128.13000487,\n",
              "       128.39999396, 125.16999793, 126.55999752, 128.5599974 ,\n",
              "       121.38999901, 119.56999891, 127.73999784, 132.71000672,\n",
              "       133.08999634, 137.00000018, 138.07000726, 138.60000623,\n",
              "       139.74000588, 142.7100068 , 142.08000179, 140.60000611,\n",
              "       143.55999748, 142.58999604, 145.80000331, 143.19999713,\n",
              "       142.8300016 , 145.17999268, 146.13000457, 143.89999391,\n",
              "       146.71000736, 146.74000486, 147.72999585, 147.02999827,\n",
              "       146.32000711, 146.08999672, 147.02999827, 144.83999625,\n",
              "       146.88000437, 144.52000454, 146.88000437, 147.41999772,\n",
              "       145.88999901, 147.47999591, 148.83999601, 147.41999772,\n",
              "       149.97000088, 154.07000748, 153.78999408, 152.11999585,\n",
              "       153.8399963 , 153.41999775, 153.41000337, 153.33999643,\n",
              "       153.38000427, 151.94000286, 149.92999304, 148.47000128,\n",
              "       144.57000756, 145.24000525, 149.10000628, 151.36999445,\n",
              "       153.72999588, 155.17999327, 154.6199952 ])"
            ]
          },
          "metadata": {},
          "execution_count": 30
        }
      ]
    },
    {
      "cell_type": "markdown",
      "source": [
        "# Plotting the actual vs. predicted values for the test dataset"
      ],
      "metadata": {
        "id": "JCf_V6XWtjEJ"
      },
      "id": "JCf_V6XWtjEJ"
    },
    {
      "cell_type": "code",
      "source": [
        "# Plot the actual Close values from the transformed test dataset (new_y_test_rnn)\n",
        "plt.plot(new_y_test_rnn, label='Actual Close')  # Label this plot line as 'Actual Close'\n",
        "\n",
        "# Plot the predicted Close values from the RNN model (test_predictions_rnn)\n",
        "plt.plot(test_predictions_rnn, label='Predicted Close')  # Label this plot line as 'Predicted Close'\n",
        "\n",
        "# Setting labels for the axes of the plot\n",
        "plt.xlabel('Day')  # Label for the x-axis to indicate that each point represents a day\n",
        "plt.ylabel('Close')  # Label for the y-axis to indicate the 'Close' value of a financial time series\n",
        "\n",
        "# Adding a legend to the plot for clarity, distinguishing between actual and predicted values\n",
        "plt.legend()\n",
        "\n",
        "# Display the plot on the screen\n",
        "plt.show()\n"
      ],
      "metadata": {
        "colab": {
          "base_uri": "https://localhost:8080/",
          "height": 449
        },
        "id": "n_Mko5B0O92v",
        "outputId": "e0c5962b-18c4-4fa5-9fd5-c610966b5673"
      },
      "id": "n_Mko5B0O92v",
      "execution_count": null,
      "outputs": [
        {
          "output_type": "display_data",
          "data": {
            "text/plain": [
              "<Figure size 640x480 with 1 Axes>"
            ],
            "image/png": "[encoded data removed]"
          },
          "metadata": {}
        }
      ]
    },
    {
      "cell_type": "markdown",
      "source": [
        "\n",
        "\n",
        "---\n",
        "\n",
        "\n",
        "\n",
        "---\n",
        "\n"
      ],
      "metadata": {
        "id": "Oar-2TXd-FPp"
      },
      "id": "Oar-2TXd-FPp"
    },
    {
      "cell_type": "code",
      "source": [],
      "metadata": {
        "id": "-CuelDg2seDP"
      },
      "id": "-CuelDg2seDP",
      "execution_count": null,
      "outputs": []
    }
  ],
  "metadata": {
    "kernelspec": {
      "display_name": "Python 3",
      "name": "python3"
    },
    "language_info": {
      "name": "python"
    },
    "colab": {
      "provenance": [],
      "gpuType": "T4",
      "include_colab_link": true
    },
    "gpuClass": "standard"
  },
  "nbformat": 4,
  "nbformat_minor": 5
}