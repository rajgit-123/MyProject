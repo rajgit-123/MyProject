{
  "metadata": {
    "kernelspec": {
      "language": "python",
      "display_name": "Python 3",
      "name": "python3"
    },
    "language_info": {
      "name": "python",
      "version": "3.10.14",
      "mimetype": "text/x-python",
      "codemirror_mode": {
        "name": "ipython",
        "version": 3
      },
      "pygments_lexer": "ipython3",
      "nbconvert_exporter": "python",
      "file_extension": ".py"
    },
    "kaggle": {
      "accelerator": "none",
      "dataSources": [
        {
          "sourceId": 4508,
          "sourceType": "datasetVersion",
          "datasetId": 138
        }
      ],
      "dockerImageVersionId": 30786,
      "isInternetEnabled": true,
      "language": "python",
      "sourceType": "notebook",
      "isGpuEnabled": false
    },
    "colab": {
      "provenance": [],
      "include_colab_link": true
    }
  },
  "nbformat_minor": 0,
  "nbformat": 4,
  "cells": [
    {
      "cell_type": "markdown",
      "metadata": {
        "id": "view-in-github",
        "colab_type": "text"
      },
      "source": [
        "<a href=\"https://colab.research.google.com/github/rajgit-123/MyProject/blob/master/TMDB_5000_Movie_Dataset_Cleaning.ipynb\" target=\"_parent\"><img src=\"https://colab.research.google.com/assets/colab-badge.svg\" alt=\"Open In Colab\"/></a>"
      ]
    },
    {
      "source": [
        "# IMPORTANT: RUN THIS CELL IN ORDER TO IMPORT YOUR KAGGLE DATA SOURCES,\n",
        "# THEN FEEL FREE TO DELETE THIS CELL.\n",
        "# NOTE: THIS NOTEBOOK ENVIRONMENT DIFFERS FROM KAGGLE'S PYTHON\n",
        "# ENVIRONMENT SO THERE MAY BE MISSING LIBRARIES USED BY YOUR\n",
        "# NOTEBOOK.\n",
        "import kagglehub\n",
        "organizations_tmdb_tmdb_movie_metadata_path = kagglehub.dataset_download('organizations/tmdb/tmdb-movie-metadata')\n",
        "\n",
        "print('Data source import complete.')\n"
      ],
      "metadata": {
        "id": "OijQ_bD6D6jB"
      },
      "cell_type": "code",
      "outputs": [],
      "execution_count": null
    },
    {
      "cell_type": "code",
      "source": [
        "# This Python 3 environment comes with many helpful analytics libraries installed\n",
        "# It is defined by the kaggle/python Docker image: https://github.com/kaggle/docker-python\n",
        "# For example, here's several helpful packages to load\n",
        "\n",
        "import numpy as np # linear algebra\n",
        "import pandas as pd # data processing, CSV file I/O (e.g. pd.read_csv)\n",
        "\n",
        "# Input data files are available in the read-only \"../input/\" directory\n",
        "# For example, running this (by clicking run or pressing Shift+Enter) will list all files under the input directory\n",
        "\n",
        "import os\n",
        "for dirname, _, filenames in os.walk('/kaggle/input'):\n",
        "    for filename in filenames:\n",
        "        print(os.path.join(dirname, filename))\n",
        "\n",
        "# You can write up to 20GB to the current directory (/kaggle/working/) that gets preserved as output when you create a version using \"Save & Run All\"\n",
        "# You can also write temporary files to /kaggle/temp/, but they won't be saved outside of the current session"
      ],
      "metadata": {
        "_uuid": "8f2839f25d086af736a60e9eeb907d3b93b6e0e5",
        "_cell_guid": "b1076dfc-b9ad-4769-8c92-a6c4dae69d19",
        "trusted": true,
        "execution": {
          "iopub.status.busy": "2024-11-22T04:08:36.935909Z",
          "iopub.execute_input": "2024-11-22T04:08:36.936339Z",
          "iopub.status.idle": "2024-11-22T04:08:36.945871Z",
          "shell.execute_reply.started": "2024-11-22T04:08:36.9363Z",
          "shell.execute_reply": "2024-11-22T04:08:36.944546Z"
        },
        "id": "L_XV07YSD6jB",
        "outputId": "69086475-c8e2-4536-fdec-4802bc67e3ce"
      },
      "outputs": [
        {
          "name": "stdout",
          "text": "/kaggle/input/tmdb-movie-metadata/tmdb_5000_movies.csv\n/kaggle/input/tmdb-movie-metadata/tmdb_5000_credits.csv\n",
          "output_type": "stream"
        }
      ],
      "execution_count": null
    },
    {
      "cell_type": "code",
      "source": [
        "import pandas as pd\n",
        "import numpy as np\n",
        "\n",
        "path=\"/kaggle/input/tmdb-movie-metadata/\"\n",
        "df=pd.read_csv(path + \"tmdb_5000_credits.csv\")\n",
        "\n",
        "df.head()\n",
        "df.info()"
      ],
      "metadata": {
        "trusted": true,
        "execution": {
          "iopub.status.busy": "2024-11-22T04:08:36.948015Z",
          "iopub.execute_input": "2024-11-22T04:08:36.948387Z",
          "iopub.status.idle": "2024-11-22T04:08:37.420535Z",
          "shell.execute_reply.started": "2024-11-22T04:08:36.948352Z",
          "shell.execute_reply": "2024-11-22T04:08:37.419236Z"
        },
        "id": "gR03GoQID6jC",
        "outputId": "38d9c551-31d7-41cb-f37a-355badf93595"
      },
      "outputs": [
        {
          "name": "stdout",
          "text": "<class 'pandas.core.frame.DataFrame'>\nRangeIndex: 4803 entries, 0 to 4802\nData columns (total 4 columns):\n #   Column    Non-Null Count  Dtype \n---  ------    --------------  ----- \n 0   movie_id  4803 non-null   int64 \n 1   title     4803 non-null   object\n 2   cast      4803 non-null   object\n 3   crew      4803 non-null   object\ndtypes: int64(1), object(3)\nmemory usage: 150.2+ KB\n",
          "output_type": "stream"
        }
      ],
      "execution_count": null
    },
    {
      "cell_type": "code",
      "source": [
        "#Clean Cast column\n",
        "#df[\"cast\"][0] # to see all data in a column cast\n",
        "\n",
        "#\n",
        "# '[{\"cast_id\": 242,\n",
        "# \"character\": \"Jake Sully\",\n",
        "# \"credit_id\": \"5602a8a7c3a3685532001c9a\",\n",
        "# \"gender\": 2,\n",
        "# \"id\": 65731,\n",
        "# \"name\": \"Sam Worthington\",\n",
        "# \"order\": 0},\n",
        "\n",
        "# #[{\"credit_id\": \"52fe48009251416c750aca23\",\n",
        "# \"department\": \"Editing\",\n",
        "# \"gender\": 0,\n",
        "# \"id\": 1721,\n",
        "# \"job\": \"Editor\",\n",
        "# \"name\": \"Stephen E. Rivkin\"}\n",
        "\n",
        "#creted new columns for the cast column data\n",
        "df[\"cast_id\"]=df.cast.str.split(\",\").str.get(0)\n",
        "df[\"character\"]=df.cast.str.split(\",\").str.get(1)\n",
        "df[\"credit_id\"]=df.cast.str.split(\",\").str.get(2)\n",
        "df[\"gender\"]=df.cast.str.split(\",\").str.get(3)\n",
        "df[\"id\"]=df.cast.str.split(\",\").str.get(4)\n",
        "df[\"name\"]=df.cast.str.split(\",\").str.get(5)\n",
        "df[\"order\"]=df.cast.str.split(\",\").str.get(6)\n",
        "\n",
        "#genders = df['gender'].tolist()\n",
        "\n",
        "# show the list\n",
        "#print(genders)"
      ],
      "metadata": {
        "trusted": true,
        "execution": {
          "iopub.status.busy": "2024-11-22T04:08:37.422071Z",
          "iopub.execute_input": "2024-11-22T04:08:37.422532Z",
          "iopub.status.idle": "2024-11-22T04:08:38.300918Z",
          "shell.execute_reply.started": "2024-11-22T04:08:37.422483Z",
          "shell.execute_reply": "2024-11-22T04:08:38.299815Z"
        },
        "id": "68IilvcsD6jC"
      },
      "outputs": [],
      "execution_count": null
    },
    {
      "cell_type": "code",
      "source": [
        "#Clean Cast_id column\n",
        "df[\"cast_id\"][0] # to see all data in a column cast_id\n",
        "#'[{\"cast_id\": 242'\n",
        "\n",
        "#remove column names for all column data\n",
        "df[\"cast_id\"]=df.cast_id.str.split(\":\").str.get(1)\n",
        "\n",
        "df[\"character\"]=df.character.str.split(\":\").str.get(1)\n",
        "\n",
        "df[\"credit_id\"]=df.credit_id.str.split(\":\").str.get(1)\n",
        "\n",
        "df[\"gender\"]=df.gender.str.split(\":\").str.get(1)\n",
        "\n",
        "df[\"id\"]=df.id.str.split(\":\").str.get(1)\n",
        "\n",
        "df[\"name\"]=df.name.str.split(\":\").str.get(1)\n",
        "\n",
        "df[\"order\"]=df.order.str.split(\":\").str.get(1)\n",
        "\n",
        "\n"
      ],
      "metadata": {
        "trusted": true,
        "execution": {
          "iopub.status.busy": "2024-11-22T04:08:38.302429Z",
          "iopub.execute_input": "2024-11-22T04:08:38.302767Z",
          "iopub.status.idle": "2024-11-22T04:08:38.381363Z",
          "shell.execute_reply.started": "2024-11-22T04:08:38.302735Z",
          "shell.execute_reply": "2024-11-22T04:08:38.380016Z"
        },
        "id": "knejm3w_D6jC"
      },
      "outputs": [],
      "execution_count": null
    },
    {
      "cell_type": "code",
      "source": [
        "\n",
        "#df[\"crew\"][0]\n",
        "# #[{\"credit_id\": \"52fe48009251416c750aca23\",\n",
        "# \"department\": \"Editing\",\n",
        "# \"gender\": 0,\n",
        "# \"id\": 1721,\n",
        "# \"job\": \"Editor\",\n",
        "# \"name\": \"Stephen E. Rivkin\"}"
      ],
      "metadata": {
        "trusted": true,
        "execution": {
          "iopub.status.busy": "2024-11-22T04:08:38.384122Z",
          "iopub.execute_input": "2024-11-22T04:08:38.384824Z",
          "iopub.status.idle": "2024-11-22T04:08:38.399246Z",
          "shell.execute_reply.started": "2024-11-22T04:08:38.384785Z",
          "shell.execute_reply": "2024-11-22T04:08:38.397951Z"
        },
        "id": "lWp5QFB2D6jD"
      },
      "outputs": [],
      "execution_count": null
    },
    {
      "cell_type": "code",
      "source": [
        "#df.head()\n",
        "#creted new columns for the crew column data\n",
        "\n",
        "df[\"crew_credit_id\"]=df.crew.str.split(\",\").str.get(0)\n",
        "df[\"crew_department\"]=df.crew.str.split(\",\").str.get(1)\n",
        "df[\"crew_gender\"]=df.crew.str.split(\",\").str.get(2)\n",
        "df[\"crew_id\"]=df.crew.str.split(\",\").str.get(3)\n",
        "df[\"crew_job\"]=df.crew.str.split(\",\").str.get(4)\n",
        "df[\"crew_name\"]=df.crew.str.split(\",\").str.get(5)\n",
        "\n",
        "df.head()\n",
        "\n",
        "#remove column names\n",
        "df[\"crew_credit_id\"]=df.crew_credit_id.str.split(\":\").str.get(1)\n",
        "df[\"crew_department\"]=df.crew_department.str.split(\":\").str.get(1)\n",
        "df[\"crew_gender\"]=df.crew_gender.str.split(\":\").str.get(1)\n",
        "df[\"crew_id\"]=df.crew_id.str.split(\":\").str.get(1)\n",
        "df[\"crew_job\"]=df.crew_job.str.split(\":\").str.get(1)\n",
        "df[\"crew_name\"]=df.crew_name.str.split(\":\").str.get(1)\n",
        "\n",
        "df.head()"
      ],
      "metadata": {
        "trusted": true,
        "execution": {
          "iopub.status.busy": "2024-11-22T04:08:38.400762Z",
          "iopub.execute_input": "2024-11-22T04:08:38.40129Z",
          "iopub.status.idle": "2024-11-22T04:08:39.112176Z",
          "shell.execute_reply.started": "2024-11-22T04:08:38.401218Z",
          "shell.execute_reply": "2024-11-22T04:08:39.111071Z"
        },
        "id": "38sUN9LHD6jD",
        "outputId": "0720246f-0050-4e0a-edfa-f17b39a58eb8"
      },
      "outputs": [
        {
          "execution_count": 54,
          "output_type": "execute_result",
          "data": {
            "text/plain": "   movie_id                                     title  \\\n0     19995                                    Avatar   \n1       285  Pirates of the Caribbean: At World's End   \n2    206647                                   Spectre   \n3     49026                     The Dark Knight Rises   \n4     49529                               John Carter   \n\n                                                cast  \\\n0  [{\"cast_id\": 242, \"character\": \"Jake Sully\", \"...   \n1  [{\"cast_id\": 4, \"character\": \"Captain Jack Spa...   \n2  [{\"cast_id\": 1, \"character\": \"James Bond\", \"cr...   \n3  [{\"cast_id\": 2, \"character\": \"Bruce Wayne / Ba...   \n4  [{\"cast_id\": 5, \"character\": \"John Carter\", \"c...   \n\n                                                crew cast_id  \\\n0  [{\"credit_id\": \"52fe48009251416c750aca23\", \"de...     242   \n1  [{\"credit_id\": \"52fe4232c3a36847f800b579\", \"de...       4   \n2  [{\"credit_id\": \"54805967c3a36829b5002c41\", \"de...       1   \n3  [{\"credit_id\": \"52fe4781c3a36847f81398c3\", \"de...       2   \n4  [{\"credit_id\": \"52fe479ac3a36847f813eaa3\", \"de...       5   \n\n                 character                    credit_id gender      id  \\\n0             \"Jake Sully\"   \"5602a8a7c3a3685532001c9a\"      2   65731   \n1   \"Captain Jack Sparrow\"   \"52fe4232c3a36847f800b50d\"      2      85   \n2             \"James Bond\"   \"52fe4d22c3a368484e1d8d6b\"      2    8784   \n3   \"Bruce Wayne / Batman\"   \"52fe4781c3a36847f8139869\"      2    3894   \n4            \"John Carter\"   \"52fe479ac3a36847f813ea75\"      2   60900   \n\n                 name order               crew_credit_id crew_department  \\\n0   \"Sam Worthington\"    0}   \"52fe48009251416c750aca23\"       \"Editing\"   \n1       \"Johnny Depp\"    0}   \"52fe4232c3a36847f800b579\"        \"Camera\"   \n2      \"Daniel Craig\"    0}   \"54805967c3a36829b5002c41\"         \"Sound\"   \n3    \"Christian Bale\"    0}   \"52fe4781c3a36847f81398c3\"         \"Sound\"   \n4     \"Taylor Kitsch\"    0}   \"52fe479ac3a36847f813eaa3\"       \"Writing\"   \n\n  crew_gender crew_id                    crew_job              crew_name  \n0           0    1721                    \"Editor\"   \"Stephen E. Rivkin\"}  \n1           2     120   \"Director of Photography\"      \"Dariusz Wolski\"}  \n2           2     153   \"Original Music Composer\"       \"Thomas Newman\"}  \n3           2     947   \"Original Music Composer\"         \"Hans Zimmer\"}  \n4           2       7                \"Screenplay\"      \"Andrew Stanton\"}  ",
            "text/html": "<div>\n<style scoped>\n    .dataframe tbody tr th:only-of-type {\n        vertical-align: middle;\n    }\n\n    .dataframe tbody tr th {\n        vertical-align: top;\n    }\n\n    .dataframe thead th {\n        text-align: right;\n    }\n</style>\n<table border=\"1\" class=\"dataframe\">\n  <thead>\n    <tr style=\"text-align: right;\">\n      <th></th>\n      <th>movie_id</th>\n      <th>title</th>\n      <th>cast</th>\n      <th>crew</th>\n      <th>cast_id</th>\n      <th>character</th>\n      <th>credit_id</th>\n      <th>gender</th>\n      <th>id</th>\n      <th>name</th>\n      <th>order</th>\n      <th>crew_credit_id</th>\n      <th>crew_department</th>\n      <th>crew_gender</th>\n      <th>crew_id</th>\n      <th>crew_job</th>\n      <th>crew_name</th>\n    </tr>\n  </thead>\n  <tbody>\n    <tr>\n      <th>0</th>\n      <td>19995</td>\n      <td>Avatar</td>\n      <td>[{\"cast_id\": 242, \"character\": \"Jake Sully\", \"...</td>\n      <td>[{\"credit_id\": \"52fe48009251416c750aca23\", \"de...</td>\n      <td>242</td>\n      <td>\"Jake Sully\"</td>\n      <td>\"5602a8a7c3a3685532001c9a\"</td>\n      <td>2</td>\n      <td>65731</td>\n      <td>\"Sam Worthington\"</td>\n      <td>0}</td>\n      <td>\"52fe48009251416c750aca23\"</td>\n      <td>\"Editing\"</td>\n      <td>0</td>\n      <td>1721</td>\n      <td>\"Editor\"</td>\n      <td>\"Stephen E. Rivkin\"}</td>\n    </tr>\n    <tr>\n      <th>1</th>\n      <td>285</td>\n      <td>Pirates of the Caribbean: At World's End</td>\n      <td>[{\"cast_id\": 4, \"character\": \"Captain Jack Spa...</td>\n      <td>[{\"credit_id\": \"52fe4232c3a36847f800b579\", \"de...</td>\n      <td>4</td>\n      <td>\"Captain Jack Sparrow\"</td>\n      <td>\"52fe4232c3a36847f800b50d\"</td>\n      <td>2</td>\n      <td>85</td>\n      <td>\"Johnny Depp\"</td>\n      <td>0}</td>\n      <td>\"52fe4232c3a36847f800b579\"</td>\n      <td>\"Camera\"</td>\n      <td>2</td>\n      <td>120</td>\n      <td>\"Director of Photography\"</td>\n      <td>\"Dariusz Wolski\"}</td>\n    </tr>\n    <tr>\n      <th>2</th>\n      <td>206647</td>\n      <td>Spectre</td>\n      <td>[{\"cast_id\": 1, \"character\": \"James Bond\", \"cr...</td>\n      <td>[{\"credit_id\": \"54805967c3a36829b5002c41\", \"de...</td>\n      <td>1</td>\n      <td>\"James Bond\"</td>\n      <td>\"52fe4d22c3a368484e1d8d6b\"</td>\n      <td>2</td>\n      <td>8784</td>\n      <td>\"Daniel Craig\"</td>\n      <td>0}</td>\n      <td>\"54805967c3a36829b5002c41\"</td>\n      <td>\"Sound\"</td>\n      <td>2</td>\n      <td>153</td>\n      <td>\"Original Music Composer\"</td>\n      <td>\"Thomas Newman\"}</td>\n    </tr>\n    <tr>\n      <th>3</th>\n      <td>49026</td>\n      <td>The Dark Knight Rises</td>\n      <td>[{\"cast_id\": 2, \"character\": \"Bruce Wayne / Ba...</td>\n      <td>[{\"credit_id\": \"52fe4781c3a36847f81398c3\", \"de...</td>\n      <td>2</td>\n      <td>\"Bruce Wayne / Batman\"</td>\n      <td>\"52fe4781c3a36847f8139869\"</td>\n      <td>2</td>\n      <td>3894</td>\n      <td>\"Christian Bale\"</td>\n      <td>0}</td>\n      <td>\"52fe4781c3a36847f81398c3\"</td>\n      <td>\"Sound\"</td>\n      <td>2</td>\n      <td>947</td>\n      <td>\"Original Music Composer\"</td>\n      <td>\"Hans Zimmer\"}</td>\n    </tr>\n    <tr>\n      <th>4</th>\n      <td>49529</td>\n      <td>John Carter</td>\n      <td>[{\"cast_id\": 5, \"character\": \"John Carter\", \"c...</td>\n      <td>[{\"credit_id\": \"52fe479ac3a36847f813eaa3\", \"de...</td>\n      <td>5</td>\n      <td>\"John Carter\"</td>\n      <td>\"52fe479ac3a36847f813ea75\"</td>\n      <td>2</td>\n      <td>60900</td>\n      <td>\"Taylor Kitsch\"</td>\n      <td>0}</td>\n      <td>\"52fe479ac3a36847f813eaa3\"</td>\n      <td>\"Writing\"</td>\n      <td>2</td>\n      <td>7</td>\n      <td>\"Screenplay\"</td>\n      <td>\"Andrew Stanton\"}</td>\n    </tr>\n  </tbody>\n</table>\n</div>"
          },
          "metadata": {}
        }
      ],
      "execution_count": null
    },
    {
      "cell_type": "code",
      "source": [
        "# def clean_cols(x):\n",
        "#     x=x.strip('\"')\n",
        "#     return x\n",
        "#df['character'] = df['character'].str.strip('\"\"')\n",
        "#df['character'] = df['character'].str.strip('\"')\n",
        "#df['character'] = df['character'].str.strip(''')\n",
        "#df['character']=df['character'].apply(clean_cols)\n",
        "#df['character']=df.character.str.replace(\"\"\", \"\")\n",
        "\n",
        "#remove all the extra character like \" \" ,}\n",
        "df['character'] = df['character'].str.replace('\"', '')\n",
        "df['credit_id'] = df['credit_id'].str.replace('\"', '')\n",
        "df['crew_credit_id'] = df['crew_credit_id'].str.replace('\"', '')\n",
        "df['name'] = df['name'].str.replace('\"', '')\n",
        "df['order'] = df['order'].str.replace('}', '')\n",
        "df['crew_department'] = df['crew_department'].str.replace('\"', '')\n",
        "df['crew_job'] = df['crew_job'].str.replace('\"', '')\n",
        "df['crew_name'] = df['crew_name'].str.replace('\"', '')\n",
        "df['crew_name'] = df['crew_name'].str.replace('}', '')\n",
        "df['crew_name'][0]\n",
        "\n",
        "\n",
        "#df.info()\n",
        "#df['gender'].type\n",
        "\n",
        "# df=df.drop(['cast', 'crew'], axis=1, inplace=True)\n",
        "df.head()\n",
        "\n",
        "threshold = len(df) * 0.5\n",
        "df = df.dropna(thresh=threshold, axis=1)\n",
        "df.head()\n",
        "\n",
        "#cleaned_df=df[\"movie_id\",\"title\",\"cast_id\",\"character\",\"credit_id\",\"gender\",\"order\",\"crew_credit_id\",\"crew_department\",\"crew_gender\",\"crew_id\",\"crew_job\",\"crew_name\"]\n",
        "\n",
        "#cleaned_df.head()"
      ],
      "metadata": {
        "trusted": true,
        "execution": {
          "iopub.status.busy": "2024-11-22T04:08:39.113758Z",
          "iopub.execute_input": "2024-11-22T04:08:39.11417Z",
          "iopub.status.idle": "2024-11-22T04:08:39.177046Z",
          "shell.execute_reply.started": "2024-11-22T04:08:39.114129Z",
          "shell.execute_reply": "2024-11-22T04:08:39.176Z"
        },
        "id": "Qm-JXQM9D6jD",
        "outputId": "dadd219a-96dc-4663-9405-709144118a97"
      },
      "outputs": [
        {
          "execution_count": 55,
          "output_type": "execute_result",
          "data": {
            "text/plain": "   movie_id                                     title  \\\n0     19995                                    Avatar   \n1       285  Pirates of the Caribbean: At World's End   \n2    206647                                   Spectre   \n3     49026                     The Dark Knight Rises   \n4     49529                               John Carter   \n\n                                                cast  \\\n0  [{\"cast_id\": 242, \"character\": \"Jake Sully\", \"...   \n1  [{\"cast_id\": 4, \"character\": \"Captain Jack Spa...   \n2  [{\"cast_id\": 1, \"character\": \"James Bond\", \"cr...   \n3  [{\"cast_id\": 2, \"character\": \"Bruce Wayne / Ba...   \n4  [{\"cast_id\": 5, \"character\": \"John Carter\", \"c...   \n\n                                                crew cast_id  \\\n0  [{\"credit_id\": \"52fe48009251416c750aca23\", \"de...     242   \n1  [{\"credit_id\": \"52fe4232c3a36847f800b579\", \"de...       4   \n2  [{\"credit_id\": \"54805967c3a36829b5002c41\", \"de...       1   \n3  [{\"credit_id\": \"52fe4781c3a36847f81398c3\", \"de...       2   \n4  [{\"credit_id\": \"52fe479ac3a36847f813eaa3\", \"de...       5   \n\n               character                  credit_id gender      id  \\\n0             Jake Sully   5602a8a7c3a3685532001c9a      2   65731   \n1   Captain Jack Sparrow   52fe4232c3a36847f800b50d      2      85   \n2             James Bond   52fe4d22c3a368484e1d8d6b      2    8784   \n3   Bruce Wayne / Batman   52fe4781c3a36847f8139869      2    3894   \n4            John Carter   52fe479ac3a36847f813ea75      2   60900   \n\n               name order             crew_credit_id crew_department  \\\n0   Sam Worthington     0   52fe48009251416c750aca23         Editing   \n1       Johnny Depp     0   52fe4232c3a36847f800b579          Camera   \n2      Daniel Craig     0   54805967c3a36829b5002c41           Sound   \n3    Christian Bale     0   52fe4781c3a36847f81398c3           Sound   \n4     Taylor Kitsch     0   52fe479ac3a36847f813eaa3         Writing   \n\n  crew_gender crew_id                  crew_job           crew_name  \n0           0    1721                    Editor   Stephen E. Rivkin  \n1           2     120   Director of Photography      Dariusz Wolski  \n2           2     153   Original Music Composer       Thomas Newman  \n3           2     947   Original Music Composer         Hans Zimmer  \n4           2       7                Screenplay      Andrew Stanton  ",
            "text/html": "<div>\n<style scoped>\n    .dataframe tbody tr th:only-of-type {\n        vertical-align: middle;\n    }\n\n    .dataframe tbody tr th {\n        vertical-align: top;\n    }\n\n    .dataframe thead th {\n        text-align: right;\n    }\n</style>\n<table border=\"1\" class=\"dataframe\">\n  <thead>\n    <tr style=\"text-align: right;\">\n      <th></th>\n      <th>movie_id</th>\n      <th>title</th>\n      <th>cast</th>\n      <th>crew</th>\n      <th>cast_id</th>\n      <th>character</th>\n      <th>credit_id</th>\n      <th>gender</th>\n      <th>id</th>\n      <th>name</th>\n      <th>order</th>\n      <th>crew_credit_id</th>\n      <th>crew_department</th>\n      <th>crew_gender</th>\n      <th>crew_id</th>\n      <th>crew_job</th>\n      <th>crew_name</th>\n    </tr>\n  </thead>\n  <tbody>\n    <tr>\n      <th>0</th>\n      <td>19995</td>\n      <td>Avatar</td>\n      <td>[{\"cast_id\": 242, \"character\": \"Jake Sully\", \"...</td>\n      <td>[{\"credit_id\": \"52fe48009251416c750aca23\", \"de...</td>\n      <td>242</td>\n      <td>Jake Sully</td>\n      <td>5602a8a7c3a3685532001c9a</td>\n      <td>2</td>\n      <td>65731</td>\n      <td>Sam Worthington</td>\n      <td>0</td>\n      <td>52fe48009251416c750aca23</td>\n      <td>Editing</td>\n      <td>0</td>\n      <td>1721</td>\n      <td>Editor</td>\n      <td>Stephen E. Rivkin</td>\n    </tr>\n    <tr>\n      <th>1</th>\n      <td>285</td>\n      <td>Pirates of the Caribbean: At World's End</td>\n      <td>[{\"cast_id\": 4, \"character\": \"Captain Jack Spa...</td>\n      <td>[{\"credit_id\": \"52fe4232c3a36847f800b579\", \"de...</td>\n      <td>4</td>\n      <td>Captain Jack Sparrow</td>\n      <td>52fe4232c3a36847f800b50d</td>\n      <td>2</td>\n      <td>85</td>\n      <td>Johnny Depp</td>\n      <td>0</td>\n      <td>52fe4232c3a36847f800b579</td>\n      <td>Camera</td>\n      <td>2</td>\n      <td>120</td>\n      <td>Director of Photography</td>\n      <td>Dariusz Wolski</td>\n    </tr>\n    <tr>\n      <th>2</th>\n      <td>206647</td>\n      <td>Spectre</td>\n      <td>[{\"cast_id\": 1, \"character\": \"James Bond\", \"cr...</td>\n      <td>[{\"credit_id\": \"54805967c3a36829b5002c41\", \"de...</td>\n      <td>1</td>\n      <td>James Bond</td>\n      <td>52fe4d22c3a368484e1d8d6b</td>\n      <td>2</td>\n      <td>8784</td>\n      <td>Daniel Craig</td>\n      <td>0</td>\n      <td>54805967c3a36829b5002c41</td>\n      <td>Sound</td>\n      <td>2</td>\n      <td>153</td>\n      <td>Original Music Composer</td>\n      <td>Thomas Newman</td>\n    </tr>\n    <tr>\n      <th>3</th>\n      <td>49026</td>\n      <td>The Dark Knight Rises</td>\n      <td>[{\"cast_id\": 2, \"character\": \"Bruce Wayne / Ba...</td>\n      <td>[{\"credit_id\": \"52fe4781c3a36847f81398c3\", \"de...</td>\n      <td>2</td>\n      <td>Bruce Wayne / Batman</td>\n      <td>52fe4781c3a36847f8139869</td>\n      <td>2</td>\n      <td>3894</td>\n      <td>Christian Bale</td>\n      <td>0</td>\n      <td>52fe4781c3a36847f81398c3</td>\n      <td>Sound</td>\n      <td>2</td>\n      <td>947</td>\n      <td>Original Music Composer</td>\n      <td>Hans Zimmer</td>\n    </tr>\n    <tr>\n      <th>4</th>\n      <td>49529</td>\n      <td>John Carter</td>\n      <td>[{\"cast_id\": 5, \"character\": \"John Carter\", \"c...</td>\n      <td>[{\"credit_id\": \"52fe479ac3a36847f813eaa3\", \"de...</td>\n      <td>5</td>\n      <td>John Carter</td>\n      <td>52fe479ac3a36847f813ea75</td>\n      <td>2</td>\n      <td>60900</td>\n      <td>Taylor Kitsch</td>\n      <td>0</td>\n      <td>52fe479ac3a36847f813eaa3</td>\n      <td>Writing</td>\n      <td>2</td>\n      <td>7</td>\n      <td>Screenplay</td>\n      <td>Andrew Stanton</td>\n    </tr>\n  </tbody>\n</table>\n</div>"
          },
          "metadata": {}
        }
      ],
      "execution_count": null
    },
    {
      "cell_type": "code",
      "source": [
        "\n",
        "#df['gender'].shape\n",
        "#df['gender'] = df[df['gender'].isin([0, 1, 2])]\n",
        "#df['gender'] = df.where(df.gender.isin([0, 1, 2]), np.nan)\n",
        "\n",
        "#df['gender'] = df['gender'].where(df['gender'].isin([0, 1, 2]), np.nan)\n",
        "\n",
        "#print(df['gender'].unique())\n",
        "#df['gender'][100]\n",
        "\n",
        "# df_filtered = df[df['gender'].isin([0, 1, 2])]\n",
        "\n",
        "# #df.shape\n",
        "# print(df_filtered['gender'].unique())\n",
        "# df_filtered.head()"
      ],
      "metadata": {
        "trusted": true,
        "execution": {
          "iopub.status.busy": "2024-11-22T04:08:39.178828Z",
          "iopub.execute_input": "2024-11-22T04:08:39.179132Z",
          "iopub.status.idle": "2024-11-22T04:08:39.183593Z",
          "shell.execute_reply.started": "2024-11-22T04:08:39.179103Z",
          "shell.execute_reply": "2024-11-22T04:08:39.182483Z"
        },
        "id": "DiqWeIIPD6jD"
      },
      "outputs": [],
      "execution_count": null
    }
  ]
}