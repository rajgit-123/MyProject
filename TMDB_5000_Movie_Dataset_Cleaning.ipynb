{
  "metadata": {
    "kernelspec": {
      "language": "python",
      "display_name": "Python 3",
      "name": "python3"
    },
    "language_info": {
      "name": "python",
      "version": "3.10.14",
      "mimetype": "text/x-python",
      "codemirror_mode": {
        "name": "ipython",
        "version": 3
      },
      "pygments_lexer": "ipython3",
      "nbconvert_exporter": "python",
      "file_extension": ".py"
    },
    "kaggle": {
      "accelerator": "none",
      "dataSources": [
        {
          "sourceId": 4508,
          "sourceType": "datasetVersion",
          "datasetId": 138
        }
      ],
      "dockerImageVersionId": 30786,
      "isInternetEnabled": true,
      "language": "python",
      "sourceType": "notebook",
      "isGpuEnabled": false
    },
    "colab": {
      "name": "TMDB 5000 Movie Dataset-Cleaning",
      "provenance": [],
      "include_colab_link": true
    }
  },
  "nbformat_minor": 0,
  "nbformat": 4,
  "cells": [
    {
      "cell_type": "markdown",
      "metadata": {
        "id": "view-in-github",
        "colab_type": "text"
      },
      "source": [
        "<a href=\"https://colab.research.google.com/github/rajgit-123/MyProject/blob/master/TMDB_5000_Movie_Dataset_Cleaning.ipynb\" target=\"_parent\"><img src=\"https://colab.research.google.com/assets/colab-badge.svg\" alt=\"Open In Colab\"/></a>"
      ]
    },
    {
      "source": [
        "# IMPORTANT: RUN THIS CELL IN ORDER TO IMPORT YOUR KAGGLE DATA SOURCES,\n",
        "# THEN FEEL FREE TO DELETE THIS CELL.\n",
        "# NOTE: THIS NOTEBOOK ENVIRONMENT DIFFERS FROM KAGGLE'S PYTHON\n",
        "# ENVIRONMENT SO THERE MAY BE MISSING LIBRARIES USED BY YOUR\n",
        "# NOTEBOOK.\n",
        "import kagglehub\n",
        "organizations_tmdb_tmdb_movie_metadata_path = kagglehub.dataset_download('organizations/tmdb/tmdb-movie-metadata')\n",
        "\n",
        "print('Data source import complete.')\n"
      ],
      "metadata": {
        "id": "EuBDTWCpq7Pf"
      },
      "cell_type": "code",
      "outputs": [],
      "execution_count": null
    },
    {
      "cell_type": "code",
      "source": [
        "# This Python 3 environment comes with many helpful analytics libraries installed\n",
        "# It is defined by the kaggle/python Docker image: https://github.com/kaggle/docker-python\n",
        "# For example, here's several helpful packages to load\n",
        "\n",
        "import numpy as np # linear algebra\n",
        "import pandas as pd # data processing, CSV file I/O (e.g. pd.read_csv)\n",
        "\n",
        "# Input data files are available in the read-only \"../input/\" directory\n",
        "# For example, running this (by clicking run or pressing Shift+Enter) will list all files under the input directory\n",
        "\n",
        "import os\n",
        "for dirname, _, filenames in os.walk('/kaggle/input'):\n",
        "    for filename in filenames:\n",
        "        print(os.path.join(dirname, filename))\n",
        "\n",
        "# You can write up to 20GB to the current directory (/kaggle/working/) that gets preserved as output when you create a version using \"Save & Run All\"\n",
        "# You can also write temporary files to /kaggle/temp/, but they won't be saved outside of the current session"
      ],
      "metadata": {
        "_uuid": "8f2839f25d086af736a60e9eeb907d3b93b6e0e5",
        "_cell_guid": "b1076dfc-b9ad-4769-8c92-a6c4dae69d19",
        "trusted": true,
        "execution": {
          "iopub.status.busy": "2024-11-22T06:28:27.217917Z",
          "iopub.execute_input": "2024-11-22T06:28:27.218454Z",
          "iopub.status.idle": "2024-11-22T06:28:27.228413Z",
          "shell.execute_reply.started": "2024-11-22T06:28:27.218404Z",
          "shell.execute_reply": "2024-11-22T06:28:27.22714Z"
        },
        "id": "iF9rao1lq7Pg",
        "outputId": "3903b12b-e1fd-4e8a-bfdb-45c6401278e8"
      },
      "outputs": [
        {
          "name": "stdout",
          "text": "/kaggle/input/tmdb-movie-metadata/tmdb_5000_movies.csv\n/kaggle/input/tmdb-movie-metadata/tmdb_5000_credits.csv\n",
          "output_type": "stream"
        }
      ],
      "execution_count": null
    },
    {
      "cell_type": "code",
      "source": [
        "import pandas as pd\n",
        "import numpy as np\n",
        "\n",
        "path=\"/kaggle/input/tmdb-movie-metadata/\"\n",
        "df=pd.read_csv(path + \"tmdb_5000_credits.csv\")\n",
        "\n",
        "df.head()\n",
        "df.info()"
      ],
      "metadata": {
        "trusted": true,
        "execution": {
          "iopub.status.busy": "2024-11-22T06:28:27.232023Z",
          "iopub.execute_input": "2024-11-22T06:28:27.23252Z",
          "iopub.status.idle": "2024-11-22T06:28:27.701313Z",
          "shell.execute_reply.started": "2024-11-22T06:28:27.232468Z",
          "shell.execute_reply": "2024-11-22T06:28:27.700042Z"
        },
        "id": "f_LwT3oMq7Ph",
        "outputId": "3cd6219c-1bbd-404f-d0af-438feb30e255"
      },
      "outputs": [
        {
          "name": "stdout",
          "text": "<class 'pandas.core.frame.DataFrame'>\nRangeIndex: 4803 entries, 0 to 4802\nData columns (total 4 columns):\n #   Column    Non-Null Count  Dtype \n---  ------    --------------  ----- \n 0   movie_id  4803 non-null   int64 \n 1   title     4803 non-null   object\n 2   cast      4803 non-null   object\n 3   crew      4803 non-null   object\ndtypes: int64(1), object(3)\nmemory usage: 150.2+ KB\n",
          "output_type": "stream"
        }
      ],
      "execution_count": null
    },
    {
      "cell_type": "code",
      "source": [
        "#Clean Cast column\n",
        "#df[\"cast\"][0] # to see all data in a column cast\n",
        "\n",
        "#\n",
        "# '[{\"cast_id\": 242,\n",
        "# \"character\": \"Jake Sully\",\n",
        "# \"credit_id\": \"5602a8a7c3a3685532001c9a\",\n",
        "# \"gender\": 2,\n",
        "# \"id\": 65731,\n",
        "# \"name\": \"Sam Worthington\",\n",
        "# \"order\": 0},\n",
        "\n",
        "# #[{\"credit_id\": \"52fe48009251416c750aca23\",\n",
        "# \"department\": \"Editing\",\n",
        "# \"gender\": 0,\n",
        "# \"id\": 1721,\n",
        "# \"job\": \"Editor\",\n",
        "# \"name\": \"Stephen E. Rivkin\"}\n",
        "\n",
        "#creted new columns for the cast column data\n",
        "df[\"cast_id\"]=df.cast.str.split(\",\").str.get(0)\n",
        "df[\"character\"]=df.cast.str.split(\",\").str.get(1)\n",
        "df[\"credit_id\"]=df.cast.str.split(\",\").str.get(2)\n",
        "df[\"gender\"]=df.cast.str.split(\",\").str.get(3)\n",
        "df[\"id\"]=df.cast.str.split(\",\").str.get(4)\n",
        "df[\"name\"]=df.cast.str.split(\",\").str.get(5)\n",
        "df[\"order\"]=df.cast.str.split(\",\").str.get(6)\n",
        "\n",
        "#genders = df['gender'].tolist()\n",
        "\n",
        "# show the list\n",
        "#print(genders)"
      ],
      "metadata": {
        "trusted": true,
        "execution": {
          "iopub.status.busy": "2024-11-22T06:28:27.703189Z",
          "iopub.execute_input": "2024-11-22T06:28:27.703539Z",
          "iopub.status.idle": "2024-11-22T06:28:28.417406Z",
          "shell.execute_reply.started": "2024-11-22T06:28:27.703508Z",
          "shell.execute_reply": "2024-11-22T06:28:28.416321Z"
        },
        "id": "UUQduF5nq7Ph"
      },
      "outputs": [],
      "execution_count": null
    },
    {
      "cell_type": "code",
      "source": [
        "#Clean Cast_id column\n",
        "df[\"cast_id\"][0] # to see all data in a column cast_id\n",
        "#'[{\"cast_id\": 242'\n",
        "\n",
        "#remove column names for all column data\n",
        "df[\"cast_id\"]=df.cast_id.str.split(\":\").str.get(1)\n",
        "\n",
        "df[\"character\"]=df.character.str.split(\":\").str.get(1)\n",
        "\n",
        "df[\"credit_id\"]=df.credit_id.str.split(\":\").str.get(1)\n",
        "\n",
        "df[\"gender\"]=df.gender.str.split(\":\").str.get(1)\n",
        "\n",
        "df[\"id\"]=df.id.str.split(\":\").str.get(1)\n",
        "\n",
        "df[\"name\"]=df.name.str.split(\":\").str.get(1)\n",
        "\n",
        "df[\"order\"]=df.order.str.split(\":\").str.get(1)\n",
        "\n",
        "\n"
      ],
      "metadata": {
        "trusted": true,
        "execution": {
          "iopub.status.busy": "2024-11-22T06:28:28.418752Z",
          "iopub.execute_input": "2024-11-22T06:28:28.419158Z",
          "iopub.status.idle": "2024-11-22T06:28:28.496438Z",
          "shell.execute_reply.started": "2024-11-22T06:28:28.419115Z",
          "shell.execute_reply": "2024-11-22T06:28:28.495013Z"
        },
        "id": "RRsd9hVvq7Ph"
      },
      "outputs": [],
      "execution_count": null
    },
    {
      "cell_type": "code",
      "source": [
        "\n",
        "#df[\"crew\"][0]\n",
        "# #[{\"credit_id\": \"52fe48009251416c750aca23\",\n",
        "# \"department\": \"Editing\",\n",
        "# \"gender\": 0,\n",
        "# \"id\": 1721,\n",
        "# \"job\": \"Editor\",\n",
        "# \"name\": \"Stephen E. Rivkin\"}"
      ],
      "metadata": {
        "trusted": true,
        "execution": {
          "iopub.status.busy": "2024-11-22T06:28:28.498779Z",
          "iopub.execute_input": "2024-11-22T06:28:28.499148Z",
          "iopub.status.idle": "2024-11-22T06:28:28.516336Z",
          "shell.execute_reply.started": "2024-11-22T06:28:28.499117Z",
          "shell.execute_reply": "2024-11-22T06:28:28.515013Z"
        },
        "id": "ejUqutrbq7Ph"
      },
      "outputs": [],
      "execution_count": null
    },
    {
      "cell_type": "code",
      "source": [
        "#df.head()\n",
        "#creted new columns for the crew column data\n",
        "\n",
        "df[\"crew_credit_id\"]=df.crew.str.split(\",\").str.get(0)\n",
        "df[\"crew_department\"]=df.crew.str.split(\",\").str.get(1)\n",
        "df[\"crew_gender\"]=df.crew.str.split(\",\").str.get(2)\n",
        "df[\"crew_id\"]=df.crew.str.split(\",\").str.get(3)\n",
        "df[\"crew_job\"]=df.crew.str.split(\",\").str.get(4)\n",
        "df[\"crew_name\"]=df.crew.str.split(\",\").str.get(5)\n",
        "\n",
        "df.head()\n",
        "\n",
        "#remove column names\n",
        "df[\"crew_credit_id\"]=df.crew_credit_id.str.split(\":\").str.get(1)\n",
        "df[\"crew_department\"]=df.crew_department.str.split(\":\").str.get(1)\n",
        "df[\"crew_gender\"]=df.crew_gender.str.split(\":\").str.get(1)\n",
        "df[\"crew_id\"]=df.crew_id.str.split(\":\").str.get(1)\n",
        "df[\"crew_job\"]=df.crew_job.str.split(\":\").str.get(1)\n",
        "df[\"crew_name\"]=df.crew_name.str.split(\":\").str.get(1)\n",
        "\n",
        "df.head()"
      ],
      "metadata": {
        "trusted": true,
        "execution": {
          "iopub.status.busy": "2024-11-22T06:28:28.517605Z",
          "iopub.execute_input": "2024-11-22T06:28:28.517925Z",
          "iopub.status.idle": "2024-11-22T06:28:29.227028Z",
          "shell.execute_reply.started": "2024-11-22T06:28:28.517895Z",
          "shell.execute_reply": "2024-11-22T06:28:29.22593Z"
        },
        "id": "57Dcld12q7Pi",
        "outputId": "da88af22-49bd-4ffc-fc8b-2e118e9ad080"
      },
      "outputs": [
        {
          "execution_count": 173,
          "output_type": "execute_result",
          "data": {
            "text/plain": "   movie_id                                     title  \\\n0     19995                                    Avatar   \n1       285  Pirates of the Caribbean: At World's End   \n2    206647                                   Spectre   \n3     49026                     The Dark Knight Rises   \n4     49529                               John Carter   \n\n                                                cast  \\\n0  [{\"cast_id\": 242, \"character\": \"Jake Sully\", \"...   \n1  [{\"cast_id\": 4, \"character\": \"Captain Jack Spa...   \n2  [{\"cast_id\": 1, \"character\": \"James Bond\", \"cr...   \n3  [{\"cast_id\": 2, \"character\": \"Bruce Wayne / Ba...   \n4  [{\"cast_id\": 5, \"character\": \"John Carter\", \"c...   \n\n                                                crew cast_id  \\\n0  [{\"credit_id\": \"52fe48009251416c750aca23\", \"de...     242   \n1  [{\"credit_id\": \"52fe4232c3a36847f800b579\", \"de...       4   \n2  [{\"credit_id\": \"54805967c3a36829b5002c41\", \"de...       1   \n3  [{\"credit_id\": \"52fe4781c3a36847f81398c3\", \"de...       2   \n4  [{\"credit_id\": \"52fe479ac3a36847f813eaa3\", \"de...       5   \n\n                 character                    credit_id gender      id  \\\n0             \"Jake Sully\"   \"5602a8a7c3a3685532001c9a\"      2   65731   \n1   \"Captain Jack Sparrow\"   \"52fe4232c3a36847f800b50d\"      2      85   \n2             \"James Bond\"   \"52fe4d22c3a368484e1d8d6b\"      2    8784   \n3   \"Bruce Wayne / Batman\"   \"52fe4781c3a36847f8139869\"      2    3894   \n4            \"John Carter\"   \"52fe479ac3a36847f813ea75\"      2   60900   \n\n                 name order               crew_credit_id crew_department  \\\n0   \"Sam Worthington\"    0}   \"52fe48009251416c750aca23\"       \"Editing\"   \n1       \"Johnny Depp\"    0}   \"52fe4232c3a36847f800b579\"        \"Camera\"   \n2      \"Daniel Craig\"    0}   \"54805967c3a36829b5002c41\"         \"Sound\"   \n3    \"Christian Bale\"    0}   \"52fe4781c3a36847f81398c3\"         \"Sound\"   \n4     \"Taylor Kitsch\"    0}   \"52fe479ac3a36847f813eaa3\"       \"Writing\"   \n\n  crew_gender crew_id                    crew_job              crew_name  \n0           0    1721                    \"Editor\"   \"Stephen E. Rivkin\"}  \n1           2     120   \"Director of Photography\"      \"Dariusz Wolski\"}  \n2           2     153   \"Original Music Composer\"       \"Thomas Newman\"}  \n3           2     947   \"Original Music Composer\"         \"Hans Zimmer\"}  \n4           2       7                \"Screenplay\"      \"Andrew Stanton\"}  ",
            "text/html": "<div>\n<style scoped>\n    .dataframe tbody tr th:only-of-type {\n        vertical-align: middle;\n    }\n\n    .dataframe tbody tr th {\n        vertical-align: top;\n    }\n\n    .dataframe thead th {\n        text-align: right;\n    }\n</style>\n<table border=\"1\" class=\"dataframe\">\n  <thead>\n    <tr style=\"text-align: right;\">\n      <th></th>\n      <th>movie_id</th>\n      <th>title</th>\n      <th>cast</th>\n      <th>crew</th>\n      <th>cast_id</th>\n      <th>character</th>\n      <th>credit_id</th>\n      <th>gender</th>\n      <th>id</th>\n      <th>name</th>\n      <th>order</th>\n      <th>crew_credit_id</th>\n      <th>crew_department</th>\n      <th>crew_gender</th>\n      <th>crew_id</th>\n      <th>crew_job</th>\n      <th>crew_name</th>\n    </tr>\n  </thead>\n  <tbody>\n    <tr>\n      <th>0</th>\n      <td>19995</td>\n      <td>Avatar</td>\n      <td>[{\"cast_id\": 242, \"character\": \"Jake Sully\", \"...</td>\n      <td>[{\"credit_id\": \"52fe48009251416c750aca23\", \"de...</td>\n      <td>242</td>\n      <td>\"Jake Sully\"</td>\n      <td>\"5602a8a7c3a3685532001c9a\"</td>\n      <td>2</td>\n      <td>65731</td>\n      <td>\"Sam Worthington\"</td>\n      <td>0}</td>\n      <td>\"52fe48009251416c750aca23\"</td>\n      <td>\"Editing\"</td>\n      <td>0</td>\n      <td>1721</td>\n      <td>\"Editor\"</td>\n      <td>\"Stephen E. Rivkin\"}</td>\n    </tr>\n    <tr>\n      <th>1</th>\n      <td>285</td>\n      <td>Pirates of the Caribbean: At World's End</td>\n      <td>[{\"cast_id\": 4, \"character\": \"Captain Jack Spa...</td>\n      <td>[{\"credit_id\": \"52fe4232c3a36847f800b579\", \"de...</td>\n      <td>4</td>\n      <td>\"Captain Jack Sparrow\"</td>\n      <td>\"52fe4232c3a36847f800b50d\"</td>\n      <td>2</td>\n      <td>85</td>\n      <td>\"Johnny Depp\"</td>\n      <td>0}</td>\n      <td>\"52fe4232c3a36847f800b579\"</td>\n      <td>\"Camera\"</td>\n      <td>2</td>\n      <td>120</td>\n      <td>\"Director of Photography\"</td>\n      <td>\"Dariusz Wolski\"}</td>\n    </tr>\n    <tr>\n      <th>2</th>\n      <td>206647</td>\n      <td>Spectre</td>\n      <td>[{\"cast_id\": 1, \"character\": \"James Bond\", \"cr...</td>\n      <td>[{\"credit_id\": \"54805967c3a36829b5002c41\", \"de...</td>\n      <td>1</td>\n      <td>\"James Bond\"</td>\n      <td>\"52fe4d22c3a368484e1d8d6b\"</td>\n      <td>2</td>\n      <td>8784</td>\n      <td>\"Daniel Craig\"</td>\n      <td>0}</td>\n      <td>\"54805967c3a36829b5002c41\"</td>\n      <td>\"Sound\"</td>\n      <td>2</td>\n      <td>153</td>\n      <td>\"Original Music Composer\"</td>\n      <td>\"Thomas Newman\"}</td>\n    </tr>\n    <tr>\n      <th>3</th>\n      <td>49026</td>\n      <td>The Dark Knight Rises</td>\n      <td>[{\"cast_id\": 2, \"character\": \"Bruce Wayne / Ba...</td>\n      <td>[{\"credit_id\": \"52fe4781c3a36847f81398c3\", \"de...</td>\n      <td>2</td>\n      <td>\"Bruce Wayne / Batman\"</td>\n      <td>\"52fe4781c3a36847f8139869\"</td>\n      <td>2</td>\n      <td>3894</td>\n      <td>\"Christian Bale\"</td>\n      <td>0}</td>\n      <td>\"52fe4781c3a36847f81398c3\"</td>\n      <td>\"Sound\"</td>\n      <td>2</td>\n      <td>947</td>\n      <td>\"Original Music Composer\"</td>\n      <td>\"Hans Zimmer\"}</td>\n    </tr>\n    <tr>\n      <th>4</th>\n      <td>49529</td>\n      <td>John Carter</td>\n      <td>[{\"cast_id\": 5, \"character\": \"John Carter\", \"c...</td>\n      <td>[{\"credit_id\": \"52fe479ac3a36847f813eaa3\", \"de...</td>\n      <td>5</td>\n      <td>\"John Carter\"</td>\n      <td>\"52fe479ac3a36847f813ea75\"</td>\n      <td>2</td>\n      <td>60900</td>\n      <td>\"Taylor Kitsch\"</td>\n      <td>0}</td>\n      <td>\"52fe479ac3a36847f813eaa3\"</td>\n      <td>\"Writing\"</td>\n      <td>2</td>\n      <td>7</td>\n      <td>\"Screenplay\"</td>\n      <td>\"Andrew Stanton\"}</td>\n    </tr>\n  </tbody>\n</table>\n</div>"
          },
          "metadata": {}
        }
      ],
      "execution_count": null
    },
    {
      "cell_type": "code",
      "source": [
        "# def clean_cols(x):\n",
        "#     x=x.strip('\"')\n",
        "#     return x\n",
        "#df['character'] = df['character'].str.strip('\"\"')\n",
        "#df['character'] = df['character'].str.strip('\"')\n",
        "#df['character'] = df['character'].str.strip(''')\n",
        "#df['character']=df['character'].apply(clean_cols)\n",
        "#df['character']=df.character.str.replace(\"\"\", \"\")\n",
        "\n",
        "#remove all the extra character like \" \" ,}\n",
        "df['character'] = df['character'].str.replace('\"', '')\n",
        "df['credit_id'] = df['credit_id'].str.replace('\"', '')\n",
        "df['crew_credit_id'] = df['crew_credit_id'].str.replace('\"', '')\n",
        "df['name'] = df['name'].str.replace('\"', '')\n",
        "df['order'] = df['order'].str.replace('}', '')\n",
        "df['crew_department'] = df['crew_department'].str.replace('\"', '')\n",
        "df['crew_job'] = df['crew_job'].str.replace('\"', '')\n",
        "df['crew_name'] = df['crew_name'].str.replace('\"', '')\n",
        "df['crew_name'] = df['crew_name'].str.replace('}', '')\n",
        "df['crew_name'][0]\n",
        "\n",
        "\n",
        "#df.info()\n",
        "#df['gender'].type\n",
        "\n",
        "# df=df.drop(['cast', 'crew'], axis=1, inplace=True)\n",
        "df.head()\n",
        "\n",
        "threshold = len(df) * 0.5\n",
        "df = df.dropna(thresh=threshold, axis=1)\n",
        "df.head()\n",
        "\n",
        "#cleaned_df=df[\"movie_id\",\"title\",\"cast_id\",\"character\",\"credit_id\",\"gender\",\"order\",\"crew_credit_id\",\"crew_department\",\"crew_gender\",\"crew_id\",\"crew_job\",\"crew_name\"]\n",
        "\n",
        "#cleaned_df.head()"
      ],
      "metadata": {
        "trusted": true,
        "execution": {
          "iopub.status.busy": "2024-11-22T06:28:29.228223Z",
          "iopub.execute_input": "2024-11-22T06:28:29.228565Z",
          "iopub.status.idle": "2024-11-22T06:28:29.295908Z",
          "shell.execute_reply.started": "2024-11-22T06:28:29.228534Z",
          "shell.execute_reply": "2024-11-22T06:28:29.294617Z"
        },
        "id": "Tmn4GR-Oq7Pi",
        "outputId": "323b0e15-f1c4-438e-9fa1-a1bba7123fa9"
      },
      "outputs": [
        {
          "execution_count": 174,
          "output_type": "execute_result",
          "data": {
            "text/plain": "   movie_id                                     title  \\\n0     19995                                    Avatar   \n1       285  Pirates of the Caribbean: At World's End   \n2    206647                                   Spectre   \n3     49026                     The Dark Knight Rises   \n4     49529                               John Carter   \n\n                                                cast  \\\n0  [{\"cast_id\": 242, \"character\": \"Jake Sully\", \"...   \n1  [{\"cast_id\": 4, \"character\": \"Captain Jack Spa...   \n2  [{\"cast_id\": 1, \"character\": \"James Bond\", \"cr...   \n3  [{\"cast_id\": 2, \"character\": \"Bruce Wayne / Ba...   \n4  [{\"cast_id\": 5, \"character\": \"John Carter\", \"c...   \n\n                                                crew cast_id  \\\n0  [{\"credit_id\": \"52fe48009251416c750aca23\", \"de...     242   \n1  [{\"credit_id\": \"52fe4232c3a36847f800b579\", \"de...       4   \n2  [{\"credit_id\": \"54805967c3a36829b5002c41\", \"de...       1   \n3  [{\"credit_id\": \"52fe4781c3a36847f81398c3\", \"de...       2   \n4  [{\"credit_id\": \"52fe479ac3a36847f813eaa3\", \"de...       5   \n\n               character                  credit_id gender      id  \\\n0             Jake Sully   5602a8a7c3a3685532001c9a      2   65731   \n1   Captain Jack Sparrow   52fe4232c3a36847f800b50d      2      85   \n2             James Bond   52fe4d22c3a368484e1d8d6b      2    8784   \n3   Bruce Wayne / Batman   52fe4781c3a36847f8139869      2    3894   \n4            John Carter   52fe479ac3a36847f813ea75      2   60900   \n\n               name order             crew_credit_id crew_department  \\\n0   Sam Worthington     0   52fe48009251416c750aca23         Editing   \n1       Johnny Depp     0   52fe4232c3a36847f800b579          Camera   \n2      Daniel Craig     0   54805967c3a36829b5002c41           Sound   \n3    Christian Bale     0   52fe4781c3a36847f81398c3           Sound   \n4     Taylor Kitsch     0   52fe479ac3a36847f813eaa3         Writing   \n\n  crew_gender crew_id                  crew_job           crew_name  \n0           0    1721                    Editor   Stephen E. Rivkin  \n1           2     120   Director of Photography      Dariusz Wolski  \n2           2     153   Original Music Composer       Thomas Newman  \n3           2     947   Original Music Composer         Hans Zimmer  \n4           2       7                Screenplay      Andrew Stanton  ",
            "text/html": "<div>\n<style scoped>\n    .dataframe tbody tr th:only-of-type {\n        vertical-align: middle;\n    }\n\n    .dataframe tbody tr th {\n        vertical-align: top;\n    }\n\n    .dataframe thead th {\n        text-align: right;\n    }\n</style>\n<table border=\"1\" class=\"dataframe\">\n  <thead>\n    <tr style=\"text-align: right;\">\n      <th></th>\n      <th>movie_id</th>\n      <th>title</th>\n      <th>cast</th>\n      <th>crew</th>\n      <th>cast_id</th>\n      <th>character</th>\n      <th>credit_id</th>\n      <th>gender</th>\n      <th>id</th>\n      <th>name</th>\n      <th>order</th>\n      <th>crew_credit_id</th>\n      <th>crew_department</th>\n      <th>crew_gender</th>\n      <th>crew_id</th>\n      <th>crew_job</th>\n      <th>crew_name</th>\n    </tr>\n  </thead>\n  <tbody>\n    <tr>\n      <th>0</th>\n      <td>19995</td>\n      <td>Avatar</td>\n      <td>[{\"cast_id\": 242, \"character\": \"Jake Sully\", \"...</td>\n      <td>[{\"credit_id\": \"52fe48009251416c750aca23\", \"de...</td>\n      <td>242</td>\n      <td>Jake Sully</td>\n      <td>5602a8a7c3a3685532001c9a</td>\n      <td>2</td>\n      <td>65731</td>\n      <td>Sam Worthington</td>\n      <td>0</td>\n      <td>52fe48009251416c750aca23</td>\n      <td>Editing</td>\n      <td>0</td>\n      <td>1721</td>\n      <td>Editor</td>\n      <td>Stephen E. Rivkin</td>\n    </tr>\n    <tr>\n      <th>1</th>\n      <td>285</td>\n      <td>Pirates of the Caribbean: At World's End</td>\n      <td>[{\"cast_id\": 4, \"character\": \"Captain Jack Spa...</td>\n      <td>[{\"credit_id\": \"52fe4232c3a36847f800b579\", \"de...</td>\n      <td>4</td>\n      <td>Captain Jack Sparrow</td>\n      <td>52fe4232c3a36847f800b50d</td>\n      <td>2</td>\n      <td>85</td>\n      <td>Johnny Depp</td>\n      <td>0</td>\n      <td>52fe4232c3a36847f800b579</td>\n      <td>Camera</td>\n      <td>2</td>\n      <td>120</td>\n      <td>Director of Photography</td>\n      <td>Dariusz Wolski</td>\n    </tr>\n    <tr>\n      <th>2</th>\n      <td>206647</td>\n      <td>Spectre</td>\n      <td>[{\"cast_id\": 1, \"character\": \"James Bond\", \"cr...</td>\n      <td>[{\"credit_id\": \"54805967c3a36829b5002c41\", \"de...</td>\n      <td>1</td>\n      <td>James Bond</td>\n      <td>52fe4d22c3a368484e1d8d6b</td>\n      <td>2</td>\n      <td>8784</td>\n      <td>Daniel Craig</td>\n      <td>0</td>\n      <td>54805967c3a36829b5002c41</td>\n      <td>Sound</td>\n      <td>2</td>\n      <td>153</td>\n      <td>Original Music Composer</td>\n      <td>Thomas Newman</td>\n    </tr>\n    <tr>\n      <th>3</th>\n      <td>49026</td>\n      <td>The Dark Knight Rises</td>\n      <td>[{\"cast_id\": 2, \"character\": \"Bruce Wayne / Ba...</td>\n      <td>[{\"credit_id\": \"52fe4781c3a36847f81398c3\", \"de...</td>\n      <td>2</td>\n      <td>Bruce Wayne / Batman</td>\n      <td>52fe4781c3a36847f8139869</td>\n      <td>2</td>\n      <td>3894</td>\n      <td>Christian Bale</td>\n      <td>0</td>\n      <td>52fe4781c3a36847f81398c3</td>\n      <td>Sound</td>\n      <td>2</td>\n      <td>947</td>\n      <td>Original Music Composer</td>\n      <td>Hans Zimmer</td>\n    </tr>\n    <tr>\n      <th>4</th>\n      <td>49529</td>\n      <td>John Carter</td>\n      <td>[{\"cast_id\": 5, \"character\": \"John Carter\", \"c...</td>\n      <td>[{\"credit_id\": \"52fe479ac3a36847f813eaa3\", \"de...</td>\n      <td>5</td>\n      <td>John Carter</td>\n      <td>52fe479ac3a36847f813ea75</td>\n      <td>2</td>\n      <td>60900</td>\n      <td>Taylor Kitsch</td>\n      <td>0</td>\n      <td>52fe479ac3a36847f813eaa3</td>\n      <td>Writing</td>\n      <td>2</td>\n      <td>7</td>\n      <td>Screenplay</td>\n      <td>Andrew Stanton</td>\n    </tr>\n  </tbody>\n</table>\n</div>"
          },
          "metadata": {}
        }
      ],
      "execution_count": null
    },
    {
      "cell_type": "code",
      "source": [
        "\n",
        "#df['gender'].shape\n",
        "#df['gender'] = df[df['gender'].isin([0, 1, 2])]\n",
        "#df['gender'] = df.where(df.gender.isin([0, 1, 2]), np.nan)\n",
        "\n",
        "#df['gender'] = df['gender'].where(df['gender'].isin([0, 1, 2]), np.nan)\n",
        "\n",
        "#print(df['gender'].unique())\n",
        "#df['gender'][100]\n",
        "\n",
        "# df_filtered = df[df['gender'].isin([0, 1, 2])]\n",
        "\n",
        "# #df.shape\n",
        "# print(df_filtered['gender'].unique())\n",
        "# df_filtered.head()"
      ],
      "metadata": {
        "trusted": true,
        "execution": {
          "iopub.status.busy": "2024-11-22T06:28:29.297564Z",
          "iopub.execute_input": "2024-11-22T06:28:29.297902Z",
          "iopub.status.idle": "2024-11-22T06:28:29.302953Z",
          "shell.execute_reply.started": "2024-11-22T06:28:29.29787Z",
          "shell.execute_reply": "2024-11-22T06:28:29.301605Z"
        },
        "id": "g_LVkGNXq7Pi"
      },
      "outputs": [],
      "execution_count": null
    },
    {
      "cell_type": "markdown",
      "source": [
        "# **tmdb_5000_movies.csv** ****cleanig****"
      ],
      "metadata": {
        "id": "KbnpVIrVq7Pi"
      }
    },
    {
      "cell_type": "code",
      "source": [
        "import pandas as pd\n",
        "import numpy as np\n",
        "\n",
        "path=\"/kaggle/input/tmdb-movie-metadata/\"\n",
        "mv_df=pd.read_csv(path + \"tmdb_5000_movies.csv\")\n",
        "\n",
        "mv_df.head()\n",
        "mv_df.info()"
      ],
      "metadata": {
        "trusted": true,
        "execution": {
          "iopub.status.busy": "2024-11-22T06:28:29.304692Z",
          "iopub.execute_input": "2024-11-22T06:28:29.305495Z",
          "iopub.status.idle": "2024-11-22T06:28:29.429954Z",
          "shell.execute_reply.started": "2024-11-22T06:28:29.305441Z",
          "shell.execute_reply": "2024-11-22T06:28:29.428724Z"
        },
        "id": "axvoSHJdq7Pj",
        "outputId": "a2f048f8-7795-46d5-ecb1-9fc7113c3a98"
      },
      "outputs": [
        {
          "name": "stdout",
          "text": "<class 'pandas.core.frame.DataFrame'>\nRangeIndex: 4803 entries, 0 to 4802\nData columns (total 20 columns):\n #   Column                Non-Null Count  Dtype  \n---  ------                --------------  -----  \n 0   budget                4803 non-null   int64  \n 1   genres                4803 non-null   object \n 2   homepage              1712 non-null   object \n 3   id                    4803 non-null   int64  \n 4   keywords              4803 non-null   object \n 5   original_language     4803 non-null   object \n 6   original_title        4803 non-null   object \n 7   overview              4800 non-null   object \n 8   popularity            4803 non-null   float64\n 9   production_companies  4803 non-null   object \n 10  production_countries  4803 non-null   object \n 11  release_date          4802 non-null   object \n 12  revenue               4803 non-null   int64  \n 13  runtime               4801 non-null   float64\n 14  spoken_languages      4803 non-null   object \n 15  status                4803 non-null   object \n 16  tagline               3959 non-null   object \n 17  title                 4803 non-null   object \n 18  vote_average          4803 non-null   float64\n 19  vote_count            4803 non-null   int64  \ndtypes: float64(3), int64(4), object(13)\nmemory usage: 750.6+ KB\n",
          "output_type": "stream"
        }
      ],
      "execution_count": null
    },
    {
      "cell_type": "code",
      "source": [
        "mv_df.head()"
      ],
      "metadata": {
        "trusted": true,
        "execution": {
          "iopub.status.busy": "2024-11-22T06:28:29.431203Z",
          "iopub.execute_input": "2024-11-22T06:28:29.431533Z",
          "iopub.status.idle": "2024-11-22T06:28:29.451552Z",
          "shell.execute_reply.started": "2024-11-22T06:28:29.431501Z",
          "shell.execute_reply": "2024-11-22T06:28:29.45032Z"
        },
        "id": "U_8FN5_jq7Pj",
        "outputId": "13d02b8c-ff1a-4ffd-e4f2-98d85c913f8b"
      },
      "outputs": [
        {
          "execution_count": 177,
          "output_type": "execute_result",
          "data": {
            "text/plain": "      budget                                             genres  \\\n0  237000000  [{\"id\": 28, \"name\": \"Action\"}, {\"id\": 12, \"nam...   \n1  300000000  [{\"id\": 12, \"name\": \"Adventure\"}, {\"id\": 14, \"...   \n2  245000000  [{\"id\": 28, \"name\": \"Action\"}, {\"id\": 12, \"nam...   \n3  250000000  [{\"id\": 28, \"name\": \"Action\"}, {\"id\": 80, \"nam...   \n4  260000000  [{\"id\": 28, \"name\": \"Action\"}, {\"id\": 12, \"nam...   \n\n                                       homepage      id  \\\n0                   http://www.avatarmovie.com/   19995   \n1  http://disney.go.com/disneypictures/pirates/     285   \n2   http://www.sonypictures.com/movies/spectre/  206647   \n3            http://www.thedarkknightrises.com/   49026   \n4          http://movies.disney.com/john-carter   49529   \n\n                                            keywords original_language  \\\n0  [{\"id\": 1463, \"name\": \"culture clash\"}, {\"id\":...                en   \n1  [{\"id\": 270, \"name\": \"ocean\"}, {\"id\": 726, \"na...                en   \n2  [{\"id\": 470, \"name\": \"spy\"}, {\"id\": 818, \"name...                en   \n3  [{\"id\": 849, \"name\": \"dc comics\"}, {\"id\": 853,...                en   \n4  [{\"id\": 818, \"name\": \"based on novel\"}, {\"id\":...                en   \n\n                             original_title  \\\n0                                    Avatar   \n1  Pirates of the Caribbean: At World's End   \n2                                   Spectre   \n3                     The Dark Knight Rises   \n4                               John Carter   \n\n                                            overview  popularity  \\\n0  In the 22nd century, a paraplegic Marine is di...  150.437577   \n1  Captain Barbossa, long believed to be dead, ha...  139.082615   \n2  A cryptic message from Bond’s past sends him o...  107.376788   \n3  Following the death of District Attorney Harve...  112.312950   \n4  John Carter is a war-weary, former military ca...   43.926995   \n\n                                production_companies  \\\n0  [{\"name\": \"Ingenious Film Partners\", \"id\": 289...   \n1  [{\"name\": \"Walt Disney Pictures\", \"id\": 2}, {\"...   \n2  [{\"name\": \"Columbia Pictures\", \"id\": 5}, {\"nam...   \n3  [{\"name\": \"Legendary Pictures\", \"id\": 923}, {\"...   \n4        [{\"name\": \"Walt Disney Pictures\", \"id\": 2}]   \n\n                                production_countries release_date     revenue  \\\n0  [{\"iso_3166_1\": \"US\", \"name\": \"United States o...   2009-12-10  2787965087   \n1  [{\"iso_3166_1\": \"US\", \"name\": \"United States o...   2007-05-19   961000000   \n2  [{\"iso_3166_1\": \"GB\", \"name\": \"United Kingdom\"...   2015-10-26   880674609   \n3  [{\"iso_3166_1\": \"US\", \"name\": \"United States o...   2012-07-16  1084939099   \n4  [{\"iso_3166_1\": \"US\", \"name\": \"United States o...   2012-03-07   284139100   \n\n   runtime                                   spoken_languages    status  \\\n0    162.0  [{\"iso_639_1\": \"en\", \"name\": \"English\"}, {\"iso...  Released   \n1    169.0           [{\"iso_639_1\": \"en\", \"name\": \"English\"}]  Released   \n2    148.0  [{\"iso_639_1\": \"fr\", \"name\": \"Fran\\u00e7ais\"},...  Released   \n3    165.0           [{\"iso_639_1\": \"en\", \"name\": \"English\"}]  Released   \n4    132.0           [{\"iso_639_1\": \"en\", \"name\": \"English\"}]  Released   \n\n                                          tagline  \\\n0                     Enter the World of Pandora.   \n1  At the end of the world, the adventure begins.   \n2                           A Plan No One Escapes   \n3                                 The Legend Ends   \n4            Lost in our world, found in another.   \n\n                                      title  vote_average  vote_count  \n0                                    Avatar           7.2       11800  \n1  Pirates of the Caribbean: At World's End           6.9        4500  \n2                                   Spectre           6.3        4466  \n3                     The Dark Knight Rises           7.6        9106  \n4                               John Carter           6.1        2124  ",
            "text/html": "<div>\n<style scoped>\n    .dataframe tbody tr th:only-of-type {\n        vertical-align: middle;\n    }\n\n    .dataframe tbody tr th {\n        vertical-align: top;\n    }\n\n    .dataframe thead th {\n        text-align: right;\n    }\n</style>\n<table border=\"1\" class=\"dataframe\">\n  <thead>\n    <tr style=\"text-align: right;\">\n      <th></th>\n      <th>budget</th>\n      <th>genres</th>\n      <th>homepage</th>\n      <th>id</th>\n      <th>keywords</th>\n      <th>original_language</th>\n      <th>original_title</th>\n      <th>overview</th>\n      <th>popularity</th>\n      <th>production_companies</th>\n      <th>production_countries</th>\n      <th>release_date</th>\n      <th>revenue</th>\n      <th>runtime</th>\n      <th>spoken_languages</th>\n      <th>status</th>\n      <th>tagline</th>\n      <th>title</th>\n      <th>vote_average</th>\n      <th>vote_count</th>\n    </tr>\n  </thead>\n  <tbody>\n    <tr>\n      <th>0</th>\n      <td>237000000</td>\n      <td>[{\"id\": 28, \"name\": \"Action\"}, {\"id\": 12, \"nam...</td>\n      <td>http://www.avatarmovie.com/</td>\n      <td>19995</td>\n      <td>[{\"id\": 1463, \"name\": \"culture clash\"}, {\"id\":...</td>\n      <td>en</td>\n      <td>Avatar</td>\n      <td>In the 22nd century, a paraplegic Marine is di...</td>\n      <td>150.437577</td>\n      <td>[{\"name\": \"Ingenious Film Partners\", \"id\": 289...</td>\n      <td>[{\"iso_3166_1\": \"US\", \"name\": \"United States o...</td>\n      <td>2009-12-10</td>\n      <td>2787965087</td>\n      <td>162.0</td>\n      <td>[{\"iso_639_1\": \"en\", \"name\": \"English\"}, {\"iso...</td>\n      <td>Released</td>\n      <td>Enter the World of Pandora.</td>\n      <td>Avatar</td>\n      <td>7.2</td>\n      <td>11800</td>\n    </tr>\n    <tr>\n      <th>1</th>\n      <td>300000000</td>\n      <td>[{\"id\": 12, \"name\": \"Adventure\"}, {\"id\": 14, \"...</td>\n      <td>http://disney.go.com/disneypictures/pirates/</td>\n      <td>285</td>\n      <td>[{\"id\": 270, \"name\": \"ocean\"}, {\"id\": 726, \"na...</td>\n      <td>en</td>\n      <td>Pirates of the Caribbean: At World's End</td>\n      <td>Captain Barbossa, long believed to be dead, ha...</td>\n      <td>139.082615</td>\n      <td>[{\"name\": \"Walt Disney Pictures\", \"id\": 2}, {\"...</td>\n      <td>[{\"iso_3166_1\": \"US\", \"name\": \"United States o...</td>\n      <td>2007-05-19</td>\n      <td>961000000</td>\n      <td>169.0</td>\n      <td>[{\"iso_639_1\": \"en\", \"name\": \"English\"}]</td>\n      <td>Released</td>\n      <td>At the end of the world, the adventure begins.</td>\n      <td>Pirates of the Caribbean: At World's End</td>\n      <td>6.9</td>\n      <td>4500</td>\n    </tr>\n    <tr>\n      <th>2</th>\n      <td>245000000</td>\n      <td>[{\"id\": 28, \"name\": \"Action\"}, {\"id\": 12, \"nam...</td>\n      <td>http://www.sonypictures.com/movies/spectre/</td>\n      <td>206647</td>\n      <td>[{\"id\": 470, \"name\": \"spy\"}, {\"id\": 818, \"name...</td>\n      <td>en</td>\n      <td>Spectre</td>\n      <td>A cryptic message from Bond’s past sends him o...</td>\n      <td>107.376788</td>\n      <td>[{\"name\": \"Columbia Pictures\", \"id\": 5}, {\"nam...</td>\n      <td>[{\"iso_3166_1\": \"GB\", \"name\": \"United Kingdom\"...</td>\n      <td>2015-10-26</td>\n      <td>880674609</td>\n      <td>148.0</td>\n      <td>[{\"iso_639_1\": \"fr\", \"name\": \"Fran\\u00e7ais\"},...</td>\n      <td>Released</td>\n      <td>A Plan No One Escapes</td>\n      <td>Spectre</td>\n      <td>6.3</td>\n      <td>4466</td>\n    </tr>\n    <tr>\n      <th>3</th>\n      <td>250000000</td>\n      <td>[{\"id\": 28, \"name\": \"Action\"}, {\"id\": 80, \"nam...</td>\n      <td>http://www.thedarkknightrises.com/</td>\n      <td>49026</td>\n      <td>[{\"id\": 849, \"name\": \"dc comics\"}, {\"id\": 853,...</td>\n      <td>en</td>\n      <td>The Dark Knight Rises</td>\n      <td>Following the death of District Attorney Harve...</td>\n      <td>112.312950</td>\n      <td>[{\"name\": \"Legendary Pictures\", \"id\": 923}, {\"...</td>\n      <td>[{\"iso_3166_1\": \"US\", \"name\": \"United States o...</td>\n      <td>2012-07-16</td>\n      <td>1084939099</td>\n      <td>165.0</td>\n      <td>[{\"iso_639_1\": \"en\", \"name\": \"English\"}]</td>\n      <td>Released</td>\n      <td>The Legend Ends</td>\n      <td>The Dark Knight Rises</td>\n      <td>7.6</td>\n      <td>9106</td>\n    </tr>\n    <tr>\n      <th>4</th>\n      <td>260000000</td>\n      <td>[{\"id\": 28, \"name\": \"Action\"}, {\"id\": 12, \"nam...</td>\n      <td>http://movies.disney.com/john-carter</td>\n      <td>49529</td>\n      <td>[{\"id\": 818, \"name\": \"based on novel\"}, {\"id\":...</td>\n      <td>en</td>\n      <td>John Carter</td>\n      <td>John Carter is a war-weary, former military ca...</td>\n      <td>43.926995</td>\n      <td>[{\"name\": \"Walt Disney Pictures\", \"id\": 2}]</td>\n      <td>[{\"iso_3166_1\": \"US\", \"name\": \"United States o...</td>\n      <td>2012-03-07</td>\n      <td>284139100</td>\n      <td>132.0</td>\n      <td>[{\"iso_639_1\": \"en\", \"name\": \"English\"}]</td>\n      <td>Released</td>\n      <td>Lost in our world, found in another.</td>\n      <td>John Carter</td>\n      <td>6.1</td>\n      <td>2124</td>\n    </tr>\n  </tbody>\n</table>\n</div>"
          },
          "metadata": {}
        }
      ],
      "execution_count": null
    },
    {
      "cell_type": "code",
      "source": [
        "\n",
        "#mv_df['genres'][0]\n",
        "#creted new columns for the crew column data\n",
        "\n",
        "# mv_df[\"genresid\"]=mv_df.genres.str.split(\",\").str.get(0)\n",
        "# mv_df[\"genresname\"]=mv_df.genres.str.split(\",\").str.get(1)\n",
        "\n",
        "# exploded = mv_df.explode(\"genres\")\n",
        "# pd.concat([exploded[\"genres\"].reset_index(drop=True), pd.json_normalize(exploded[\"name\"])], axis=1)\n",
        "\n",
        "mv_df.info()\n",
        "\n",
        "# #remove column names\n",
        "# mv_df[\"genresid\"]=mv_df.genresid.str.split(\":\").str.get(1)\n",
        "# mv_df[\"genresname\"]=mv_df.genresname.str.split(\":\").str.get(1)\n",
        "\n",
        "\n",
        "\n",
        "# mv_df['genresid'][0] , mv_df['genresname'][0]\n",
        "\n",
        "# #remove all the extra character like \" \" ,}\n",
        "# mv_df['genresid'] = mv_df['genresid'].str.replace('\"', '')\n",
        "# mv_df['genresname'] = mv_df['genresname'].str.replace(']', '')\n",
        "# mv_df['genresname'] = mv_df['genresname'].str.replace('[', '')\n",
        "\n",
        "#mv_df['genres'][0]\n",
        "\n",
        "# mv_df[\"genres_names\"]=mv_df.genres.str.split(\":\").str.get(3)\n",
        "\n",
        "#mv_df[\"genres\"][0]\n",
        "\n",
        "# def getgenres_names(text):\n",
        "import json\n",
        "\n",
        "def get_names(json_str):\n",
        "    # Parse the JSON string into a list of dictionaries\n",
        "    data = json.loads(json_str)\n",
        "\n",
        "    # Extract the 'name' field from each dictionary in the list\n",
        "    names = [item['name'] for item in data]\n",
        "\n",
        "    return names\n",
        "\n",
        "import re\n",
        "\n",
        "def clean_name(input_str):\n",
        "    # Remove '[', ']', ',', and '\"' from the string\n",
        "    cleaned_name = re.sub(r'[,\\[\\]\"\\']', '', input_str)\n",
        "    cleaned_name = cleaned_name.replace(' ', ', ')\n",
        "    return cleaned_name\n",
        "\n",
        "def clean_language(lan):\n",
        "    lan=lan.replace(\"en\",\"English\")\n",
        "    return lan\n",
        "\n",
        "def convert_to_millions(number, decimals=1):\n",
        "    # Convert the number to millions and add \"M\", with optional rounding\n",
        "    return f\"{round(number / 1_000_000, decimals)}M\"\n",
        "\n",
        "mv_df[\"genres_names\"]=mv_df.genres.apply(get_names).astype(str).apply(clean_name)\n",
        "mv_df[\"key_words\"]=mv_df.keywords.apply(get_names).astype(str).apply(clean_name)\n",
        "mv_df[\"production_by\"]=mv_df.production_companies.apply(get_names).astype(str).apply(clean_name)\n",
        "mv_df[\"dubbed_in\"]=mv_df.spoken_languages.apply(get_names).astype(str).apply(clean_name)\n",
        "#mv_df['genres_names'] = mv_df['genres_names'].str.replace(']', '')\n",
        "# mv_df['genres_names'] = mv_df['genres_names'].str.replace('[', '')\n",
        "\n",
        "#mv_df[\"genres_names\"]=mv_df[\"genres_names\"].apply(str)\n",
        "\n",
        "# mv_df['genres_names'] = mv_df['genres_names'].str.replace(']', '')\n",
        "# mv_df['genres_names'] = mv_df['genres_names'].str.replace('[', '')\n",
        "# mv_df['genresid'] = mv_df['genres_names'].str.replace('\"', '')\n",
        "# mv_df[\"genres_names\"]=mv_df.genres_names.apply(clean_name)\n",
        "# mv_df[\"key_words\"]=mv_df.key_words.apply(clean_name)\n",
        "# mv_df[\"production_company\"]=mv_df.production_company.apply(clean_name)\n",
        "# mv_df[\"Languages\"]=mv_df.Languages.apply(clean_name)\n",
        "\n",
        "\n",
        "#mv_df[\"genres_names\"][0]\n",
        "#mv_df.head()\n",
        "mv_df[\"make_language\"]=mv_df[\"original_language\"].apply(clean_language)\n",
        "mv_df[\"budget\"]=mv_df[\"budget\"].apply(convert_to_millions)\n",
        "mv_df[\"revenue\"]=mv_df[\"revenue\"].apply(convert_to_millions)\n",
        "\n",
        "features=['title','tagline','genres_names', 'release_date','key_words','make_language', 'dubbed_in', 'vote_count', 'vote_average','production_by','budget','revenue','runtime','homepage']\n",
        "       # '', 'overview', 'popularity', 'production_companies',\n",
        "       # 'production_countries', 'release_date', 'revenue', 'runtime',\n",
        "       # 'spoken_languages', 'status', 'tagline', 'title', 'vote_average',\n",
        "       # 'vote_count', 'genres_names', 'key_words', 'production_by', 'dubbed_in',\n",
        "       # 'make_language']\n",
        "\n",
        "#mv_df[\"status\"].unique\n",
        "#mv_df.head()\n",
        "# #mv_df.columns #['budget', 'homepage', 'id', 'keywords', 'original_language',\n",
        "#        'original_title', 'overview', 'popularity', 'production_companies',\n",
        "#        'production_countries', 'release_date', 'revenue', 'runtime',\n",
        "#        'spoken_languages', 'status', 'tagline', 'title', 'vote_average',\n",
        "#        'vote_count', 'genres_names', 'key_words', 'production_by', 'dubbed_in',\n",
        "#        'make_language'],\n",
        "\n",
        "cleaned_featured_df=mv_df[features]\n",
        "\n",
        "cleaned_featured_df.head()"
      ],
      "metadata": {
        "trusted": true,
        "execution": {
          "iopub.status.busy": "2024-11-22T06:46:42.539718Z",
          "iopub.execute_input": "2024-11-22T06:46:42.540138Z",
          "iopub.status.idle": "2024-11-22T06:46:42.80269Z",
          "shell.execute_reply.started": "2024-11-22T06:46:42.540103Z",
          "shell.execute_reply": "2024-11-22T06:46:42.801482Z"
        },
        "id": "QOCn3BeUq7Pj",
        "outputId": "a1eefbde-7bb1-4028-c365-87cad0747cd1"
      },
      "outputs": [
        {
          "name": "stdout",
          "text": "<class 'pandas.core.frame.DataFrame'>\nRangeIndex: 4803 entries, 0 to 4802\nData columns (total 25 columns):\n #   Column                Non-Null Count  Dtype  \n---  ------                --------------  -----  \n 0   budget                4803 non-null   int64  \n 1   genres                4803 non-null   object \n 2   homepage              1712 non-null   object \n 3   id                    4803 non-null   int64  \n 4   keywords              4803 non-null   object \n 5   original_language     4803 non-null   object \n 6   original_title        4803 non-null   object \n 7   overview              4800 non-null   object \n 8   popularity            4803 non-null   float64\n 9   production_companies  4803 non-null   object \n 10  production_countries  4803 non-null   object \n 11  release_date          4802 non-null   object \n 12  revenue               4803 non-null   int64  \n 13  runtime               4801 non-null   float64\n 14  spoken_languages      4803 non-null   object \n 15  status                4803 non-null   object \n 16  tagline               3959 non-null   object \n 17  title                 4803 non-null   object \n 18  vote_average          4803 non-null   float64\n 19  vote_count            4803 non-null   int64  \n 20  genres_names          4803 non-null   object \n 21  key_words             4803 non-null   object \n 22  production_by         4803 non-null   object \n 23  dubbed_in             4803 non-null   object \n 24  make_language         4803 non-null   object \ndtypes: float64(3), int64(4), object(18)\nmemory usage: 938.2+ KB\n",
          "output_type": "stream"
        },
        {
          "execution_count": 184,
          "output_type": "execute_result",
          "data": {
            "text/plain": "                                      title  \\\n0                                    Avatar   \n1  Pirates of the Caribbean: At World's End   \n2                                   Spectre   \n3                     The Dark Knight Rises   \n4                               John Carter   \n\n                                          tagline  \\\n0                     Enter the World of Pandora.   \n1  At the end of the world, the adventure begins.   \n2                           A Plan No One Escapes   \n3                                 The Legend Ends   \n4            Lost in our world, found in another.   \n\n                                   genres_names release_date  \\\n0  Action, Adventure, Fantasy, Science, Fiction   2009-12-10   \n1                    Adventure, Fantasy, Action   2007-05-19   \n2                      Action, Adventure, Crime   2015-10-26   \n3                Action, Crime, Drama, Thriller   2012-07-16   \n4           Action, Adventure, Science, Fiction   2012-03-07   \n\n                                           key_words make_language  \\\n0  culture, clash, future, space, war, space, col...       English   \n1  ocean, drug, abuse, exotic, island, east, indi...       English   \n2  spy, based, on, novel, secret, agent, sequel, ...       English   \n3  dc, comics, crime, fighter, terrorist, secret,...       English   \n4  based, on, novel, mars, medallion, space, trav...       English   \n\n                                       dubbed_in  vote_count  vote_average  \\\n0                               English, Español       11800           7.2   \n1                                        English        4500           6.9   \n2  Français, English, Español, Italiano, Deutsch        4466           6.3   \n3                                        English        9106           7.6   \n4                                        English        2124           6.1   \n\n                                       production_by  budget  revenue  \\\n0  Ingenious, Film, Partners, Twentieth, Century,...  237.0M  2788.0M   \n1  Walt, Disney, Pictures, Jerry, Bruckheimer, Fi...  300.0M   961.0M   \n2                    Columbia, Pictures, Danjaq, B24  245.0M   880.7M   \n3  Legendary, Pictures, Warner, Bros., DC, Entert...  250.0M  1084.9M   \n4                             Walt, Disney, Pictures  260.0M   284.1M   \n\n   runtime                                      homepage  \n0    162.0                   http://www.avatarmovie.com/  \n1    169.0  http://disney.go.com/disneypictures/pirates/  \n2    148.0   http://www.sonypictures.com/movies/spectre/  \n3    165.0            http://www.thedarkknightrises.com/  \n4    132.0          http://movies.disney.com/john-carter  ",
            "text/html": "<div>\n<style scoped>\n    .dataframe tbody tr th:only-of-type {\n        vertical-align: middle;\n    }\n\n    .dataframe tbody tr th {\n        vertical-align: top;\n    }\n\n    .dataframe thead th {\n        text-align: right;\n    }\n</style>\n<table border=\"1\" class=\"dataframe\">\n  <thead>\n    <tr style=\"text-align: right;\">\n      <th></th>\n      <th>title</th>\n      <th>tagline</th>\n      <th>genres_names</th>\n      <th>release_date</th>\n      <th>key_words</th>\n      <th>make_language</th>\n      <th>dubbed_in</th>\n      <th>vote_count</th>\n      <th>vote_average</th>\n      <th>production_by</th>\n      <th>budget</th>\n      <th>revenue</th>\n      <th>runtime</th>\n      <th>homepage</th>\n    </tr>\n  </thead>\n  <tbody>\n    <tr>\n      <th>0</th>\n      <td>Avatar</td>\n      <td>Enter the World of Pandora.</td>\n      <td>Action, Adventure, Fantasy, Science, Fiction</td>\n      <td>2009-12-10</td>\n      <td>culture, clash, future, space, war, space, col...</td>\n      <td>English</td>\n      <td>English, Español</td>\n      <td>11800</td>\n      <td>7.2</td>\n      <td>Ingenious, Film, Partners, Twentieth, Century,...</td>\n      <td>237.0M</td>\n      <td>2788.0M</td>\n      <td>162.0</td>\n      <td>http://www.avatarmovie.com/</td>\n    </tr>\n    <tr>\n      <th>1</th>\n      <td>Pirates of the Caribbean: At World's End</td>\n      <td>At the end of the world, the adventure begins.</td>\n      <td>Adventure, Fantasy, Action</td>\n      <td>2007-05-19</td>\n      <td>ocean, drug, abuse, exotic, island, east, indi...</td>\n      <td>English</td>\n      <td>English</td>\n      <td>4500</td>\n      <td>6.9</td>\n      <td>Walt, Disney, Pictures, Jerry, Bruckheimer, Fi...</td>\n      <td>300.0M</td>\n      <td>961.0M</td>\n      <td>169.0</td>\n      <td>http://disney.go.com/disneypictures/pirates/</td>\n    </tr>\n    <tr>\n      <th>2</th>\n      <td>Spectre</td>\n      <td>A Plan No One Escapes</td>\n      <td>Action, Adventure, Crime</td>\n      <td>2015-10-26</td>\n      <td>spy, based, on, novel, secret, agent, sequel, ...</td>\n      <td>English</td>\n      <td>Français, English, Español, Italiano, Deutsch</td>\n      <td>4466</td>\n      <td>6.3</td>\n      <td>Columbia, Pictures, Danjaq, B24</td>\n      <td>245.0M</td>\n      <td>880.7M</td>\n      <td>148.0</td>\n      <td>http://www.sonypictures.com/movies/spectre/</td>\n    </tr>\n    <tr>\n      <th>3</th>\n      <td>The Dark Knight Rises</td>\n      <td>The Legend Ends</td>\n      <td>Action, Crime, Drama, Thriller</td>\n      <td>2012-07-16</td>\n      <td>dc, comics, crime, fighter, terrorist, secret,...</td>\n      <td>English</td>\n      <td>English</td>\n      <td>9106</td>\n      <td>7.6</td>\n      <td>Legendary, Pictures, Warner, Bros., DC, Entert...</td>\n      <td>250.0M</td>\n      <td>1084.9M</td>\n      <td>165.0</td>\n      <td>http://www.thedarkknightrises.com/</td>\n    </tr>\n    <tr>\n      <th>4</th>\n      <td>John Carter</td>\n      <td>Lost in our world, found in another.</td>\n      <td>Action, Adventure, Science, Fiction</td>\n      <td>2012-03-07</td>\n      <td>based, on, novel, mars, medallion, space, trav...</td>\n      <td>English</td>\n      <td>English</td>\n      <td>2124</td>\n      <td>6.1</td>\n      <td>Walt, Disney, Pictures</td>\n      <td>260.0M</td>\n      <td>284.1M</td>\n      <td>132.0</td>\n      <td>http://movies.disney.com/john-carter</td>\n    </tr>\n  </tbody>\n</table>\n</div>"
          },
          "metadata": {}
        }
      ],
      "execution_count": null
    },
    {
      "cell_type": "markdown",
      "source": [],
      "metadata": {
        "id": "As_Mdnufq7Pj"
      }
    }
  ]
}