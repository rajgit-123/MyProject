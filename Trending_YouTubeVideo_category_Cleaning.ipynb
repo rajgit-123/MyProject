{
  "metadata": {
    "kernelspec": {
      "language": "python",
      "display_name": "Python 3",
      "name": "python3"
    },
    "language_info": {
      "name": "python",
      "version": "3.10.14",
      "mimetype": "text/x-python",
      "codemirror_mode": {
        "name": "ipython",
        "version": 3
      },
      "pygments_lexer": "ipython3",
      "nbconvert_exporter": "python",
      "file_extension": ".py"
    },
    "kaggle": {
      "accelerator": "none",
      "dataSources": [
        {
          "sourceId": 466349,
          "sourceType": "datasetVersion",
          "datasetId": 4549
        }
      ],
      "dockerImageVersionId": 30786,
      "isInternetEnabled": true,
      "language": "python",
      "sourceType": "notebook",
      "isGpuEnabled": false
    },
    "colab": {
      "provenance": [],
      "include_colab_link": true
    }
  },
  "nbformat_minor": 0,
  "nbformat": 4,
  "cells": [
    {
      "cell_type": "markdown",
      "metadata": {
        "id": "view-in-github",
        "colab_type": "text"
      },
      "source": [
        "<a href=\"https://colab.research.google.com/github/rajgit-123/MyProject/blob/master/Trending_YouTubeVideo_category_Cleaning.ipynb\" target=\"_parent\"><img src=\"https://colab.research.google.com/assets/colab-badge.svg\" alt=\"Open In Colab\"/></a>"
      ]
    },
    {
      "source": [
        "# IMPORTANT: RUN THIS CELL IN ORDER TO IMPORT YOUR KAGGLE DATA SOURCES,\n",
        "# THEN FEEL FREE TO DELETE THIS CELL.\n",
        "# NOTE: THIS NOTEBOOK ENVIRONMENT DIFFERS FROM KAGGLE'S PYTHON\n",
        "# ENVIRONMENT SO THERE MAY BE MISSING LIBRARIES USED BY YOUR\n",
        "# NOTEBOOK.\n",
        "import kagglehub\n",
        "datasnaek_youtube_new_path = kagglehub.dataset_download('datasnaek/youtube-new')\n",
        "\n",
        "print('Data source import complete.')\n"
      ],
      "metadata": {
        "id": "EcoySttzXAqk"
      },
      "cell_type": "code",
      "outputs": [],
      "execution_count": null
    },
    {
      "cell_type": "code",
      "source": [
        "# This Python 3 environment comes with many helpful analytics libraries installed\n",
        "# It is defined by the kaggle/python Docker image: https://github.com/kaggle/docker-python\n",
        "# For example, here's several helpful packages to load\n",
        "\n",
        "import numpy as np # linear algebra\n",
        "import pandas as pd # data processing, CSV file I/O (e.g. pd.read_csv)\n",
        "\n",
        "# Input data files are available in the read-only \"../input/\" directory\n",
        "# For example, running this (by clicking run or pressing Shift+Enter) will list all files under the input directory\n",
        "\n",
        "import os\n",
        "for dirname, _, filenames in os.walk('/kaggle/input'):\n",
        "    for filename in filenames:\n",
        "        print(os.path.join(dirname, filename))\n",
        "\n",
        "# You can write up to 20GB to the current directory (/kaggle/working/) that gets preserved as output when you create a version using \"Save & Run All\"\n",
        "# You can also write temporary files to /kaggle/temp/, but they won't be saved outside of the current session"
      ],
      "metadata": {
        "_uuid": "8f2839f25d086af736a60e9eeb907d3b93b6e0e5",
        "_cell_guid": "b1076dfc-b9ad-4769-8c92-a6c4dae69d19",
        "trusted": true,
        "execution": {
          "iopub.status.busy": "2024-11-23T04:47:50.477567Z",
          "iopub.execute_input": "2024-11-23T04:47:50.477985Z",
          "iopub.status.idle": "2024-11-23T04:47:50.488864Z",
          "shell.execute_reply.started": "2024-11-23T04:47:50.477948Z",
          "shell.execute_reply": "2024-11-23T04:47:50.487268Z"
        },
        "id": "IAtf6W4nXAqn"
      },
      "outputs": [],
      "execution_count": null
    },
    {
      "cell_type": "code",
      "source": [
        "import numpy as np\n",
        "import pandas as pd\n",
        "\n",
        "path='/kaggle/input/youtube-new'\n",
        "indf=pd.read_csv(path + \"/INvideos.csv\")\n",
        "\n",
        "indf.info()\n",
        "\n",
        "indf.isnull().sum()\n",
        "\n",
        "indf.head()"
      ],
      "metadata": {
        "trusted": true,
        "execution": {
          "iopub.status.busy": "2024-11-23T04:47:50.491394Z",
          "iopub.execute_input": "2024-11-23T04:47:50.491869Z",
          "iopub.status.idle": "2024-11-23T04:47:51.585045Z",
          "shell.execute_reply.started": "2024-11-23T04:47:50.491818Z",
          "shell.execute_reply": "2024-11-23T04:47:51.58377Z"
        },
        "id": "ScVmosRyXAqo"
      },
      "outputs": [],
      "execution_count": null
    },
    {
      "cell_type": "code",
      "source": [
        "indf[\"trending_date\"]=pd.to_datetime(indf['trending_date'], format='%y.%d.%m')\n",
        "# Convert to IST (Indian Standard Time), which is UTC+5:30\n",
        "indf['publish_time'] = pd.to_datetime(indf['publish_time']).dt.tz_convert('Asia/Kolkata')\n",
        "\n",
        "def convert_to_millions(number, decimals=1):\n",
        "    # Convert the number to millions and add \"M\", with optional rounding\n",
        "    return f\"{round(number / 1_000_000, decimals)}M\"\n",
        "\n",
        "def convert_to_k(number, decimals=1):\n",
        "    # Convert the number to thousands and add \"k\" with optional rounding\n",
        "    return f\"{round(number / 1_000, decimals)}k\"\n",
        "\n",
        "import re\n",
        "\n",
        "def clean_tags(text):\n",
        "    # Remove '[', ']', ',', and '\"' from the string\n",
        "    text=text.replace(\"|\",\"\")\n",
        "    text=text.replace('\"\"', ',#')\n",
        "    text=text.replace('\"', '')\n",
        "    return text\n",
        "#from googletrans import Translator\n",
        "\n",
        "# def convert_to_english(hindi_text):\n",
        "#     # Initialize the Translator\n",
        "#     translator = Translator()\n",
        "\n",
        "#     # Translate from Hindi to English\n",
        "#     translated = translator.translate(hindi_text, src='hi', dest='en')\n",
        "\n",
        "#     # Return the translated text\n",
        "#     return translated.text\n",
        "\n",
        "indf['views'] =indf['views'].apply(convert_to_millions)\n",
        "indf['likes'] =indf['likes'].apply(convert_to_k)\n",
        "#indf['dislikes'] =indf['dislikes'].apply(convert_to_k)\n",
        "#indf['comment_count'] =indf['comment_count'].apply(convert_to_k)\n",
        "indf.head()\n",
        "\n",
        "#indf['title']= indf['title'].apply(convert_to_english)\n",
        "\n",
        "#indf.head()"
      ],
      "metadata": {
        "trusted": true,
        "execution": {
          "iopub.status.busy": "2024-11-23T04:47:51.586916Z",
          "iopub.execute_input": "2024-11-23T04:47:51.587409Z",
          "iopub.status.idle": "2024-11-23T04:47:51.782926Z",
          "shell.execute_reply.started": "2024-11-23T04:47:51.587357Z",
          "shell.execute_reply": "2024-11-23T04:47:51.781826Z"
        },
        "id": "TB2AQI6NXAqo"
      },
      "outputs": [],
      "execution_count": null
    },
    {
      "cell_type": "code",
      "source": [
        "indf['tags']=indf['tags'].apply(clean_tags)\n",
        "indf['tags'][2]\n",
        "indf.head()"
      ],
      "metadata": {
        "trusted": true,
        "execution": {
          "iopub.status.busy": "2024-11-23T04:49:01.487084Z",
          "iopub.execute_input": "2024-11-23T04:49:01.48751Z",
          "iopub.status.idle": "2024-11-23T04:49:01.541066Z",
          "shell.execute_reply.started": "2024-11-23T04:49:01.487475Z",
          "shell.execute_reply": "2024-11-23T04:49:01.539921Z"
        },
        "id": "8KYa_36OXAqp"
      },
      "outputs": [],
      "execution_count": null
    },
    {
      "cell_type": "markdown",
      "source": [],
      "metadata": {
        "id": "HldP0F5aXAqp"
      }
    }
  ]
}