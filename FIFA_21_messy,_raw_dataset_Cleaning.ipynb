{
  "metadata": {
    "kernelspec": {
      "language": "python",
      "display_name": "Python 3",
      "name": "python3"
    },
    "language_info": {
      "name": "python",
      "version": "3.10.14",
      "mimetype": "text/x-python",
      "codemirror_mode": {
        "name": "ipython",
        "version": 3
      },
      "pygments_lexer": "ipython3",
      "nbconvert_exporter": "python",
      "file_extension": ".py"
    },
    "kaggle": {
      "accelerator": "none",
      "dataSources": [
        {
          "sourceId": 1579237,
          "sourceType": "datasetVersion",
          "datasetId": 923113
        }
      ],
      "dockerImageVersionId": 30786,
      "isInternetEnabled": true,
      "language": "python",
      "sourceType": "notebook",
      "isGpuEnabled": false
    },
    "colab": {
      "provenance": [],
      "include_colab_link": true
    }
  },
  "nbformat_minor": 0,
  "nbformat": 4,
  "cells": [
    {
      "cell_type": "markdown",
      "metadata": {
        "id": "view-in-github",
        "colab_type": "text"
      },
      "source": [
        "<a href=\"https://colab.research.google.com/github/rajgit-123/MyProject/blob/master/FIFA_21_messy%2C_raw_dataset_Cleaning.ipynb\" target=\"_parent\"><img src=\"https://colab.research.google.com/assets/colab-badge.svg\" alt=\"Open In Colab\"/></a>"
      ]
    },
    {
      "source": [
        "# IMPORTANT: RUN THIS CELL IN ORDER TO IMPORT YOUR KAGGLE DATA SOURCES,\n",
        "# THEN FEEL FREE TO DELETE THIS CELL.\n",
        "# NOTE: THIS NOTEBOOK ENVIRONMENT DIFFERS FROM KAGGLE'S PYTHON\n",
        "# ENVIRONMENT SO THERE MAY BE MISSING LIBRARIES USED BY YOUR\n",
        "# NOTEBOOK.\n",
        "import kagglehub\n",
        "yagunnersya_fifa_21_messy_raw_dataset_for_cleaning_exploring_path = kagglehub.dataset_download('yagunnersya/fifa-21-messy-raw-dataset-for-cleaning-exploring')\n",
        "\n",
        "print('Data source import complete.')\n"
      ],
      "metadata": {
        "id": "XtlImFv3kr-s"
      },
      "cell_type": "code",
      "outputs": [],
      "execution_count": null
    },
    {
      "cell_type": "code",
      "source": [
        "# This Python 3 environment comes with many helpful analytics libraries installed\n",
        "# It is defined by the kaggle/python Docker image: https://github.com/kaggle/docker-python\n",
        "# For example, here's several helpful packages to load\n",
        "\n",
        "import numpy as np # linear algebra\n",
        "import pandas as pd # data processing, CSV file I/O (e.g. pd.read_csv)\n",
        "\n",
        "# Input data files are available in the read-only \"../input/\" directory\n",
        "# For example, running this (by clicking run or pressing Shift+Enter) will list all files under the input directory\n",
        "\n",
        "import os\n",
        "for dirname, _, filenames in os.walk('/kaggle/input'):\n",
        "    for filename in filenames:\n",
        "        print(os.path.join(dirname, filename))\n",
        "\n",
        "# You can write up to 20GB to the current directory (/kaggle/working/) that gets preserved as output when you create a version using \"Save & Run All\"\n",
        "# You can also write temporary files to /kaggle/temp/, but they won't be saved outside of the current session"
      ],
      "metadata": {
        "_uuid": "8f2839f25d086af736a60e9eeb907d3b93b6e0e5",
        "_cell_guid": "b1076dfc-b9ad-4769-8c92-a6c4dae69d19",
        "trusted": true,
        "execution": {
          "iopub.status.busy": "2024-11-23T15:09:12.426726Z",
          "iopub.execute_input": "2024-11-23T15:09:12.427605Z",
          "iopub.status.idle": "2024-11-23T15:09:12.43938Z",
          "shell.execute_reply.started": "2024-11-23T15:09:12.427563Z",
          "shell.execute_reply": "2024-11-23T15:09:12.43782Z"
        },
        "id": "Rp_Sr5nbkr-t"
      },
      "outputs": [],
      "execution_count": null
    },
    {
      "cell_type": "code",
      "source": [
        "import pandas as pd\n",
        "import numpy as np\n",
        "\n",
        "path =\"/kaggle/input/fifa-21-messy-raw-dataset-for-cleaning-exploring\"\n",
        "\n",
        "fdf=pd.read_csv(path + \"/fifa21_raw_data.csv\")\n",
        "\n",
        "fdf.head()"
      ],
      "metadata": {
        "trusted": true,
        "execution": {
          "iopub.status.busy": "2024-11-23T15:09:12.441449Z",
          "iopub.execute_input": "2024-11-23T15:09:12.442304Z",
          "iopub.status.idle": "2024-11-23T15:09:12.740354Z",
          "shell.execute_reply.started": "2024-11-23T15:09:12.442241Z",
          "shell.execute_reply": "2024-11-23T15:09:12.738873Z"
        },
        "id": "dDaiQvYIkr-u"
      },
      "outputs": [],
      "execution_count": null
    },
    {
      "cell_type": "code",
      "source": [
        "fdf.info()\n",
        "\n",
        "fdf=fdf.rename(columns={'photoUrl': 'PlayerImage',\n",
        "                                 'LongName': 'FullName',\n",
        "                                  'A/W': 'Away Win Level',\n",
        "                                 '↓OVA\t': 'overall performance',\n",
        "                                  'D/W': 'Draws and Wins.',\n",
        "                                 'PAC': 'player speed',\n",
        "                                 'SHO': 'shooting speed',\n",
        "                                 'PAS': 'passing score',\n",
        "                                 'DRI': 'Dribbling',\n",
        "                                 'DEF': 'Defending',\n",
        "                                 'PHY': 'Physical',});\n",
        "                                 # 'old_column': 'new_column',\n",
        "                                 # 'old_column': 'new_column',\n",
        "                                 # 'old_column': 'new_column',\n",
        "                                 # 'old_column': 'new_column',\n",
        "                                 # 'old_column': 'new_column'})"
      ],
      "metadata": {
        "trusted": true,
        "execution": {
          "iopub.status.busy": "2024-11-23T15:09:12.742338Z",
          "iopub.execute_input": "2024-11-23T15:09:12.742712Z",
          "iopub.status.idle": "2024-11-23T15:09:12.806634Z",
          "shell.execute_reply.started": "2024-11-23T15:09:12.742675Z",
          "shell.execute_reply": "2024-11-23T15:09:12.805373Z"
        },
        "id": "rDFjsu-4kr-u"
      },
      "outputs": [],
      "execution_count": null
    },
    {
      "cell_type": "code",
      "source": [
        "#fdf['Team & Contract'][0]\n",
        "fdf['Team & Contract'] = fdf['Team & Contract'].str.replace('\\n', '', regex=False)\n",
        "#fdf['Team & Contract'][0]\n",
        "\n",
        "# Generalize to insert a comma between any team and year range\n",
        "fdf['Team & Contract'] = fdf['Team & Contract'].str.replace(r'([A-Za-z\\s]+)(\\d{4} ~ \\d{4})', r'\\1,\\2', regex=True)\n",
        "\n",
        "fdf['Team & Contract'][0]\n",
        "\n",
        "# fdf['Team']=fdf['Team & Contract'].str.split(',')[0]\n",
        "# fdf['Contract']=fdf['Team & Contract'].str.split(',')[1]\n",
        "# Split the 'team_info' column into two columns using str.split()\n",
        "fdf[['Team', 'Contract']] = fdf['Team & Contract'].str.split(',', expand=True)\n",
        "#fdf['Team'][10] , fdf['Contract'][10]\n",
        "\n",
        "fdf['Hits'] = fdf['Hits'].str.replace('\\n', '', regex=False)\n",
        "fdf['Hits'][10]\n",
        "\n",
        "fdf[\"Joined\"]= pd.to_datetime(fdf['Joined'], format='%b %d, %Y').dt.date\n",
        "fdf['Joined'] = pd.to_datetime(fdf['Joined'])\n",
        "fdf[\"Joined\"]= fdf['Joined'].dt.strftime('%d-%m-%Y')\n",
        "\n",
        "#fdf[\"Joined\"][10]\n",
        "#fdf.iloc[:, 39:49]\n",
        "\n",
        "fdf.head()"
      ],
      "metadata": {
        "trusted": true,
        "execution": {
          "iopub.status.busy": "2024-11-23T15:09:12.808104Z",
          "iopub.execute_input": "2024-11-23T15:09:12.808481Z",
          "iopub.status.idle": "2024-11-23T15:09:13.087189Z",
          "shell.execute_reply.started": "2024-11-23T15:09:12.808447Z",
          "shell.execute_reply": "2024-11-23T15:09:13.085861Z"
        },
        "id": "YJNRcJbEkr-z"
      },
      "outputs": [],
      "execution_count": null
    }
  ]
}