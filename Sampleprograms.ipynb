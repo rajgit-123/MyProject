{
  "nbformat": 4,
  "nbformat_minor": 0,
  "metadata": {
    "colab": {
      "provenance": [],
      "authorship_tag": "ABX9TyP/gIB0g08aIlAbcUz+G+8T",
      "include_colab_link": true
    },
    "kernelspec": {
      "name": "python3",
      "display_name": "Python 3"
    },
    "language_info": {
      "name": "python"
    }
  },
  "cells": [
    {
      "cell_type": "markdown",
      "metadata": {
        "id": "view-in-github",
        "colab_type": "text"
      },
      "source": [
        "<a href=\"https://colab.research.google.com/github/rajgit-123/MyProject/blob/master/Sampleprograms.ipynb\" target=\"_parent\"><img src=\"https://colab.research.google.com/assets/colab-badge.svg\" alt=\"Open In Colab\"/></a>"
      ]
    },
    {
      "cell_type": "markdown",
      "source": [
        "This note book starts with python beginner programs"
      ],
      "metadata": {
        "id": "4vhvWl1sxJTX"
      }
    },
    {
      "cell_type": "markdown",
      "source": [
        "1.Program for basic Arith-ops"
      ],
      "metadata": {
        "id": "60O7YyrsxUMX"
      }
    },
    {
      "cell_type": "code",
      "source": [
        "#Addition Op +\n",
        "num1= int(input(\"enter number for num1 :\"))\n",
        "num2= int(input(\"enter number for num2 :\"))\n",
        "sumofnums=num1+num2\n",
        "print(\"Sum of numbers is :\", sumofnums)\n",
        "\n",
        "#subtraction Op -\n",
        "subofnums=num1-num2\n",
        "print(\"subtraction of numbers is :\",subofnums  )\n",
        "\n",
        "#multiplication Op *\n",
        "multofnums=num1*num2\n",
        "print(\"Multiplication of numbers is \", multofnums)\n",
        "\n",
        "#devision  Op /\n",
        "if(num2==0):\n",
        "  print(\"Error: Division by zero is not allowed.\")\n",
        "else:\n",
        "  divofnums=num1/num2\n",
        "  print(\"Division of numbers is :\", divofnums)\n",
        "\n",
        "#mod Op %\n",
        "if(num2==0):\n",
        "  print(\"Error: Zero is not allowed in denominator.\")\n",
        "else:\n",
        "  modofnums=num1%num2\n",
        "  print(\"mod of numbers is : \", modofnums)\n",
        "\n",
        "#Sqare Op **\n",
        "sqrofnums=num1**num2\n",
        "print(\"Sqare of numbers is : \", sqrofnums)\n"
      ],
      "metadata": {
        "colab": {
          "base_uri": "https://localhost:8080/"
        },
        "id": "sZGAsn1IxSKU",
        "outputId": "f8fd1348-d686-40c8-a04d-d09b6164efde"
      },
      "execution_count": 11,
      "outputs": [
        {
          "output_type": "stream",
          "name": "stdout",
          "text": [
            "enter number for num1 :10\n",
            "enter number for num2 :0\n",
            "Sum of numbers is : 10\n",
            "subtraction of numbers is : 10\n",
            "Multiplication of numbers is  0\n",
            "Error: Division by zero is not allowed.\n",
            "Error: Zero is not allowed in denominator.\n",
            "Sqare of numbers is :  1\n"
          ]
        }
      ]
    },
    {
      "cell_type": "markdown",
      "source": [
        "Program to find Area of triangel\n",
        "Hint: Area=1/2(length*height)"
      ],
      "metadata": {
        "id": "A9HDXbJC1U8O"
      }
    },
    {
      "cell_type": "code",
      "source": [
        "length = float(input(\"Enter trianle length :\"))\n",
        "height = float(input(\"Enter trinagle height :\"))\n",
        "\n",
        "area=1/2*length*height\n",
        "\n",
        "print(\"Area of traiangle is :\", area)"
      ],
      "metadata": {
        "colab": {
          "base_uri": "https://localhost:8080/"
        },
        "id": "Mn_22hjb0NSb",
        "outputId": "6809dab4-09d9-4f56-eef5-4741cc8a0f46"
      },
      "execution_count": 16,
      "outputs": [
        {
          "output_type": "stream",
          "name": "stdout",
          "text": [
            "Enter trianle length :10\n",
            "Enter trinagle height :15\n",
            "Area of traiangle is : 75.0\n"
          ]
        }
      ]
    },
    {
      "cell_type": "markdown",
      "source": [
        "Program for swap two numbers"
      ],
      "metadata": {
        "id": "rUerSRI_3ROk"
      }
    },
    {
      "cell_type": "code",
      "source": [
        "var1= int(input(\"Enter value for var1 : \"))\n",
        "var2= int(input(\"Enter value for var2 : \"))\n",
        "\n",
        "print(f\"Values before swapping var1={var1}, var2={var2}\")\n",
        "\n",
        "#without temp with operators\n",
        "var1= var1+var2\n",
        "var2=var1-var2\n",
        "var1=var1-var2\n",
        "print(f\"Values after swapping without temp var1={var1}, var2={var2}\")\n",
        "\n",
        "#with temp with swapped values var1=20,var2=10\n",
        "print(f\"Values before swapping var1={var1}, var2={var2}\")\n",
        "temp=var1\n",
        "var1=var2\n",
        "var2=temp\n",
        "print(f\"Values after swapping with temp var1={var1}, var2={var2}\")\n",
        "\n"
      ],
      "metadata": {
        "colab": {
          "base_uri": "https://localhost:8080/"
        },
        "id": "1KR3YyNS3XRy",
        "outputId": "82a66197-eaa0-4ee3-e442-4e85d0305d14"
      },
      "execution_count": 21,
      "outputs": [
        {
          "output_type": "stream",
          "name": "stdout",
          "text": [
            "Enter value for var1 : 10\n",
            "Enter value for var2 : 20\n",
            "Values before swapping var1=10, var2=20\n",
            "Values after swapping without temp var1=20, var2=10\n",
            "Values before swapping var1=20, var2=10\n",
            "Values after swapping with temp var1=10, var2=20\n"
          ]
        }
      ]
    },
    {
      "cell_type": "markdown",
      "source": [
        "Program to genrate random number between given range\n",
        "Hint: using random function"
      ],
      "metadata": {
        "id": "BZ6Yglxa77HT"
      }
    },
    {
      "cell_type": "code",
      "source": [
        "import random\n",
        "print(f\"Print Random number each time we run, {random.randint(1,50)}\")"
      ],
      "metadata": {
        "colab": {
          "base_uri": "https://localhost:8080/"
        },
        "id": "2UldnZad7-5B",
        "outputId": "8857fcff-3625-4e50-cb36-6725df27140a"
      },
      "execution_count": 31,
      "outputs": [
        {
          "output_type": "stream",
          "name": "stdout",
          "text": [
            "Print Random number each time we run, 41\n"
          ]
        }
      ]
    },
    {
      "cell_type": "markdown",
      "source": [],
      "metadata": {
        "id": "YtOr6SPByTYg"
      }
    },
    {
      "cell_type": "markdown",
      "source": [
        "Program to convert meter to centimeter\n",
        "meters to kilometers\n",
        "Hint: 1km = 1000 meters\n",
        "1 meter=100 cms\n"
      ],
      "metadata": {
        "id": "hww8Yk_o9DGU"
      }
    },
    {
      "cell_type": "code",
      "source": [
        "var1=int(input(\"Enter meters to convert :\"))\n",
        "centimeters=var1*100\n",
        "print(f\"{var1} meters are equals to {centimeters} centimeters.\")\n",
        "kilometer=var1/1000\n",
        "print(f\"{var1} meters are equals to {kilometer} kilometers.\")\n"
      ],
      "metadata": {
        "colab": {
          "base_uri": "https://localhost:8080/"
        },
        "id": "qWrdYBKR9M8X",
        "outputId": "8d94c814-35cd-4486-8b94-0102e81e9d97"
      },
      "execution_count": 36,
      "outputs": [
        {
          "output_type": "stream",
          "name": "stdout",
          "text": [
            "Enter meters to convert :500\n",
            "500 meters are equals to 50000 centimeters.\n",
            "500 meters are equals to 0.5 kilometers.\n"
          ]
        }
      ]
    },
    {
      "cell_type": "markdown",
      "source": [
        "Program to print Calander of given year month\n",
        "Hint: Using calander function"
      ],
      "metadata": {
        "id": "EfyW3OPr_Gd3"
      }
    },
    {
      "cell_type": "code",
      "source": [
        "import calendar\n",
        "year=int(input(\"Enter year of calendar :\"))\n",
        "month=int(input(\"Enter month of calendar :\"))\n",
        "\n",
        "cal=calendar.month(year,month)\n",
        "print(\"Find the calendar of given year and month \", cal)"
      ],
      "metadata": {
        "colab": {
          "base_uri": "https://localhost:8080/"
        },
        "id": "XSnYZGn-_Y7O",
        "outputId": "ae2c6f92-e60a-49ab-829e-1a06bbc31170"
      },
      "execution_count": 38,
      "outputs": [
        {
          "output_type": "stream",
          "name": "stdout",
          "text": [
            "Enter year of calendar :1990\n",
            "Enter month of calendar :8\n",
            "Find the calendar of given year and month      August 1990\n",
            "Mo Tu We Th Fr Sa Su\n",
            "       1  2  3  4  5\n",
            " 6  7  8  9 10 11 12\n",
            "13 14 15 16 17 18 19\n",
            "20 21 22 23 24 25 26\n",
            "27 28 29 30 31\n",
            "\n"
          ]
        }
      ]
    },
    {
      "cell_type": "markdown",
      "source": [
        "Program to find given number is Positive or Negetive or Zero"
      ],
      "metadata": {
        "id": "C7sGqpUrA4dZ"
      }
    },
    {
      "cell_type": "code",
      "source": [
        "Num=int(input(\"Enter a number to find :\"))\n",
        "if Num>0:\n",
        "  print(f\"The given number {Num} is Positive \")\n",
        "elif(Num<0):\n",
        "  print(f\"The given number {Num} is Negetive \")\n",
        "else:\n",
        "  print(f\"The given number {Num} is Zero \")\n"
      ],
      "metadata": {
        "colab": {
          "base_uri": "https://localhost:8080/"
        },
        "id": "xZRmHdl_A3h6",
        "outputId": "e499930c-57ca-4639-bde1-be067bbc88e4"
      },
      "execution_count": 43,
      "outputs": [
        {
          "output_type": "stream",
          "name": "stdout",
          "text": [
            "Enter a number to find :-19\n",
            "The given number -19 is Negetive \n"
          ]
        }
      ]
    },
    {
      "cell_type": "markdown",
      "source": [
        "Program to find given number is ODD or EVEN"
      ],
      "metadata": {
        "id": "B_YttRsxEfsk"
      }
    },
    {
      "cell_type": "code",
      "source": [
        "Number=int(input(\"Enter a number to find Even or Odd:\"))\n",
        "if Number%2==0:\n",
        "  print(f\"The given number {Number} is Even \")\n",
        "else:\n",
        "  print(f\"The given number {Number} is Odd \")"
      ],
      "metadata": {
        "colab": {
          "base_uri": "https://localhost:8080/"
        },
        "id": "QcxVlD3_Ej0j",
        "outputId": "0fdb3dcb-279b-4625-b1c1-bd81d06ea014"
      },
      "execution_count": 45,
      "outputs": [
        {
          "output_type": "stream",
          "name": "stdout",
          "text": [
            "Enter a number to find Even or Odd:24\n",
            "The given number 24 is Even \n"
          ]
        }
      ]
    },
    {
      "cell_type": "markdown",
      "source": [
        "Program to check given year is Leap year or Not"
      ],
      "metadata": {
        "id": "7D0I629OFEsJ"
      }
    },
    {
      "cell_type": "code",
      "source": [
        "year=int(input(\"Enter a number to find Even or Odd:\"))\n",
        "if (year%400==0) and (year%100==0) :\n",
        "  print(f\"The given number {year} is Leap Year \")\n",
        "if (year%4==0) and (year%100!=0) :\n",
        "  print(f\"The given number {year} is Leap Year \")\n",
        "else:\n",
        "  print(f\"The given number {year} is Not a Leap Year \")"
      ],
      "metadata": {
        "colab": {
          "base_uri": "https://localhost:8080/"
        },
        "id": "Nmre5GGvFJQX",
        "outputId": "533fb0a3-24ed-4c72-8e14-d36bec2bd0a3"
      },
      "execution_count": 53,
      "outputs": [
        {
          "output_type": "stream",
          "name": "stdout",
          "text": [
            "Enter a number to find Even or Odd:2024\n",
            "The given number 2024 is Leap Year \n"
          ]
        }
      ]
    },
    {
      "cell_type": "markdown",
      "source": [
        "Program to check prime number"
      ],
      "metadata": {
        "id": "Ms0C1da4Gtie"
      }
    },
    {
      "cell_type": "code",
      "source": [
        "numb=int(input(\"Enter a number to check prime :\"))\n",
        "count=1\n",
        "for i in range(2,numb):\n",
        "  if(numb%i ==0):\n",
        "    count=count+1\n",
        "    break\n",
        "if(count>1):\n",
        "  print(f\"The given number {numb} is not Prime number\")\n",
        "else:\n",
        "  print(f\"The given number {numb} is a Prime number\")\n"
      ],
      "metadata": {
        "colab": {
          "base_uri": "https://localhost:8080/"
        },
        "id": "y5AQ_qweGxH_",
        "outputId": "97d5cb95-6751-4573-eca5-ff99530a9a44"
      },
      "execution_count": 58,
      "outputs": [
        {
          "output_type": "stream",
          "name": "stdout",
          "text": [
            "Enter a number to check prime :27\n",
            "The given number 27 is not Prime number\n"
          ]
        }
      ]
    }
  ]
}