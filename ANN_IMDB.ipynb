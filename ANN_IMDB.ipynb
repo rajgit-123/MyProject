{
  "nbformat": 4,
  "nbformat_minor": 0,
  "metadata": {
    "colab": {
      "provenance": [],
      "authorship_tag": "ABX9TyOdcsNNhOuZR53u0rrCADoI",
      "include_colab_link": true
    },
    "kernelspec": {
      "name": "python3",
      "display_name": "Python 3"
    },
    "language_info": {
      "name": "python"
    }
  },
  "cells": [
    {
      "cell_type": "markdown",
      "metadata": {
        "id": "view-in-github",
        "colab_type": "text"
      },
      "source": [
        "<a href=\"https://colab.research.google.com/github/rajgit-123/MyProject/blob/master/ANN_IMDB.ipynb\" target=\"_parent\"><img src=\"https://colab.research.google.com/assets/colab-badge.svg\" alt=\"Open In Colab\"/></a>"
      ]
    },
    {
      "cell_type": "code",
      "execution_count": 8,
      "metadata": {
        "id": "22En2EKbtL71"
      },
      "outputs": [],
      "source": [
        "import pandas as pd\n",
        "import numpy as np\n",
        "import json\n",
        "import nltk\n",
        "import re\n",
        "import csv\n",
        "import matplotlib.pyplot as plt\n",
        "import seaborn as sns\n",
        "from tqdm import tqdm\n",
        "from sklearn.feature_extraction.text import TfidfVectorizer"
      ]
    },
    {
      "cell_type": "code",
      "source": [
        "df_train = pd.read_csv('/content/IMDB/train_mpst.csv')\n",
        "df_train.head()\n",
        "df_train.info()\n",
        "df_train.describe()\n",
        "\n"
      ],
      "metadata": {
        "id": "7pZD9h-FupI7"
      },
      "execution_count": null,
      "outputs": []
    },
    {
      "cell_type": "code",
      "source": [
        "def format_data(text):\n",
        "    text = re.sub(\"\\'\", \"\", text)\n",
        "    text = re.sub(\"[^a-zA-Z]\",\" \",text)\n",
        "    text = ' '.join(text.split())\n",
        "    text = text.lower()\n",
        "    return text\n",
        "\n"
      ],
      "metadata": {
        "id": "04GsPt0tyLzK"
      },
      "execution_count": 11,
      "outputs": []
    },
    {
      "cell_type": "markdown",
      "source": [],
      "metadata": {
        "id": "9DpC_6kPydKc"
      }
    },
    {
      "cell_type": "code",
      "source": [
        "df_train['plot_synopsis'] = df_train['plot_synopsis'].apply(lambda txt: format_data(txt))\n",
        "df_train.columns\n",
        "print(df_train.columns)"
      ],
      "metadata": {
        "colab": {
          "base_uri": "https://localhost:8080/"
        },
        "id": "3yWWwb7wv3en",
        "outputId": "4d926729-4999-4310-90d0-1c1d75a912b9"
      },
      "execution_count": 12,
      "outputs": [
        {
          "output_type": "stream",
          "name": "stdout",
          "text": [
            "Index(['imdb_id', 'title', 'plot_synopsis', 'synopsis_source', 'absurd',\n",
            "       'action', 'adult comedy', 'allegory', 'alternate history',\n",
            "       'alternate reality', 'anti war', 'atmospheric', 'autobiographical',\n",
            "       'avant garde', 'blaxploitation', 'bleak', 'boring', 'brainwashing',\n",
            "       'christian film', 'claustrophobic', 'clever', 'comedy', 'comic',\n",
            "       'cruelty', 'cult', 'cute', 'dark', 'depressing', 'dramatic',\n",
            "       'entertaining', 'fantasy', 'feel-good', 'flashback', 'good versus evil',\n",
            "       'gothic', 'grindhouse film', 'haunting', 'historical',\n",
            "       'historical fiction', 'home movie', 'horror', 'humor', 'insanity',\n",
            "       'inspiring', 'intrigue', 'magical realism', 'melodrama', 'murder',\n",
            "       'mystery', 'neo noir', 'non fiction', 'paranormal', 'philosophical',\n",
            "       'plot twist', 'pornographic', 'prank', 'psychedelic', 'psychological',\n",
            "       'queer', 'realism', 'revenge', 'romantic', 'sadist', 'satire', 'sci-fi',\n",
            "       'sentimental', 'storytelling', 'stupid', 'suicidal', 'suspenseful',\n",
            "       'thought-provoking', 'tragedy', 'violence', 'western', 'whimsical'],\n",
            "      dtype='object')\n"
          ]
        }
      ]
    },
    {
      "cell_type": "code",
      "source": [
        "tfidf_vectorizer = TfidfVectorizer(max_df=0.8, max_features=10000)"
      ],
      "metadata": {
        "id": "T7-w2XnKy5Hw"
      },
      "execution_count": 13,
      "outputs": []
    },
    {
      "cell_type": "code",
      "source": [
        "df_val =  pd.read_csv('/content/IMDB/val.csv')\n",
        "df_test = pd.read_csv('/content/IMDB/test.csv')\n",
        "df_test_1 = df_test\n",
        "df_test_1.rename(columns={'imdb_id':'ID'}, inplace=True)\n",
        "\n",
        "X_train = df_train['plot_synopsis'].values\n",
        "X_val = df_val['plot_synopsis'].values\n",
        "X_test = df_test['plot_synopsis'].values\n",
        "y_train = df_train.iloc[:, 4:].values\n",
        "y_val = df_val.iloc[:, 4:].values"
      ],
      "metadata": {
        "id": "PuIL2qyNy6M3"
      },
      "execution_count": 20,
      "outputs": []
    },
    {
      "cell_type": "code",
      "source": [],
      "metadata": {
        "id": "3sklgw6IzCPR"
      },
      "execution_count": null,
      "outputs": []
    },
    {
      "cell_type": "code",
      "source": [
        "xtrain_tfidf = tfidf_vectorizer.fit_transform(X_train)\n",
        "xval_tfidf = tfidf_vectorizer.transform(X_val)\n",
        "xtest_tfidf = tfidf_vectorizer.transform(X_test)"
      ],
      "metadata": {
        "id": "0ScKHyrBy_GJ"
      },
      "execution_count": 21,
      "outputs": []
    },
    {
      "cell_type": "code",
      "source": [
        "from sklearn.linear_model import LogisticRegression\n",
        "\n",
        "# Binary Relevance\n",
        "from sklearn.multiclass import OneVsRestClassifier\n",
        "\n",
        "# Performance metric\n",
        "from sklearn.metrics import f1_score"
      ],
      "metadata": {
        "id": "xZ9g_u2fzDYJ"
      },
      "execution_count": 22,
      "outputs": []
    },
    {
      "cell_type": "code",
      "source": [
        "Logreg = LogisticRegression()\n",
        "clf = OneVsRestClassifier(Logreg)"
      ],
      "metadata": {
        "id": "jwPa8ke0zFR6"
      },
      "execution_count": 23,
      "outputs": []
    },
    {
      "cell_type": "code",
      "source": [
        "# fit model on train data\n",
        "clf.fit(xtrain_tfidf, y_train)\n",
        "# predict probabilities\n",
        "# make predictions for validation set\n",
        "y_pred = clf.predict(xval_tfidf)\n",
        "y_pred[3]\n",
        "y_pred_test = clf.predict(xtest_tfidf)\n",
        "print(y_pred_test.shape)\n",
        "print(df_test_1.shape)"
      ],
      "metadata": {
        "colab": {
          "base_uri": "https://localhost:8080/"
        },
        "id": "rcL3FQzkzII1",
        "outputId": "a9dcf454-a90b-4eeb-d9ab-7c0eb2837ec2"
      },
      "execution_count": 24,
      "outputs": [
        {
          "output_type": "stream",
          "name": "stdout",
          "text": [
            "(2966, 71)\n",
            "(2966, 4)\n"
          ]
        }
      ]
    },
    {
      "cell_type": "code",
      "source": [
        "df_test_submit_output = df_test_1\n",
        "df_test_submit_output[['absurd',\n",
        "       'action', 'adult comedy', 'allegory', 'alternate history',\n",
        "       'alternate reality', 'anti war', 'atmospheric', 'autobiographical',\n",
        "       'avant garde', 'blaxploitation', 'bleak', 'boring', 'brainwashing',\n",
        "       'christian film', 'claustrophobic', 'clever', 'comedy', 'comic',\n",
        "       'cruelty', 'cult', 'cute', 'dark', 'depressing', 'dramatic',\n",
        "       'entertaining', 'fantasy', 'feel-good', 'flashback', 'good versus evil',\n",
        "       'gothic', 'grindhouse film', 'haunting', 'historical',\n",
        "       'historical fiction','home movie', 'horror', 'humor', 'insanity',\n",
        "       'inspiring', 'intrigue', 'magical realism', 'melodrama', 'murder',\n",
        "       'mystery', 'neo noir', 'non fiction', 'paranormal', 'philosophical',\n",
        "       'plot twist', 'pornographic', 'prank', 'psychedelic', 'psychological',\n",
        "       'queer', 'realism', 'revenge', 'romantic', 'sadist', 'satire', 'sci-fi',\n",
        "       'sentimental', 'storytelling', 'stupid', 'suicidal', 'suspenseful',\n",
        "       'thought-provoking', 'tragedy', 'violence', 'western', 'whimsical']] = y_pred_test\n",
        "\n",
        "df_test_submit_output = df_test_submit_output.filter(['ID','absurd',\n",
        "       'action', 'adult comedy', 'allegory', 'alternate history',\n",
        "       'alternate reality', 'anti war', 'atmospheric', 'autobiographical',\n",
        "       'avant garde', 'blaxploitation', 'bleak', 'boring', 'brainwashing',\n",
        "       'christian film', 'claustrophobic', 'clever', 'comedy', 'comic',\n",
        "       'cruelty', 'cult', 'cute', 'dark', 'depressing', 'dramatic',\n",
        "       'entertaining', 'fantasy', 'feel-good', 'flashback', 'good versus evil',\n",
        "       'gothic', 'grindhouse film', 'haunting', 'historical',\n",
        "       'historical fiction', 'home movie', 'horror', 'humor', 'insanity',\n",
        "       'inspiring', 'intrigue', 'magical realism', 'melodrama', 'murder',\n",
        "       'mystery', 'neo noir', 'non fiction', 'paranormal', 'philosophical',\n",
        "       'plot twist', 'pornographic', 'prank', 'psychedelic', 'psychological',\n",
        "       'queer', 'realism', 'revenge', 'romantic', 'sadist', 'satire', 'sci-fi',\n",
        "       'sentimental', 'storytelling', 'stupid', 'suicidal', 'suspenseful',\n",
        "       'thought-provoking', 'tragedy', 'violence', 'western', 'whimsical'])\n",
        "df_test_submit_output.to_csv('submission-imdb.csv', index=False)\n"
      ],
      "metadata": {
        "id": "co1Eoe1jzR2c"
      },
      "execution_count": 25,
      "outputs": []
    }
  ]
}