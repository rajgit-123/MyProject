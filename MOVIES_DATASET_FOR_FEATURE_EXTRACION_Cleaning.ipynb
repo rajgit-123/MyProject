{
  "metadata": {
    "kernelspec": {
      "language": "python",
      "display_name": "Python 3",
      "name": "python3"
    },
    "language_info": {
      "name": "python",
      "version": "3.10.14",
      "mimetype": "text/x-python",
      "codemirror_mode": {
        "name": "ipython",
        "version": 3
      },
      "pygments_lexer": "ipython3",
      "nbconvert_exporter": "python",
      "file_extension": ".py"
    },
    "kaggle": {
      "accelerator": "none",
      "dataSources": [
        {
          "sourceId": 2497338,
          "sourceType": "datasetVersion",
          "datasetId": 1512088
        }
      ],
      "dockerImageVersionId": 30786,
      "isInternetEnabled": true,
      "language": "python",
      "sourceType": "notebook",
      "isGpuEnabled": false
    },
    "colab": {
      "name": "MOVIES DATASET FOR FEATURE EXTRACION-Cleaning",
      "provenance": [],
      "include_colab_link": true
    }
  },
  "nbformat_minor": 0,
  "nbformat": 4,
  "cells": [
    {
      "cell_type": "markdown",
      "metadata": {
        "id": "view-in-github",
        "colab_type": "text"
      },
      "source": [
        "<a href=\"https://colab.research.google.com/github/rajgit-123/MyProject/blob/master/MOVIES_DATASET_FOR_FEATURE_EXTRACION_Cleaning.ipynb\" target=\"_parent\"><img src=\"https://colab.research.google.com/assets/colab-badge.svg\" alt=\"Open In Colab\"/></a>"
      ]
    },
    {
      "source": [
        "# IMPORTANT: RUN THIS CELL IN ORDER TO IMPORT YOUR KAGGLE DATA SOURCES,\n",
        "# THEN FEEL FREE TO DELETE THIS CELL.\n",
        "# NOTE: THIS NOTEBOOK ENVIRONMENT DIFFERS FROM KAGGLE'S PYTHON\n",
        "# ENVIRONMENT SO THERE MAY BE MISSING LIBRARIES USED BY YOUR\n",
        "# NOTEBOOK.\n",
        "import kagglehub\n",
        "bharatnatrayn_movies_dataset_for_feature_extracion_prediction_path = kagglehub.dataset_download('bharatnatrayn/movies-dataset-for-feature-extracion-prediction')\n",
        "\n",
        "print('Data source import complete.')\n"
      ],
      "metadata": {
        "id": "QAUdJt7I-E9W"
      },
      "cell_type": "code",
      "outputs": [],
      "execution_count": null
    },
    {
      "cell_type": "code",
      "source": [
        "# This Python 3 environment comes with many helpful analytics libraries installed\n",
        "# It is defined by the kaggle/python Docker image: https://github.com/kaggle/docker-python\n",
        "# For example, here's several helpful packages to load\n",
        "\n",
        "import numpy as np # linear algebra\n",
        "import pandas as pd # data processing, CSV file I/O (e.g. pd.read_csv)\n",
        "\n",
        "# Input data files are available in the read-only \"../input/\" directory\n",
        "# For example, running this (by clicking run or pressing Shift+Enter) will list all files under the input directory\n",
        "\n",
        "import os\n",
        "for dirname, _, filenames in os.walk('/kaggle/input'):\n",
        "    for filename in filenames:\n",
        "        print(os.path.join(dirname, filename))\n",
        "\n",
        "# You can write up to 20GB to the current directory (/kaggle/working/) that gets preserved as output when you create a version using \"Save & Run All\"\n",
        "# You can also write temporary files to /kaggle/temp/, but they won't be saved outside of the current session"
      ],
      "metadata": {
        "_uuid": "8f2839f25d086af736a60e9eeb907d3b93b6e0e5",
        "_cell_guid": "b1076dfc-b9ad-4769-8c92-a6c4dae69d19",
        "trusted": true,
        "execution": {
          "iopub.status.busy": "2024-11-21T08:11:49.306488Z",
          "iopub.execute_input": "2024-11-21T08:11:49.306905Z",
          "iopub.status.idle": "2024-11-21T08:11:49.714259Z",
          "shell.execute_reply.started": "2024-11-21T08:11:49.306858Z",
          "shell.execute_reply": "2024-11-21T08:11:49.713077Z"
        },
        "id": "YJ9nl8u5-E9X",
        "outputId": "a9da0285-1583-47db-d2b6-388906c3aec6"
      },
      "outputs": [
        {
          "name": "stdout",
          "text": "/kaggle/input/movies-dataset-for-feature-extracion-prediction/movies.csv\n",
          "output_type": "stream"
        }
      ],
      "execution_count": null
    },
    {
      "cell_type": "code",
      "source": [
        "import numpy as np\n",
        "import pandas as pd\n",
        "\n",
        "#load the dataset from location\n",
        "path= \"/kaggle/input/movies-dataset-for-feature-extracion-prediction\"\n",
        "df=pd.read_csv(path + \"/movies.csv\")\n",
        "df.head()"
      ],
      "metadata": {
        "trusted": true,
        "execution": {
          "iopub.status.busy": "2024-11-21T08:30:41.083791Z",
          "iopub.execute_input": "2024-11-21T08:30:41.084245Z",
          "iopub.status.idle": "2024-11-21T08:30:41.197069Z",
          "shell.execute_reply.started": "2024-11-21T08:30:41.084203Z",
          "shell.execute_reply": "2024-11-21T08:30:41.195667Z"
        },
        "id": "S9OVXKQ6-E9Y",
        "outputId": "21a44d05-8e6b-4c1d-bffb-94ac8656ee12"
      },
      "outputs": [
        {
          "execution_count": 18,
          "output_type": "execute_result",
          "data": {
            "text/plain": "                                MOVIES         YEAR  \\\n0                        Blood Red Sky       (2021)   \n1  Masters of the Universe: Revelation     (2021– )   \n2                     The Walking Dead  (2010–2022)   \n3                       Rick and Morty     (2013– )   \n4                      Army of Thieves       (2021)   \n\n                                        GENRE  RATING  \\\n0      \\nAction, Horror, Thriller                 6.1   \n1  \\nAnimation, Action, Adventure                 5.0   \n2       \\nDrama, Horror, Thriller                 8.2   \n3  \\nAnimation, Adventure, Comedy                 9.2   \n4         \\nAction, Crime, Horror                 NaN   \n\n                                            ONE-LINE  \\\n0  \\nA woman with a mysterious illness is forced ...   \n1  \\nThe war for Eternia begins again in what may...   \n2  \\nSheriff Deputy Rick Grimes wakes up from a c...   \n3  \\nAn animated series that follows the exploits...   \n4  \\nA prequel, set before the events of Army of ...   \n\n                                               STARS    VOTES  RunTime Gross  \n0  \\n    Director:\\nPeter Thorwarth\\n| \\n    Star...   21,062    121.0   NaN  \n1  \\n            \\n    Stars:\\nChris Wood, \\nSara...   17,870     25.0   NaN  \n2  \\n            \\n    Stars:\\nAndrew Lincoln, \\n...  885,805     44.0   NaN  \n3  \\n            \\n    Stars:\\nJustin Roiland, \\n...  414,849     23.0   NaN  \n4  \\n    Director:\\nMatthias Schweighöfer\\n| \\n  ...      NaN      NaN   NaN  ",
            "text/html": "<div>\n<style scoped>\n    .dataframe tbody tr th:only-of-type {\n        vertical-align: middle;\n    }\n\n    .dataframe tbody tr th {\n        vertical-align: top;\n    }\n\n    .dataframe thead th {\n        text-align: right;\n    }\n</style>\n<table border=\"1\" class=\"dataframe\">\n  <thead>\n    <tr style=\"text-align: right;\">\n      <th></th>\n      <th>MOVIES</th>\n      <th>YEAR</th>\n      <th>GENRE</th>\n      <th>RATING</th>\n      <th>ONE-LINE</th>\n      <th>STARS</th>\n      <th>VOTES</th>\n      <th>RunTime</th>\n      <th>Gross</th>\n    </tr>\n  </thead>\n  <tbody>\n    <tr>\n      <th>0</th>\n      <td>Blood Red Sky</td>\n      <td>(2021)</td>\n      <td>\\nAction, Horror, Thriller</td>\n      <td>6.1</td>\n      <td>\\nA woman with a mysterious illness is forced ...</td>\n      <td>\\n    Director:\\nPeter Thorwarth\\n| \\n    Star...</td>\n      <td>21,062</td>\n      <td>121.0</td>\n      <td>NaN</td>\n    </tr>\n    <tr>\n      <th>1</th>\n      <td>Masters of the Universe: Revelation</td>\n      <td>(2021– )</td>\n      <td>\\nAnimation, Action, Adventure</td>\n      <td>5.0</td>\n      <td>\\nThe war for Eternia begins again in what may...</td>\n      <td>\\n            \\n    Stars:\\nChris Wood, \\nSara...</td>\n      <td>17,870</td>\n      <td>25.0</td>\n      <td>NaN</td>\n    </tr>\n    <tr>\n      <th>2</th>\n      <td>The Walking Dead</td>\n      <td>(2010–2022)</td>\n      <td>\\nDrama, Horror, Thriller</td>\n      <td>8.2</td>\n      <td>\\nSheriff Deputy Rick Grimes wakes up from a c...</td>\n      <td>\\n            \\n    Stars:\\nAndrew Lincoln, \\n...</td>\n      <td>885,805</td>\n      <td>44.0</td>\n      <td>NaN</td>\n    </tr>\n    <tr>\n      <th>3</th>\n      <td>Rick and Morty</td>\n      <td>(2013– )</td>\n      <td>\\nAnimation, Adventure, Comedy</td>\n      <td>9.2</td>\n      <td>\\nAn animated series that follows the exploits...</td>\n      <td>\\n            \\n    Stars:\\nJustin Roiland, \\n...</td>\n      <td>414,849</td>\n      <td>23.0</td>\n      <td>NaN</td>\n    </tr>\n    <tr>\n      <th>4</th>\n      <td>Army of Thieves</td>\n      <td>(2021)</td>\n      <td>\\nAction, Crime, Horror</td>\n      <td>NaN</td>\n      <td>\\nA prequel, set before the events of Army of ...</td>\n      <td>\\n    Director:\\nMatthias Schweighöfer\\n| \\n  ...</td>\n      <td>NaN</td>\n      <td>NaN</td>\n      <td>NaN</td>\n    </tr>\n  </tbody>\n</table>\n</div>"
          },
          "metadata": {}
        }
      ],
      "execution_count": null
    },
    {
      "cell_type": "code",
      "source": [
        "# Verify the dtypes\n",
        "#df.info()\n",
        "df.isnull().sum() # to check  null vaules\n"
      ],
      "metadata": {
        "trusted": true,
        "execution": {
          "iopub.status.busy": "2024-11-21T08:30:44.607137Z",
          "iopub.execute_input": "2024-11-21T08:30:44.607514Z",
          "iopub.status.idle": "2024-11-21T08:30:44.62037Z",
          "shell.execute_reply.started": "2024-11-21T08:30:44.607478Z",
          "shell.execute_reply": "2024-11-21T08:30:44.61889Z"
        },
        "id": "dXWayFyl-E9Z",
        "outputId": "7846174c-ffb0-42ce-ec75-4e2265c865a9"
      },
      "outputs": [
        {
          "execution_count": 19,
          "output_type": "execute_result",
          "data": {
            "text/plain": "MOVIES         0\nYEAR         644\nGENRE         80\nRATING      1820\nONE-LINE       0\nSTARS          0\nVOTES       1820\nRunTime     2958\nGross       9539\ndtype: int64"
          },
          "metadata": {}
        }
      ],
      "execution_count": null
    },
    {
      "cell_type": "code",
      "source": [
        "#Clean Year column\n",
        "#df['YEAR'] = df['YEAR'].str.strip('()').astype(int)\n",
        "\n",
        "#remove paranthesis left\n",
        "df['YEAR']=df.YEAR.str.replace(\"(\", \"\")\n",
        "#remove paranthesis right\n",
        "df['YEAR']=df.YEAR.str.replace(\")\", \"\")\n",
        "#df.head()\n",
        "#df[\"YEAR\"].fillna(inplace = True)\n",
        "\n",
        "#remove character in middle\n",
        "df['YEAR']=df.YEAR.str.replace(\"–\", \",\")\n",
        "#df.head()\n",
        "\n",
        "restore year column with starting year from the given years\n",
        "df[\"YEAR\"]=df.YEAR.str.split(\",\").str.get(0)\n",
        "df.head()\n"
      ],
      "metadata": {
        "trusted": true,
        "execution": {
          "iopub.status.busy": "2024-11-21T08:31:42.125276Z",
          "iopub.execute_input": "2024-11-21T08:31:42.125638Z",
          "iopub.status.idle": "2024-11-21T08:31:42.16068Z",
          "shell.execute_reply.started": "2024-11-21T08:31:42.125607Z",
          "shell.execute_reply": "2024-11-21T08:31:42.159573Z"
        },
        "id": "5m7yE1MX-E9Z",
        "outputId": "040afa98-25ed-4820-9781-4d51a210583e"
      },
      "outputs": [
        {
          "execution_count": 26,
          "output_type": "execute_result",
          "data": {
            "text/plain": "                                MOVIES  YEAR  \\\n0                        Blood Red Sky  2021   \n1  Masters of the Universe: Revelation  2021   \n2                     The Walking Dead  2010   \n3                       Rick and Morty  2013   \n4                      Army of Thieves  2021   \n\n                                        GENRE  RATING  \\\n0      \\nAction, Horror, Thriller                 6.1   \n1  \\nAnimation, Action, Adventure                 5.0   \n2       \\nDrama, Horror, Thriller                 8.2   \n3  \\nAnimation, Adventure, Comedy                 9.2   \n4         \\nAction, Crime, Horror                 NaN   \n\n                                            ONE-LINE  \\\n0  \\nA woman with a mysterious illness is forced ...   \n1  \\nThe war for Eternia begins again in what may...   \n2  \\nSheriff Deputy Rick Grimes wakes up from a c...   \n3  \\nAn animated series that follows the exploits...   \n4  \\nA prequel, set before the events of Army of ...   \n\n                                               STARS    VOTES  RunTime Gross  \n0  \\n    Director:\\nPeter Thorwarth\\n| \\n    Star...   21,062    121.0   NaN  \n1  \\n            \\n    Stars:\\nChris Wood, \\nSara...   17,870     25.0   NaN  \n2  \\n            \\n    Stars:\\nAndrew Lincoln, \\n...  885,805     44.0   NaN  \n3  \\n            \\n    Stars:\\nJustin Roiland, \\n...  414,849     23.0   NaN  \n4  \\n    Director:\\nMatthias Schweighöfer\\n| \\n  ...      NaN      NaN   NaN  ",
            "text/html": "<div>\n<style scoped>\n    .dataframe tbody tr th:only-of-type {\n        vertical-align: middle;\n    }\n\n    .dataframe tbody tr th {\n        vertical-align: top;\n    }\n\n    .dataframe thead th {\n        text-align: right;\n    }\n</style>\n<table border=\"1\" class=\"dataframe\">\n  <thead>\n    <tr style=\"text-align: right;\">\n      <th></th>\n      <th>MOVIES</th>\n      <th>YEAR</th>\n      <th>GENRE</th>\n      <th>RATING</th>\n      <th>ONE-LINE</th>\n      <th>STARS</th>\n      <th>VOTES</th>\n      <th>RunTime</th>\n      <th>Gross</th>\n    </tr>\n  </thead>\n  <tbody>\n    <tr>\n      <th>0</th>\n      <td>Blood Red Sky</td>\n      <td>2021</td>\n      <td>\\nAction, Horror, Thriller</td>\n      <td>6.1</td>\n      <td>\\nA woman with a mysterious illness is forced ...</td>\n      <td>\\n    Director:\\nPeter Thorwarth\\n| \\n    Star...</td>\n      <td>21,062</td>\n      <td>121.0</td>\n      <td>NaN</td>\n    </tr>\n    <tr>\n      <th>1</th>\n      <td>Masters of the Universe: Revelation</td>\n      <td>2021</td>\n      <td>\\nAnimation, Action, Adventure</td>\n      <td>5.0</td>\n      <td>\\nThe war for Eternia begins again in what may...</td>\n      <td>\\n            \\n    Stars:\\nChris Wood, \\nSara...</td>\n      <td>17,870</td>\n      <td>25.0</td>\n      <td>NaN</td>\n    </tr>\n    <tr>\n      <th>2</th>\n      <td>The Walking Dead</td>\n      <td>2010</td>\n      <td>\\nDrama, Horror, Thriller</td>\n      <td>8.2</td>\n      <td>\\nSheriff Deputy Rick Grimes wakes up from a c...</td>\n      <td>\\n            \\n    Stars:\\nAndrew Lincoln, \\n...</td>\n      <td>885,805</td>\n      <td>44.0</td>\n      <td>NaN</td>\n    </tr>\n    <tr>\n      <th>3</th>\n      <td>Rick and Morty</td>\n      <td>2013</td>\n      <td>\\nAnimation, Adventure, Comedy</td>\n      <td>9.2</td>\n      <td>\\nAn animated series that follows the exploits...</td>\n      <td>\\n            \\n    Stars:\\nJustin Roiland, \\n...</td>\n      <td>414,849</td>\n      <td>23.0</td>\n      <td>NaN</td>\n    </tr>\n    <tr>\n      <th>4</th>\n      <td>Army of Thieves</td>\n      <td>2021</td>\n      <td>\\nAction, Crime, Horror</td>\n      <td>NaN</td>\n      <td>\\nA prequel, set before the events of Army of ...</td>\n      <td>\\n    Director:\\nMatthias Schweighöfer\\n| \\n  ...</td>\n      <td>NaN</td>\n      <td>NaN</td>\n      <td>NaN</td>\n    </tr>\n  </tbody>\n</table>\n</div>"
          },
          "metadata": {}
        }
      ],
      "execution_count": null
    },
    {
      "cell_type": "code",
      "source": [
        "#clean GENRE Column\n",
        "#remove the new line character from the data\n",
        "df['GENRE']=df.GENRE.str.replace(\"\\n\", \"\")\n",
        "df.head()"
      ],
      "metadata": {
        "trusted": true,
        "execution": {
          "iopub.status.busy": "2024-11-21T08:33:13.464675Z",
          "iopub.execute_input": "2024-11-21T08:33:13.465187Z",
          "iopub.status.idle": "2024-11-21T08:33:13.484523Z",
          "shell.execute_reply.started": "2024-11-21T08:33:13.465149Z",
          "shell.execute_reply": "2024-11-21T08:33:13.483329Z"
        },
        "id": "53UmZRMv-E9Z",
        "outputId": "7b587bdc-c49e-42a6-a412-e6e73fee884d"
      },
      "outputs": [
        {
          "execution_count": 28,
          "output_type": "execute_result",
          "data": {
            "text/plain": "                                MOVIES  YEAR  \\\n0                        Blood Red Sky  2021   \n1  Masters of the Universe: Revelation  2021   \n2                     The Walking Dead  2010   \n3                       Rick and Morty  2013   \n4                      Army of Thieves  2021   \n\n                                      GENRE  RATING  \\\n0      Action, Horror, Thriller                 6.1   \n1  Animation, Action, Adventure                 5.0   \n2       Drama, Horror, Thriller                 8.2   \n3  Animation, Adventure, Comedy                 9.2   \n4         Action, Crime, Horror                 NaN   \n\n                                            ONE-LINE  \\\n0  \\nA woman with a mysterious illness is forced ...   \n1  \\nThe war for Eternia begins again in what may...   \n2  \\nSheriff Deputy Rick Grimes wakes up from a c...   \n3  \\nAn animated series that follows the exploits...   \n4  \\nA prequel, set before the events of Army of ...   \n\n                                               STARS    VOTES  RunTime Gross  \n0  \\n    Director:\\nPeter Thorwarth\\n| \\n    Star...   21,062    121.0   NaN  \n1  \\n            \\n    Stars:\\nChris Wood, \\nSara...   17,870     25.0   NaN  \n2  \\n            \\n    Stars:\\nAndrew Lincoln, \\n...  885,805     44.0   NaN  \n3  \\n            \\n    Stars:\\nJustin Roiland, \\n...  414,849     23.0   NaN  \n4  \\n    Director:\\nMatthias Schweighöfer\\n| \\n  ...      NaN      NaN   NaN  ",
            "text/html": "<div>\n<style scoped>\n    .dataframe tbody tr th:only-of-type {\n        vertical-align: middle;\n    }\n\n    .dataframe tbody tr th {\n        vertical-align: top;\n    }\n\n    .dataframe thead th {\n        text-align: right;\n    }\n</style>\n<table border=\"1\" class=\"dataframe\">\n  <thead>\n    <tr style=\"text-align: right;\">\n      <th></th>\n      <th>MOVIES</th>\n      <th>YEAR</th>\n      <th>GENRE</th>\n      <th>RATING</th>\n      <th>ONE-LINE</th>\n      <th>STARS</th>\n      <th>VOTES</th>\n      <th>RunTime</th>\n      <th>Gross</th>\n    </tr>\n  </thead>\n  <tbody>\n    <tr>\n      <th>0</th>\n      <td>Blood Red Sky</td>\n      <td>2021</td>\n      <td>Action, Horror, Thriller</td>\n      <td>6.1</td>\n      <td>\\nA woman with a mysterious illness is forced ...</td>\n      <td>\\n    Director:\\nPeter Thorwarth\\n| \\n    Star...</td>\n      <td>21,062</td>\n      <td>121.0</td>\n      <td>NaN</td>\n    </tr>\n    <tr>\n      <th>1</th>\n      <td>Masters of the Universe: Revelation</td>\n      <td>2021</td>\n      <td>Animation, Action, Adventure</td>\n      <td>5.0</td>\n      <td>\\nThe war for Eternia begins again in what may...</td>\n      <td>\\n            \\n    Stars:\\nChris Wood, \\nSara...</td>\n      <td>17,870</td>\n      <td>25.0</td>\n      <td>NaN</td>\n    </tr>\n    <tr>\n      <th>2</th>\n      <td>The Walking Dead</td>\n      <td>2010</td>\n      <td>Drama, Horror, Thriller</td>\n      <td>8.2</td>\n      <td>\\nSheriff Deputy Rick Grimes wakes up from a c...</td>\n      <td>\\n            \\n    Stars:\\nAndrew Lincoln, \\n...</td>\n      <td>885,805</td>\n      <td>44.0</td>\n      <td>NaN</td>\n    </tr>\n    <tr>\n      <th>3</th>\n      <td>Rick and Morty</td>\n      <td>2013</td>\n      <td>Animation, Adventure, Comedy</td>\n      <td>9.2</td>\n      <td>\\nAn animated series that follows the exploits...</td>\n      <td>\\n            \\n    Stars:\\nJustin Roiland, \\n...</td>\n      <td>414,849</td>\n      <td>23.0</td>\n      <td>NaN</td>\n    </tr>\n    <tr>\n      <th>4</th>\n      <td>Army of Thieves</td>\n      <td>2021</td>\n      <td>Action, Crime, Horror</td>\n      <td>NaN</td>\n      <td>\\nA prequel, set before the events of Army of ...</td>\n      <td>\\n    Director:\\nMatthias Schweighöfer\\n| \\n  ...</td>\n      <td>NaN</td>\n      <td>NaN</td>\n      <td>NaN</td>\n    </tr>\n  </tbody>\n</table>\n</div>"
          },
          "metadata": {}
        }
      ],
      "execution_count": null
    },
    {
      "cell_type": "code",
      "source": [
        "#clean ONE-LINE Column\n",
        "\n",
        "#rename the coulmn name as ONE_LINE\n",
        "df = df.rename(columns={'ONE-LINE': 'ONE_LINE'})\n",
        "#df.head()\n",
        "\n",
        "#remove new line character from the data\n",
        "df['ONE_LINE']=df.ONE_LINE.str.replace(\"\\n\", \"\")\n",
        "df.head()"
      ],
      "metadata": {
        "trusted": true,
        "execution": {
          "iopub.status.busy": "2024-11-21T09:04:18.869494Z",
          "iopub.execute_input": "2024-11-21T09:04:18.869906Z",
          "iopub.status.idle": "2024-11-21T09:04:18.888971Z",
          "shell.execute_reply.started": "2024-11-21T09:04:18.86987Z",
          "shell.execute_reply": "2024-11-21T09:04:18.887831Z"
        },
        "id": "IbT0YRwP-E9Z",
        "outputId": "ab96a9da-e5e3-4430-f798-2a9faea3ff99"
      },
      "outputs": [
        {
          "execution_count": 39,
          "output_type": "execute_result",
          "data": {
            "text/plain": "                                                MOVIES    YEAR  \\\n77                              The Hitman's Bodyguard    2017   \n85                                       Jurassic Park    1993   \n95                                       Don't Breathe    2016   \n111  The Lord of the Rings: The Fellowship of the Ring    2001   \n125                                        Escape Room  I 2019   \n\n                                     GENRE  RATING  \\\n77       Action, Comedy, Crime                 6.9   \n85   Action, Adventure, Sci-Fi                 8.1   \n95     Crime, Horror, Thriller                 7.1   \n111   Action, Adventure, Drama                 8.8   \n125  Action, Adventure, Horror                 6.4   \n\n                                              ONE_LINE  \\\n77   The world's top bodyguard gets a new client, a...   \n85   A pragmatic paleontologist visiting an almost ...   \n95   Hoping to walk away with a massive fortune, a ...   \n111  A meek Hobbit from the Shire and eight compani...   \n125  Six strangers find themselves in a maze of dea...   \n\n                                                 STARS      VOTES  RunTime  \\\n77       Director:Patrick Hughes and      Stars:Rya...    205,979    118.0   \n85       Director:Steven Spielberg and      Stars:S...    897,444    127.0   \n95       Director:Fede Alvarez and      Stars:Steph...    237,601     88.0   \n111      Director:Peter Jackson and      Stars:Elij...  1,713,028    178.0   \n125      Director:Adam Robitel and      Stars:Taylo...     99,351     99.0   \n\n        Gross  \n77    $75.47M  \n85   $402.45M  \n95    $89.22M  \n111  $315.54M  \n125   $57.01M  ",
            "text/html": "<div>\n<style scoped>\n    .dataframe tbody tr th:only-of-type {\n        vertical-align: middle;\n    }\n\n    .dataframe tbody tr th {\n        vertical-align: top;\n    }\n\n    .dataframe thead th {\n        text-align: right;\n    }\n</style>\n<table border=\"1\" class=\"dataframe\">\n  <thead>\n    <tr style=\"text-align: right;\">\n      <th></th>\n      <th>MOVIES</th>\n      <th>YEAR</th>\n      <th>GENRE</th>\n      <th>RATING</th>\n      <th>ONE_LINE</th>\n      <th>STARS</th>\n      <th>VOTES</th>\n      <th>RunTime</th>\n      <th>Gross</th>\n    </tr>\n  </thead>\n  <tbody>\n    <tr>\n      <th>77</th>\n      <td>The Hitman's Bodyguard</td>\n      <td>2017</td>\n      <td>Action, Comedy, Crime</td>\n      <td>6.9</td>\n      <td>The world's top bodyguard gets a new client, a...</td>\n      <td>Director:Patrick Hughes and      Stars:Rya...</td>\n      <td>205,979</td>\n      <td>118.0</td>\n      <td>$75.47M</td>\n    </tr>\n    <tr>\n      <th>85</th>\n      <td>Jurassic Park</td>\n      <td>1993</td>\n      <td>Action, Adventure, Sci-Fi</td>\n      <td>8.1</td>\n      <td>A pragmatic paleontologist visiting an almost ...</td>\n      <td>Director:Steven Spielberg and      Stars:S...</td>\n      <td>897,444</td>\n      <td>127.0</td>\n      <td>$402.45M</td>\n    </tr>\n    <tr>\n      <th>95</th>\n      <td>Don't Breathe</td>\n      <td>2016</td>\n      <td>Crime, Horror, Thriller</td>\n      <td>7.1</td>\n      <td>Hoping to walk away with a massive fortune, a ...</td>\n      <td>Director:Fede Alvarez and      Stars:Steph...</td>\n      <td>237,601</td>\n      <td>88.0</td>\n      <td>$89.22M</td>\n    </tr>\n    <tr>\n      <th>111</th>\n      <td>The Lord of the Rings: The Fellowship of the Ring</td>\n      <td>2001</td>\n      <td>Action, Adventure, Drama</td>\n      <td>8.8</td>\n      <td>A meek Hobbit from the Shire and eight compani...</td>\n      <td>Director:Peter Jackson and      Stars:Elij...</td>\n      <td>1,713,028</td>\n      <td>178.0</td>\n      <td>$315.54M</td>\n    </tr>\n    <tr>\n      <th>125</th>\n      <td>Escape Room</td>\n      <td>I 2019</td>\n      <td>Action, Adventure, Horror</td>\n      <td>6.4</td>\n      <td>Six strangers find themselves in a maze of dea...</td>\n      <td>Director:Adam Robitel and      Stars:Taylo...</td>\n      <td>99,351</td>\n      <td>99.0</td>\n      <td>$57.01M</td>\n    </tr>\n  </tbody>\n</table>\n</div>"
          },
          "metadata": {}
        }
      ],
      "execution_count": null
    },
    {
      "cell_type": "code",
      "source": [
        "#clean STARS Column\n",
        "\n",
        "#rename the coulmn name as Cast\n",
        "df = df.rename(columns={'STARS': 'CAST'})\n",
        "#replace | characcter with and\n",
        "df['CAST']=df.CAST.str.replace(\"|\", \" and \")\n",
        "df.tail()\n",
        "#remove the new line character from the data\n",
        "df['CAST']=df.CAST.str.replace(\"\\n\", \"\")\n",
        "df.head()\n",
        "#df['STARS']=df.STARS.str.replace(\"\\n\", \"\")"
      ],
      "metadata": {
        "trusted": true,
        "execution": {
          "iopub.status.busy": "2024-11-21T09:04:45.37647Z",
          "iopub.execute_input": "2024-11-21T09:04:45.376915Z",
          "iopub.status.idle": "2024-11-21T09:04:45.395919Z",
          "shell.execute_reply.started": "2024-11-21T09:04:45.376818Z",
          "shell.execute_reply": "2024-11-21T09:04:45.394934Z"
        },
        "id": "PcRR9m2H-E9Z",
        "outputId": "bed528bb-37a3-4b32-9473-8dee364838e6"
      },
      "outputs": [
        {
          "execution_count": 41,
          "output_type": "execute_result",
          "data": {
            "text/plain": "                                                MOVIES    YEAR  \\\n77                              The Hitman's Bodyguard    2017   \n85                                       Jurassic Park    1993   \n95                                       Don't Breathe    2016   \n111  The Lord of the Rings: The Fellowship of the Ring    2001   \n125                                        Escape Room  I 2019   \n\n                                     GENRE  RATING  \\\n77       Action, Comedy, Crime                 6.9   \n85   Action, Adventure, Sci-Fi                 8.1   \n95     Crime, Horror, Thriller                 7.1   \n111   Action, Adventure, Drama                 8.8   \n125  Action, Adventure, Horror                 6.4   \n\n                                              ONE_LINE  \\\n77   The world's top bodyguard gets a new client, a...   \n85   A pragmatic paleontologist visiting an almost ...   \n95   Hoping to walk away with a massive fortune, a ...   \n111  A meek Hobbit from the Shire and eight compani...   \n125  Six strangers find themselves in a maze of dea...   \n\n                                                  CAST      VOTES  RunTime  \\\n77       Director:Patrick Hughes and      Stars:Rya...    205,979    118.0   \n85       Director:Steven Spielberg and      Stars:S...    897,444    127.0   \n95       Director:Fede Alvarez and      Stars:Steph...    237,601     88.0   \n111      Director:Peter Jackson and      Stars:Elij...  1,713,028    178.0   \n125      Director:Adam Robitel and      Stars:Taylo...     99,351     99.0   \n\n        Gross  \n77    $75.47M  \n85   $402.45M  \n95    $89.22M  \n111  $315.54M  \n125   $57.01M  ",
            "text/html": "<div>\n<style scoped>\n    .dataframe tbody tr th:only-of-type {\n        vertical-align: middle;\n    }\n\n    .dataframe tbody tr th {\n        vertical-align: top;\n    }\n\n    .dataframe thead th {\n        text-align: right;\n    }\n</style>\n<table border=\"1\" class=\"dataframe\">\n  <thead>\n    <tr style=\"text-align: right;\">\n      <th></th>\n      <th>MOVIES</th>\n      <th>YEAR</th>\n      <th>GENRE</th>\n      <th>RATING</th>\n      <th>ONE_LINE</th>\n      <th>CAST</th>\n      <th>VOTES</th>\n      <th>RunTime</th>\n      <th>Gross</th>\n    </tr>\n  </thead>\n  <tbody>\n    <tr>\n      <th>77</th>\n      <td>The Hitman's Bodyguard</td>\n      <td>2017</td>\n      <td>Action, Comedy, Crime</td>\n      <td>6.9</td>\n      <td>The world's top bodyguard gets a new client, a...</td>\n      <td>Director:Patrick Hughes and      Stars:Rya...</td>\n      <td>205,979</td>\n      <td>118.0</td>\n      <td>$75.47M</td>\n    </tr>\n    <tr>\n      <th>85</th>\n      <td>Jurassic Park</td>\n      <td>1993</td>\n      <td>Action, Adventure, Sci-Fi</td>\n      <td>8.1</td>\n      <td>A pragmatic paleontologist visiting an almost ...</td>\n      <td>Director:Steven Spielberg and      Stars:S...</td>\n      <td>897,444</td>\n      <td>127.0</td>\n      <td>$402.45M</td>\n    </tr>\n    <tr>\n      <th>95</th>\n      <td>Don't Breathe</td>\n      <td>2016</td>\n      <td>Crime, Horror, Thriller</td>\n      <td>7.1</td>\n      <td>Hoping to walk away with a massive fortune, a ...</td>\n      <td>Director:Fede Alvarez and      Stars:Steph...</td>\n      <td>237,601</td>\n      <td>88.0</td>\n      <td>$89.22M</td>\n    </tr>\n    <tr>\n      <th>111</th>\n      <td>The Lord of the Rings: The Fellowship of the Ring</td>\n      <td>2001</td>\n      <td>Action, Adventure, Drama</td>\n      <td>8.8</td>\n      <td>A meek Hobbit from the Shire and eight compani...</td>\n      <td>Director:Peter Jackson and      Stars:Elij...</td>\n      <td>1,713,028</td>\n      <td>178.0</td>\n      <td>$315.54M</td>\n    </tr>\n    <tr>\n      <th>125</th>\n      <td>Escape Room</td>\n      <td>I 2019</td>\n      <td>Action, Adventure, Horror</td>\n      <td>6.4</td>\n      <td>Six strangers find themselves in a maze of dea...</td>\n      <td>Director:Adam Robitel and      Stars:Taylo...</td>\n      <td>99,351</td>\n      <td>99.0</td>\n      <td>$57.01M</td>\n    </tr>\n  </tbody>\n</table>\n</div>"
          },
          "metadata": {}
        }
      ],
      "execution_count": null
    },
    {
      "cell_type": "code",
      "source": [
        "#clean Gross Column\n",
        "\n",
        "#df=df.dropna(subset=['Gross'])\n",
        "#df.shape\n",
        "df=df.dropna(subset=['Gross'])\n",
        "df.drop(df.loc[df['Gross'] == 'NaN'].index, inplace=True)\n",
        "#df.shape\n",
        "df.head()"
      ],
      "metadata": {
        "trusted": true,
        "execution": {
          "iopub.status.busy": "2024-11-21T09:03:02.731421Z",
          "iopub.execute_input": "2024-11-21T09:03:02.731789Z",
          "iopub.status.idle": "2024-11-21T09:03:02.751487Z",
          "shell.execute_reply.started": "2024-11-21T09:03:02.731756Z",
          "shell.execute_reply": "2024-11-21T09:03:02.750257Z"
        },
        "id": "4DMG5GMp-E9a",
        "outputId": "c3931ebe-fc4a-47fd-f490-bd226ac74212"
      },
      "outputs": [
        {
          "execution_count": 38,
          "output_type": "execute_result",
          "data": {
            "text/plain": "                                                MOVIES    YEAR  \\\n77                              The Hitman's Bodyguard    2017   \n85                                       Jurassic Park    1993   \n95                                       Don't Breathe    2016   \n111  The Lord of the Rings: The Fellowship of the Ring    2001   \n125                                        Escape Room  I 2019   \n\n                                     GENRE  RATING  \\\n77       Action, Comedy, Crime                 6.9   \n85   Action, Adventure, Sci-Fi                 8.1   \n95     Crime, Horror, Thriller                 7.1   \n111   Action, Adventure, Drama                 8.8   \n125  Action, Adventure, Horror                 6.4   \n\n                                              ONE_LINE  \\\n77   The world's top bodyguard gets a new client, a...   \n85   A pragmatic paleontologist visiting an almost ...   \n95   Hoping to walk away with a massive fortune, a ...   \n111  A meek Hobbit from the Shire and eight compani...   \n125  Six strangers find themselves in a maze of dea...   \n\n                                                 STARS      VOTES  RunTime  \\\n77       Director:Patrick Hughes and      Stars:Rya...    205,979    118.0   \n85       Director:Steven Spielberg and      Stars:S...    897,444    127.0   \n95       Director:Fede Alvarez and      Stars:Steph...    237,601     88.0   \n111      Director:Peter Jackson and      Stars:Elij...  1,713,028    178.0   \n125      Director:Adam Robitel and      Stars:Taylo...     99,351     99.0   \n\n        Gross  \n77    $75.47M  \n85   $402.45M  \n95    $89.22M  \n111  $315.54M  \n125   $57.01M  ",
            "text/html": "<div>\n<style scoped>\n    .dataframe tbody tr th:only-of-type {\n        vertical-align: middle;\n    }\n\n    .dataframe tbody tr th {\n        vertical-align: top;\n    }\n\n    .dataframe thead th {\n        text-align: right;\n    }\n</style>\n<table border=\"1\" class=\"dataframe\">\n  <thead>\n    <tr style=\"text-align: right;\">\n      <th></th>\n      <th>MOVIES</th>\n      <th>YEAR</th>\n      <th>GENRE</th>\n      <th>RATING</th>\n      <th>ONE_LINE</th>\n      <th>STARS</th>\n      <th>VOTES</th>\n      <th>RunTime</th>\n      <th>Gross</th>\n    </tr>\n  </thead>\n  <tbody>\n    <tr>\n      <th>77</th>\n      <td>The Hitman's Bodyguard</td>\n      <td>2017</td>\n      <td>Action, Comedy, Crime</td>\n      <td>6.9</td>\n      <td>The world's top bodyguard gets a new client, a...</td>\n      <td>Director:Patrick Hughes and      Stars:Rya...</td>\n      <td>205,979</td>\n      <td>118.0</td>\n      <td>$75.47M</td>\n    </tr>\n    <tr>\n      <th>85</th>\n      <td>Jurassic Park</td>\n      <td>1993</td>\n      <td>Action, Adventure, Sci-Fi</td>\n      <td>8.1</td>\n      <td>A pragmatic paleontologist visiting an almost ...</td>\n      <td>Director:Steven Spielberg and      Stars:S...</td>\n      <td>897,444</td>\n      <td>127.0</td>\n      <td>$402.45M</td>\n    </tr>\n    <tr>\n      <th>95</th>\n      <td>Don't Breathe</td>\n      <td>2016</td>\n      <td>Crime, Horror, Thriller</td>\n      <td>7.1</td>\n      <td>Hoping to walk away with a massive fortune, a ...</td>\n      <td>Director:Fede Alvarez and      Stars:Steph...</td>\n      <td>237,601</td>\n      <td>88.0</td>\n      <td>$89.22M</td>\n    </tr>\n    <tr>\n      <th>111</th>\n      <td>The Lord of the Rings: The Fellowship of the Ring</td>\n      <td>2001</td>\n      <td>Action, Adventure, Drama</td>\n      <td>8.8</td>\n      <td>A meek Hobbit from the Shire and eight compani...</td>\n      <td>Director:Peter Jackson and      Stars:Elij...</td>\n      <td>1,713,028</td>\n      <td>178.0</td>\n      <td>$315.54M</td>\n    </tr>\n    <tr>\n      <th>125</th>\n      <td>Escape Room</td>\n      <td>I 2019</td>\n      <td>Action, Adventure, Horror</td>\n      <td>6.4</td>\n      <td>Six strangers find themselves in a maze of dea...</td>\n      <td>Director:Adam Robitel and      Stars:Taylo...</td>\n      <td>99,351</td>\n      <td>99.0</td>\n      <td>$57.01M</td>\n    </tr>\n  </tbody>\n</table>\n</div>"
          },
          "metadata": {}
        }
      ],
      "execution_count": null
    },
    {
      "cell_type": "code",
      "source": [],
      "metadata": {
        "trusted": true,
        "id": "ZSecl6_w-E9a"
      },
      "outputs": [],
      "execution_count": null
    },
    {
      "cell_type": "code",
      "source": [
        "#Clean Year column\n",
        "#df['YEAR'] = df['YEAR'].str.strip('()').astype(int)\n",
        "\n",
        "df['YEAR']=df.YEAR.str.replace(\"(\", \"\")\n",
        "df['YEAR']=df.YEAR.str.replace(\")\", \"\")\n",
        "df[\"YEAR\"].fillna(\"NaN\", inplace = True)\n",
        "\n",
        "df['YEAR']=df.YEAR.str.replace(\"–\", \",\")\n",
        "df[\"YEAR\"]=df.YEAR.str.split(\",\").str.get(0)\n",
        "\n",
        "\n",
        "#df.tail(90)\n",
        "df.isnull().sum() # to check  null vaules\n",
        "df[\"YEAR\"].fillna(\"NaN\", inplace = True)\n",
        "df[\"RATING\"].fillna(\"No Rating\", inplace = True)\n",
        "df[\"VOTES\"].fillna(\"No Votes\", inplace = True)\n",
        "df[\"RunTime\"].fillna(\"NaN\", inplace = True)\n",
        "df[\"GENRE\"].fillna(\"NaN\", inplace = True)\n",
        "df[\"Gross\"].fillna(\"NaN\", inplace = True)\n",
        "#df[\"YEAR_END\"].fillna(\"No Votes\", inplace = True)\n",
        "df['STARS']=df.STARS.str.replace(\"|\", \" and \")\n",
        "df.tail(90)\n",
        "df['STARS']=df.STARS.str.replace(\"\\n\", \"\")\n",
        "df['GENRE']=df.GENRE.str.replace(\"\\n\", \"\")\n",
        "df = df.rename(columns={'ONE-LINE': 'ONE_LINE'})\n",
        "\n",
        "df['ONE_LINE']=df.ONE_LINE.str.replace(\"\\n\", \"\")\n",
        "df['YEAR']=df.YEAR.str.replace(\"–\", \",\")\n",
        "df[\"YEAR\"]=df.YEAR.str.split(\",\").str.get(0)\n",
        "\n",
        "\n",
        "#df.head()\n",
        "\n",
        "\n",
        "df=df.dropna(subset=['Gross'])\n",
        "df.drop(df.loc[df['Gross'] == 'NaN'].index, inplace=True)\n",
        "#df.shape"
      ],
      "metadata": {
        "trusted": true,
        "execution": {
          "iopub.status.busy": "2024-11-21T08:21:08.603697Z",
          "iopub.execute_input": "2024-11-21T08:21:08.604084Z",
          "iopub.status.idle": "2024-11-21T08:21:08.623307Z",
          "shell.execute_reply.started": "2024-11-21T08:21:08.60404Z",
          "shell.execute_reply": "2024-11-21T08:21:08.62143Z"
        },
        "id": "jI2XcpS7-E9a"
      },
      "outputs": [],
      "execution_count": null
    },
    {
      "cell_type": "code",
      "source": [
        "#df[\"YEAR_START\"] = df[\"YEAR_START\"].astype(int)\n",
        "\n",
        "def clean_year_start(x):\n",
        "    x=x.replace(\"(\",\"\")\n",
        "    x=x.replace(\")\",\"\")\n",
        "    x=x.replace(\"-\",\"\")\n",
        "    return x\n",
        "#df[\"YEAR_START\"]=df[\"YEAR\"].astype(int).apply(clean_year_start)\n",
        "\n",
        ""
      ],
      "metadata": {
        "trusted": true,
        "execution": {
          "iopub.status.busy": "2024-11-21T08:11:49.933461Z",
          "iopub.execute_input": "2024-11-21T08:11:49.933803Z",
          "iopub.status.idle": "2024-11-21T08:11:49.939554Z",
          "shell.execute_reply.started": "2024-11-21T08:11:49.933769Z",
          "shell.execute_reply": "2024-11-21T08:11:49.938386Z"
        },
        "id": "exA5_1wz-E9a"
      },
      "outputs": [],
      "execution_count": null
    }
  ]
}